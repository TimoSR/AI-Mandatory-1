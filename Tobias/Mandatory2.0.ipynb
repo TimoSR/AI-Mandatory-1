{
 "cells": [
  {
   "cell_type": "code",
   "execution_count": 1,
   "id": "36c76c50-aa19-4ad0-89ef-38bad6fceae8",
   "metadata": {
    "tags": []
   },
   "outputs": [],
   "source": [
    "import os\n",
    "import tarfile\n",
    "import urllib.request\n",
    "import pandas as pd\n",
    "import numpy as np\n",
    "\n",
    "# data without None Values\n",
    "video_games = pd.read_csv('processed_video_games_data.csv')"
   ]
  },
  {
   "cell_type": "code",
   "execution_count": 2,
   "id": "104ea695-3546-454e-b745-adc9fe0f2014",
   "metadata": {
    "tags": []
   },
   "outputs": [],
   "source": [
    "np.random.seed(42)"
   ]
  },
  {
   "cell_type": "code",
   "execution_count": null,
   "id": "512fd6ae-7501-4432-b201-ebf43abc4993",
   "metadata": {
    "tags": []
   },
   "outputs": [],
   "source": []
  },
  {
   "cell_type": "code",
   "execution_count": 3,
   "id": "c00d39d3-ba77-46c5-9987-22eb71a2488a",
   "metadata": {
    "tags": []
   },
   "outputs": [],
   "source": [
    "X = video_games.drop(columns=[\"Global_Sales\"])\n",
    "y = video_games[\"Global_Sales\"]"
   ]
  },
  {
   "cell_type": "code",
   "execution_count": 4,
   "id": "f89f6fd2-0073-41ab-a7a7-e28b4988d57d",
   "metadata": {
    "tags": []
   },
   "outputs": [],
   "source": [
    "m = len(video_games)\n",
    "split_train = int(m * 0.7)\n",
    "split_val = int(m * 0.15 + split_train)\n",
    "split_test = int(m * 0.15 + split_val)\n",
    "\n",
    "\n",
    "X_train, y_train = X[:split_train], y[:split_train]\n",
    "X_val, y_val = X[split_train:split_val], y[split_train:split_val]\n",
    "X_test, y_test = X[split_val:split_test], y[split_val:split_test]"
   ]
  },
  {
   "cell_type": "code",
   "execution_count": 5,
   "id": "a3566e93-5273-473f-9f5f-2c694eae004f",
   "metadata": {
    "tags": []
   },
   "outputs": [
    {
     "data": {
      "text/plain": [
       "4777"
      ]
     },
     "execution_count": 5,
     "metadata": {},
     "output_type": "execute_result"
    }
   ],
   "source": [
    "len(X_train)"
   ]
  },
  {
   "cell_type": "markdown",
   "id": "92c02cf3-776b-4cd8-95df-084e237737a6",
   "metadata": {},
   "source": [
    "## stratifying data set"
   ]
  },
  {
   "cell_type": "code",
   "execution_count": 6,
   "id": "3dca3f48-bacf-4bc8-a520-7722064b3ece",
   "metadata": {
    "tags": []
   },
   "outputs": [],
   "source": [
    "video_games[\"Global_Sales_cat\"] = pd.cut(video_games[\"Global_Sales\"], \n",
    "                                         bins =[0.0,0.1,0.2,0.3,0.4,0.5,0.6,0.7,0.8,0.9,1,10,20,30,np.inf], \n",
    "                                         labels=[1,2,3,4,5,6,7,8,9,10,11,12,13,14])"
   ]
  },
  {
   "cell_type": "code",
   "execution_count": 7,
   "id": "9d22d21e-4887-4811-ace0-0beb6eb8103b",
   "metadata": {
    "tags": []
   },
   "outputs": [
    {
     "data": {
      "text/plain": [
       "Global_Sales_cat\n",
       "1     1601\n",
       "11    1267\n",
       "2     1146\n",
       "3      739\n",
       "4      510\n",
       "5      408\n",
       "6      358\n",
       "7      243\n",
       "8      204\n",
       "9      166\n",
       "10     143\n",
       "12      27\n",
       "13      10\n",
       "14       3\n",
       "Name: count, dtype: int64"
      ]
     },
     "execution_count": 7,
     "metadata": {},
     "output_type": "execute_result"
    }
   ],
   "source": [
    "video_games[\"Global_Sales_cat\"].value_counts()\n"
   ]
  },
  {
   "cell_type": "code",
   "execution_count": 8,
   "id": "daf9af6f-23eb-41f4-ae83-3613d1764a85",
   "metadata": {
    "tags": []
   },
   "outputs": [
    {
     "data": {
      "text/plain": [
       "<Axes: >"
      ]
     },
     "execution_count": 8,
     "metadata": {},
     "output_type": "execute_result"
    },
    {
     "data": {
      "image/png": "[encoded data removed]",
      "text/plain": [
       "<Figure size 640x480 with 1 Axes>"
      ]
     },
     "metadata": {},
     "output_type": "display_data"
    }
   ],
   "source": [
    "video_games[\"Global_Sales_cat\"].hist()"
   ]
  },
  {
   "cell_type": "code",
   "execution_count": 9,
   "id": "066f5caa-87c2-4038-9706-34031599a099",
   "metadata": {
    "tags": []
   },
   "outputs": [
    {
     "name": "stdout",
     "output_type": "stream",
     "text": [
      "Requirement already satisfied: pip in /Users/tobiaspoulsen/Library/Caches/pypoetry/virtualenvs/tobias-ZyYwskrO-py3.9/lib/python3.9/site-packages (23.1)\n",
      "Note: you may need to restart the kernel to use updated packages.\n"
     ]
    }
   ],
   "source": [
    "pip install --upgrade pip"
   ]
  },
  {
   "cell_type": "code",
   "execution_count": null,
   "id": "7816d1e6-dd20-458e-a875-ed34454ae9a2",
   "metadata": {
    "tags": []
   },
   "outputs": [],
   "source": []
  },
  {
   "cell_type": "code",
   "execution_count": 10,
   "id": "3572b480-1805-47a0-8d58-bb0c4dc116ea",
   "metadata": {
    "tags": []
   },
   "outputs": [],
   "source": [
    "from sklearn.model_selection import StratifiedShuffleSplit\n",
    "\n",
    "split = StratifiedShuffleSplit(n_splits=1, test_size=0.2, random_state=42)\n",
    "for train_index, test_index in split.split(video_games, video_games[\"Global_Sales_cat\"]):\n",
    "    strat_train_set = video_games.loc[train_index]\n",
    "    strat_test_set = video_games.loc[test_index]"
   ]
  },
  {
   "cell_type": "code",
   "execution_count": 11,
   "id": "bae9a16b-4a18-4b73-9282-c67f456d792a",
   "metadata": {
    "tags": []
   },
   "outputs": [
    {
     "data": {
      "text/plain": [
       "Global_Sales_cat\n",
       "1     0.234432\n",
       "11    0.185348\n",
       "2     0.167766\n",
       "3     0.108425\n",
       "4     0.074725\n",
       "5     0.060073\n",
       "6     0.052747\n",
       "7     0.035165\n",
       "8     0.030037\n",
       "9     0.024176\n",
       "10    0.021245\n",
       "12    0.003663\n",
       "13    0.001465\n",
       "14    0.000733\n",
       "Name: count, dtype: float64"
      ]
     },
     "execution_count": 11,
     "metadata": {},
     "output_type": "execute_result"
    }
   ],
   "source": [
    "strat_test_set[\"Global_Sales_cat\"].value_counts() / len(strat_test_set)\n"
   ]
  },
  {
   "cell_type": "code",
   "execution_count": 12,
   "id": "c0d654c6-fc15-4400-be7a-9b45a5f1c214",
   "metadata": {
    "tags": []
   },
   "outputs": [
    {
     "data": {
      "text/plain": [
       "Global_Sales_cat\n",
       "1     0.234579\n",
       "11    0.185641\n",
       "2     0.167912\n",
       "3     0.108278\n",
       "4     0.074725\n",
       "5     0.059780\n",
       "6     0.052454\n",
       "7     0.035604\n",
       "8     0.029890\n",
       "9     0.024322\n",
       "10    0.020952\n",
       "12    0.003956\n",
       "13    0.001465\n",
       "14    0.000440\n",
       "Name: count, dtype: float64"
      ]
     },
     "execution_count": 12,
     "metadata": {},
     "output_type": "execute_result"
    }
   ],
   "source": [
    "video_games[\"Global_Sales_cat\"].value_counts() / len(video_games)\n"
   ]
  },
  {
   "cell_type": "code",
   "execution_count": 13,
   "id": "22eadaad-af1c-4015-a25f-9dd38343f3c9",
   "metadata": {
    "tags": []
   },
   "outputs": [],
   "source": [
    "from sklearn.model_selection import train_test_split"
   ]
  },
  {
   "cell_type": "code",
   "execution_count": 14,
   "id": "ad7c3b14-0d3d-42ec-ae2f-b66846ec9038",
   "metadata": {
    "tags": []
   },
   "outputs": [],
   "source": [
    "def income_cat_proportions(data):\n",
    "    return data[\"Global_Sales_cat\"].value_counts() / len(data)\n",
    "\n",
    "train_set, test_set = train_test_split(video_games, test_size=0.2, random_state=42)\n",
    "\n",
    "compare_props = pd.DataFrame({\n",
    "    \"Overall\": income_cat_proportions(video_games),\n",
    "    \"Stratified\": income_cat_proportions(strat_test_set),\n",
    "    \"Random\": income_cat_proportions(test_set),\n",
    "}).sort_index()\n",
    "compare_props[\"Rand. %error\"] = 100 * compare_props[\"Random\"] / compare_props[\"Overall\"] - 100\n",
    "compare_props[\"Strat. %error\"] = 100 * compare_props[\"Stratified\"] / compare_props[\"Overall\"] - 100"
   ]
  },
  {
   "cell_type": "code",
   "execution_count": 15,
   "id": "697ddbb9-0301-44d2-bf79-c6fd78b4c69e",
   "metadata": {
    "tags": []
   },
   "outputs": [
    {
     "data": {
      "text/html": [
       "<div>\n",
       "<style scoped>\n",
       "    .dataframe tbody tr th:only-of-type {\n",
       "        vertical-align: middle;\n",
       "    }\n",
       "\n",
       "    .dataframe tbody tr th {\n",
       "        vertical-align: top;\n",
       "    }\n",
       "\n",
       "    .dataframe thead th {\n",
       "        text-align: right;\n",
       "    }\n",
       "</style>\n",
       "<table border=\"1\" class=\"dataframe\">\n",
       "  <thead>\n",
       "    <tr style=\"text-align: right;\">\n",
       "      <th></th>\n",
       "      <th>Overall</th>\n",
       "      <th>Stratified</th>\n",
       "      <th>Random</th>\n",
       "      <th>Rand. %error</th>\n",
       "      <th>Strat. %error</th>\n",
       "    </tr>\n",
       "    <tr>\n",
       "      <th>Global_Sales_cat</th>\n",
       "      <th></th>\n",
       "      <th></th>\n",
       "      <th></th>\n",
       "      <th></th>\n",
       "      <th></th>\n",
       "    </tr>\n",
       "  </thead>\n",
       "  <tbody>\n",
       "    <tr>\n",
       "      <th>1</th>\n",
       "      <td>0.234579</td>\n",
       "      <td>0.234432</td>\n",
       "      <td>0.237363</td>\n",
       "      <td>1.186758</td>\n",
       "      <td>-0.062461</td>\n",
       "    </tr>\n",
       "    <tr>\n",
       "      <th>2</th>\n",
       "      <td>0.167912</td>\n",
       "      <td>0.167766</td>\n",
       "      <td>0.153846</td>\n",
       "      <td>-8.376963</td>\n",
       "      <td>-0.087260</td>\n",
       "    </tr>\n",
       "    <tr>\n",
       "      <th>3</th>\n",
       "      <td>0.108278</td>\n",
       "      <td>0.108425</td>\n",
       "      <td>0.101099</td>\n",
       "      <td>-6.630582</td>\n",
       "      <td>0.135318</td>\n",
       "    </tr>\n",
       "    <tr>\n",
       "      <th>4</th>\n",
       "      <td>0.074725</td>\n",
       "      <td>0.074725</td>\n",
       "      <td>0.084982</td>\n",
       "      <td>13.725490</td>\n",
       "      <td>0.000000</td>\n",
       "    </tr>\n",
       "    <tr>\n",
       "      <th>5</th>\n",
       "      <td>0.059780</td>\n",
       "      <td>0.060073</td>\n",
       "      <td>0.054945</td>\n",
       "      <td>-8.088235</td>\n",
       "      <td>0.490196</td>\n",
       "    </tr>\n",
       "    <tr>\n",
       "      <th>6</th>\n",
       "      <td>0.052454</td>\n",
       "      <td>0.052747</td>\n",
       "      <td>0.057875</td>\n",
       "      <td>10.335196</td>\n",
       "      <td>0.558659</td>\n",
       "    </tr>\n",
       "    <tr>\n",
       "      <th>7</th>\n",
       "      <td>0.035604</td>\n",
       "      <td>0.035165</td>\n",
       "      <td>0.027106</td>\n",
       "      <td>-23.868313</td>\n",
       "      <td>-1.234568</td>\n",
       "    </tr>\n",
       "    <tr>\n",
       "      <th>8</th>\n",
       "      <td>0.029890</td>\n",
       "      <td>0.030037</td>\n",
       "      <td>0.029304</td>\n",
       "      <td>-1.960784</td>\n",
       "      <td>0.490196</td>\n",
       "    </tr>\n",
       "    <tr>\n",
       "      <th>9</th>\n",
       "      <td>0.024322</td>\n",
       "      <td>0.024176</td>\n",
       "      <td>0.030037</td>\n",
       "      <td>23.493976</td>\n",
       "      <td>-0.602410</td>\n",
       "    </tr>\n",
       "    <tr>\n",
       "      <th>10</th>\n",
       "      <td>0.020952</td>\n",
       "      <td>0.021245</td>\n",
       "      <td>0.027839</td>\n",
       "      <td>32.867133</td>\n",
       "      <td>1.398601</td>\n",
       "    </tr>\n",
       "    <tr>\n",
       "      <th>11</th>\n",
       "      <td>0.185641</td>\n",
       "      <td>0.185348</td>\n",
       "      <td>0.188278</td>\n",
       "      <td>1.420679</td>\n",
       "      <td>-0.157853</td>\n",
       "    </tr>\n",
       "    <tr>\n",
       "      <th>12</th>\n",
       "      <td>0.003956</td>\n",
       "      <td>0.003663</td>\n",
       "      <td>0.006593</td>\n",
       "      <td>66.666667</td>\n",
       "      <td>-7.407407</td>\n",
       "    </tr>\n",
       "    <tr>\n",
       "      <th>13</th>\n",
       "      <td>0.001465</td>\n",
       "      <td>0.001465</td>\n",
       "      <td>0.000733</td>\n",
       "      <td>-50.000000</td>\n",
       "      <td>0.000000</td>\n",
       "    </tr>\n",
       "    <tr>\n",
       "      <th>14</th>\n",
       "      <td>0.000440</td>\n",
       "      <td>0.000733</td>\n",
       "      <td>0.000000</td>\n",
       "      <td>-100.000000</td>\n",
       "      <td>66.666667</td>\n",
       "    </tr>\n",
       "  </tbody>\n",
       "</table>\n",
       "</div>"
      ],
      "text/plain": [
       "                   Overall  Stratified    Random  Rand. %error  Strat. %error\n",
       "Global_Sales_cat                                                             \n",
       "1                 0.234579    0.234432  0.237363      1.186758      -0.062461\n",
       "2                 0.167912    0.167766  0.153846     -8.376963      -0.087260\n",
       "3                 0.108278    0.108425  0.101099     -6.630582       0.135318\n",
       "4                 0.074725    0.074725  0.084982     13.725490       0.000000\n",
       "5                 0.059780    0.060073  0.054945     -8.088235       0.490196\n",
       "6                 0.052454    0.052747  0.057875     10.335196       0.558659\n",
       "7                 0.035604    0.035165  0.027106    -23.868313      -1.234568\n",
       "8                 0.029890    0.030037  0.029304     -1.960784       0.490196\n",
       "9                 0.024322    0.024176  0.030037     23.493976      -0.602410\n",
       "10                0.020952    0.021245  0.027839     32.867133       1.398601\n",
       "11                0.185641    0.185348  0.188278      1.420679      -0.157853\n",
       "12                0.003956    0.003663  0.006593     66.666667      -7.407407\n",
       "13                0.001465    0.001465  0.000733    -50.000000       0.000000\n",
       "14                0.000440    0.000733  0.000000   -100.000000      66.666667"
      ]
     },
     "execution_count": 15,
     "metadata": {},
     "output_type": "execute_result"
    }
   ],
   "source": [
    "compare_props"
   ]
  },
  {
   "cell_type": "code",
   "execution_count": 16,
   "id": "c19f3b76-35aa-4f68-a71a-93417c2abe07",
   "metadata": {
    "tags": []
   },
   "outputs": [],
   "source": [
    "for set_ in (strat_train_set, strat_test_set):\n",
    "    set_.drop(\"Global_Sales_cat\", axis=1, inplace=True)"
   ]
  },
  {
   "cell_type": "markdown",
   "id": "a57f99d0-6d82-48c7-aa25-771aae2b0450",
   "metadata": {},
   "source": [
    "## Preparing data for ML Algorithms "
   ]
  },
  {
   "cell_type": "markdown",
   "id": "ecd27e76",
   "metadata": {},
   "source": []
  },
  {
   "cell_type": "code",
   "execution_count": 17,
   "id": "19d54c96",
   "metadata": {
    "tags": []
   },
   "outputs": [],
   "source": [
    "video_games_features = strat_train_set.drop(columns=[\"Global_Sales\"])\n",
    "video_games_labels = strat_train_set[\"Global_Sales\"]"
   ]
  },
  {
   "cell_type": "markdown",
   "id": "1a71346a-f142-4af4-b921-c14b1b060ed9",
   "metadata": {},
   "source": [
    "## removing of text attributes "
   ]
  },
  {
   "cell_type": "code",
   "execution_count": 18,
   "id": "4a6eb08a-8347-4e5d-8348-906b53f362f1",
   "metadata": {
    "tags": []
   },
   "outputs": [],
   "source": [
    "video_games_features_numerical = video_games_features.drop(columns=[\"Name\",\"Platform\",\"Genre\",\"Publisher\",\"Developer\",\"Rating\"])"
   ]
  },
  {
   "cell_type": "code",
   "execution_count": 19,
   "id": "e5e254ab-60f2-4cb6-8e95-87948b99ab61",
   "metadata": {
    "tags": []
   },
   "outputs": [
    {
     "data": {
      "text/html": [
       "<div>\n",
       "<style scoped>\n",
       "    .dataframe tbody tr th:only-of-type {\n",
       "        vertical-align: middle;\n",
       "    }\n",
       "\n",
       "    .dataframe tbody tr th {\n",
       "        vertical-align: top;\n",
       "    }\n",
       "\n",
       "    .dataframe thead th {\n",
       "        text-align: right;\n",
       "    }\n",
       "</style>\n",
       "<table border=\"1\" class=\"dataframe\">\n",
       "  <thead>\n",
       "    <tr style=\"text-align: right;\">\n",
       "      <th></th>\n",
       "      <th>Year_of_Release</th>\n",
       "      <th>Critic_Score</th>\n",
       "      <th>Critic_Count</th>\n",
       "      <th>User_Score</th>\n",
       "      <th>User_Count</th>\n",
       "    </tr>\n",
       "  </thead>\n",
       "  <tbody>\n",
       "    <tr>\n",
       "      <th>3156</th>\n",
       "      <td>2008.0</td>\n",
       "      <td>88.0</td>\n",
       "      <td>25.0</td>\n",
       "      <td>7.7</td>\n",
       "      <td>41.0</td>\n",
       "    </tr>\n",
       "    <tr>\n",
       "      <th>2163</th>\n",
       "      <td>2008.0</td>\n",
       "      <td>45.0</td>\n",
       "      <td>43.0</td>\n",
       "      <td>5.9</td>\n",
       "      <td>52.0</td>\n",
       "    </tr>\n",
       "    <tr>\n",
       "      <th>4310</th>\n",
       "      <td>2010.0</td>\n",
       "      <td>39.0</td>\n",
       "      <td>5.0</td>\n",
       "      <td>5.6</td>\n",
       "      <td>13.0</td>\n",
       "    </tr>\n",
       "    <tr>\n",
       "      <th>4817</th>\n",
       "      <td>2011.0</td>\n",
       "      <td>35.0</td>\n",
       "      <td>11.0</td>\n",
       "      <td>4.7</td>\n",
       "      <td>7.0</td>\n",
       "    </tr>\n",
       "    <tr>\n",
       "      <th>357</th>\n",
       "      <td>2001.0</td>\n",
       "      <td>89.0</td>\n",
       "      <td>22.0</td>\n",
       "      <td>8.6</td>\n",
       "      <td>39.0</td>\n",
       "    </tr>\n",
       "    <tr>\n",
       "      <th>...</th>\n",
       "      <td>...</td>\n",
       "      <td>...</td>\n",
       "      <td>...</td>\n",
       "      <td>...</td>\n",
       "      <td>...</td>\n",
       "    </tr>\n",
       "    <tr>\n",
       "      <th>524</th>\n",
       "      <td>2011.0</td>\n",
       "      <td>86.0</td>\n",
       "      <td>66.0</td>\n",
       "      <td>8.3</td>\n",
       "      <td>382.0</td>\n",
       "    </tr>\n",
       "    <tr>\n",
       "      <th>939</th>\n",
       "      <td>2006.0</td>\n",
       "      <td>79.0</td>\n",
       "      <td>76.0</td>\n",
       "      <td>7.1</td>\n",
       "      <td>187.0</td>\n",
       "    </tr>\n",
       "    <tr>\n",
       "      <th>2810</th>\n",
       "      <td>2007.0</td>\n",
       "      <td>73.0</td>\n",
       "      <td>37.0</td>\n",
       "      <td>7.6</td>\n",
       "      <td>82.0</td>\n",
       "    </tr>\n",
       "    <tr>\n",
       "      <th>3504</th>\n",
       "      <td>2002.0</td>\n",
       "      <td>76.0</td>\n",
       "      <td>22.0</td>\n",
       "      <td>8.9</td>\n",
       "      <td>15.0</td>\n",
       "    </tr>\n",
       "    <tr>\n",
       "      <th>5408</th>\n",
       "      <td>2005.0</td>\n",
       "      <td>94.0</td>\n",
       "      <td>32.0</td>\n",
       "      <td>8.7</td>\n",
       "      <td>121.0</td>\n",
       "    </tr>\n",
       "  </tbody>\n",
       "</table>\n",
       "<p>5460 rows × 5 columns</p>\n",
       "</div>"
      ],
      "text/plain": [
       "      Year_of_Release  Critic_Score  Critic_Count  User_Score  User_Count\n",
       "3156           2008.0          88.0          25.0         7.7        41.0\n",
       "2163           2008.0          45.0          43.0         5.9        52.0\n",
       "4310           2010.0          39.0           5.0         5.6        13.0\n",
       "4817           2011.0          35.0          11.0         4.7         7.0\n",
       "357            2001.0          89.0          22.0         8.6        39.0\n",
       "...               ...           ...           ...         ...         ...\n",
       "524            2011.0          86.0          66.0         8.3       382.0\n",
       "939            2006.0          79.0          76.0         7.1       187.0\n",
       "2810           2007.0          73.0          37.0         7.6        82.0\n",
       "3504           2002.0          76.0          22.0         8.9        15.0\n",
       "5408           2005.0          94.0          32.0         8.7       121.0\n",
       "\n",
       "[5460 rows x 5 columns]"
      ]
     },
     "execution_count": 19,
     "metadata": {},
     "output_type": "execute_result"
    }
   ],
   "source": [
    "video_games_features_numerical"
   ]
  },
  {
   "cell_type": "code",
   "execution_count": 20,
   "id": "42e54bcd-c98c-4492-865f-117f64399a5b",
   "metadata": {
    "tags": []
   },
   "outputs": [
    {
     "data": {
      "text/html": [
       "<div>\n",
       "<style scoped>\n",
       "    .dataframe tbody tr th:only-of-type {\n",
       "        vertical-align: middle;\n",
       "    }\n",
       "\n",
       "    .dataframe tbody tr th {\n",
       "        vertical-align: top;\n",
       "    }\n",
       "\n",
       "    .dataframe thead th {\n",
       "        text-align: right;\n",
       "    }\n",
       "</style>\n",
       "<table border=\"1\" class=\"dataframe\">\n",
       "  <thead>\n",
       "    <tr style=\"text-align: right;\">\n",
       "      <th></th>\n",
       "      <th>Name</th>\n",
       "      <th>Platform</th>\n",
       "      <th>Year_of_Release</th>\n",
       "      <th>Genre</th>\n",
       "      <th>Publisher</th>\n",
       "      <th>Critic_Score</th>\n",
       "      <th>Critic_Count</th>\n",
       "      <th>User_Score</th>\n",
       "      <th>User_Count</th>\n",
       "      <th>Developer</th>\n",
       "      <th>Rating</th>\n",
       "    </tr>\n",
       "  </thead>\n",
       "  <tbody>\n",
       "    <tr>\n",
       "      <th>3156</th>\n",
       "      <td>NHL 09</td>\n",
       "      <td>PS3</td>\n",
       "      <td>2008.0</td>\n",
       "      <td>Sports</td>\n",
       "      <td>Electronic Arts</td>\n",
       "      <td>88.0</td>\n",
       "      <td>25.0</td>\n",
       "      <td>7.7</td>\n",
       "      <td>41.0</td>\n",
       "      <td>EA Canada</td>\n",
       "      <td>E10+</td>\n",
       "    </tr>\n",
       "    <tr>\n",
       "      <th>2163</th>\n",
       "      <td>Iron Man</td>\n",
       "      <td>X360</td>\n",
       "      <td>2008.0</td>\n",
       "      <td>Action</td>\n",
       "      <td>Sega</td>\n",
       "      <td>45.0</td>\n",
       "      <td>43.0</td>\n",
       "      <td>5.9</td>\n",
       "      <td>52.0</td>\n",
       "      <td>Secret Level</td>\n",
       "      <td>T</td>\n",
       "    </tr>\n",
       "    <tr>\n",
       "      <th>4310</th>\n",
       "      <td>CSI: Fatal Conspiracy</td>\n",
       "      <td>PS3</td>\n",
       "      <td>2010.0</td>\n",
       "      <td>Adventure</td>\n",
       "      <td>Ubisoft</td>\n",
       "      <td>39.0</td>\n",
       "      <td>5.0</td>\n",
       "      <td>5.6</td>\n",
       "      <td>13.0</td>\n",
       "      <td>Telltale Games</td>\n",
       "      <td>M</td>\n",
       "    </tr>\n",
       "    <tr>\n",
       "      <th>4817</th>\n",
       "      <td>NCIS</td>\n",
       "      <td>X360</td>\n",
       "      <td>2011.0</td>\n",
       "      <td>Adventure</td>\n",
       "      <td>Ubisoft</td>\n",
       "      <td>35.0</td>\n",
       "      <td>11.0</td>\n",
       "      <td>4.7</td>\n",
       "      <td>7.0</td>\n",
       "      <td>Ubisoft</td>\n",
       "      <td>T</td>\n",
       "    </tr>\n",
       "    <tr>\n",
       "      <th>357</th>\n",
       "      <td>NBA Street</td>\n",
       "      <td>PS2</td>\n",
       "      <td>2001.0</td>\n",
       "      <td>Sports</td>\n",
       "      <td>Electronic Arts</td>\n",
       "      <td>89.0</td>\n",
       "      <td>22.0</td>\n",
       "      <td>8.6</td>\n",
       "      <td>39.0</td>\n",
       "      <td>NuFX</td>\n",
       "      <td>E</td>\n",
       "    </tr>\n",
       "    <tr>\n",
       "      <th>...</th>\n",
       "      <td>...</td>\n",
       "      <td>...</td>\n",
       "      <td>...</td>\n",
       "      <td>...</td>\n",
       "      <td>...</td>\n",
       "      <td>...</td>\n",
       "      <td>...</td>\n",
       "      <td>...</td>\n",
       "      <td>...</td>\n",
       "      <td>...</td>\n",
       "      <td>...</td>\n",
       "    </tr>\n",
       "    <tr>\n",
       "      <th>524</th>\n",
       "      <td>Mortal Kombat</td>\n",
       "      <td>X360</td>\n",
       "      <td>2011.0</td>\n",
       "      <td>Fighting</td>\n",
       "      <td>Warner Bros. Interactive Entertainment</td>\n",
       "      <td>86.0</td>\n",
       "      <td>66.0</td>\n",
       "      <td>8.3</td>\n",
       "      <td>382.0</td>\n",
       "      <td>NetherRealm Studios</td>\n",
       "      <td>M</td>\n",
       "    </tr>\n",
       "    <tr>\n",
       "      <th>939</th>\n",
       "      <td>Lost Planet: Extreme Condition</td>\n",
       "      <td>X360</td>\n",
       "      <td>2006.0</td>\n",
       "      <td>Shooter</td>\n",
       "      <td>Capcom</td>\n",
       "      <td>79.0</td>\n",
       "      <td>76.0</td>\n",
       "      <td>7.1</td>\n",
       "      <td>187.0</td>\n",
       "      <td>Capcom</td>\n",
       "      <td>T</td>\n",
       "    </tr>\n",
       "    <tr>\n",
       "      <th>2810</th>\n",
       "      <td>Medal of Honor Heroes 2</td>\n",
       "      <td>Wii</td>\n",
       "      <td>2007.0</td>\n",
       "      <td>Shooter</td>\n",
       "      <td>Electronic Arts</td>\n",
       "      <td>73.0</td>\n",
       "      <td>37.0</td>\n",
       "      <td>7.6</td>\n",
       "      <td>82.0</td>\n",
       "      <td>EA Canada</td>\n",
       "      <td>T</td>\n",
       "    </tr>\n",
       "    <tr>\n",
       "      <th>3504</th>\n",
       "      <td>NFL Blitz 20-02</td>\n",
       "      <td>PS2</td>\n",
       "      <td>2002.0</td>\n",
       "      <td>Sports</td>\n",
       "      <td>Midway Games</td>\n",
       "      <td>76.0</td>\n",
       "      <td>22.0</td>\n",
       "      <td>8.9</td>\n",
       "      <td>15.0</td>\n",
       "      <td>Midway</td>\n",
       "      <td>E</td>\n",
       "    </tr>\n",
       "    <tr>\n",
       "      <th>5408</th>\n",
       "      <td>Ninja Gaiden Black</td>\n",
       "      <td>XB</td>\n",
       "      <td>2005.0</td>\n",
       "      <td>Action</td>\n",
       "      <td>Microsoft Game Studios</td>\n",
       "      <td>94.0</td>\n",
       "      <td>32.0</td>\n",
       "      <td>8.7</td>\n",
       "      <td>121.0</td>\n",
       "      <td>Team Ninja</td>\n",
       "      <td>M</td>\n",
       "    </tr>\n",
       "  </tbody>\n",
       "</table>\n",
       "<p>5460 rows × 11 columns</p>\n",
       "</div>"
      ],
      "text/plain": [
       "                                Name Platform  Year_of_Release      Genre   \n",
       "3156                          NHL 09      PS3           2008.0     Sports  \\\n",
       "2163                        Iron Man     X360           2008.0     Action   \n",
       "4310           CSI: Fatal Conspiracy      PS3           2010.0  Adventure   \n",
       "4817                            NCIS     X360           2011.0  Adventure   \n",
       "357                       NBA Street      PS2           2001.0     Sports   \n",
       "...                              ...      ...              ...        ...   \n",
       "524                    Mortal Kombat     X360           2011.0   Fighting   \n",
       "939   Lost Planet: Extreme Condition     X360           2006.0    Shooter   \n",
       "2810         Medal of Honor Heroes 2      Wii           2007.0    Shooter   \n",
       "3504                 NFL Blitz 20-02      PS2           2002.0     Sports   \n",
       "5408              Ninja Gaiden Black       XB           2005.0     Action   \n",
       "\n",
       "                                   Publisher  Critic_Score  Critic_Count   \n",
       "3156                         Electronic Arts          88.0          25.0  \\\n",
       "2163                                    Sega          45.0          43.0   \n",
       "4310                                 Ubisoft          39.0           5.0   \n",
       "4817                                 Ubisoft          35.0          11.0   \n",
       "357                          Electronic Arts          89.0          22.0   \n",
       "...                                      ...           ...           ...   \n",
       "524   Warner Bros. Interactive Entertainment          86.0          66.0   \n",
       "939                                   Capcom          79.0          76.0   \n",
       "2810                         Electronic Arts          73.0          37.0   \n",
       "3504                            Midway Games          76.0          22.0   \n",
       "5408                  Microsoft Game Studios          94.0          32.0   \n",
       "\n",
       "      User_Score  User_Count            Developer Rating  \n",
       "3156         7.7        41.0            EA Canada   E10+  \n",
       "2163         5.9        52.0         Secret Level      T  \n",
       "4310         5.6        13.0       Telltale Games      M  \n",
       "4817         4.7         7.0              Ubisoft      T  \n",
       "357          8.6        39.0                 NuFX      E  \n",
       "...          ...         ...                  ...    ...  \n",
       "524          8.3       382.0  NetherRealm Studios      M  \n",
       "939          7.1       187.0               Capcom      T  \n",
       "2810         7.6        82.0            EA Canada      T  \n",
       "3504         8.9        15.0               Midway      E  \n",
       "5408         8.7       121.0           Team Ninja      M  \n",
       "\n",
       "[5460 rows x 11 columns]"
      ]
     },
     "execution_count": 20,
     "metadata": {},
     "output_type": "execute_result"
    }
   ],
   "source": [
    "video_games_features"
   ]
  },
  {
   "cell_type": "markdown",
   "id": "731f5329-fab2-469f-83c8-f140179015ee",
   "metadata": {},
   "source": [
    "## Getting Categorical data "
   ]
  },
  {
   "cell_type": "code",
   "execution_count": 21,
   "id": "65133e00-c1e6-46b2-a5b6-4bf01bd13bee",
   "metadata": {},
   "outputs": [],
   "source": [
    "video_games_cat = video_games_features[[\"Name\",\"Platform\",\"Genre\",\"Publisher\",\"Developer\",\"Rating\"]]"
   ]
  },
  {
   "cell_type": "code",
   "execution_count": 22,
   "id": "5339483c-90ef-40f4-a2e3-7fce5032d9f1",
   "metadata": {
    "tags": []
   },
   "outputs": [
    {
     "data": {
      "text/html": [
       "<div>\n",
       "<style scoped>\n",
       "    .dataframe tbody tr th:only-of-type {\n",
       "        vertical-align: middle;\n",
       "    }\n",
       "\n",
       "    .dataframe tbody tr th {\n",
       "        vertical-align: top;\n",
       "    }\n",
       "\n",
       "    .dataframe thead th {\n",
       "        text-align: right;\n",
       "    }\n",
       "</style>\n",
       "<table border=\"1\" class=\"dataframe\">\n",
       "  <thead>\n",
       "    <tr style=\"text-align: right;\">\n",
       "      <th></th>\n",
       "      <th>Name</th>\n",
       "      <th>Platform</th>\n",
       "      <th>Genre</th>\n",
       "      <th>Publisher</th>\n",
       "      <th>Developer</th>\n",
       "      <th>Rating</th>\n",
       "    </tr>\n",
       "  </thead>\n",
       "  <tbody>\n",
       "    <tr>\n",
       "      <th>3156</th>\n",
       "      <td>NHL 09</td>\n",
       "      <td>PS3</td>\n",
       "      <td>Sports</td>\n",
       "      <td>Electronic Arts</td>\n",
       "      <td>EA Canada</td>\n",
       "      <td>E10+</td>\n",
       "    </tr>\n",
       "    <tr>\n",
       "      <th>2163</th>\n",
       "      <td>Iron Man</td>\n",
       "      <td>X360</td>\n",
       "      <td>Action</td>\n",
       "      <td>Sega</td>\n",
       "      <td>Secret Level</td>\n",
       "      <td>T</td>\n",
       "    </tr>\n",
       "    <tr>\n",
       "      <th>4310</th>\n",
       "      <td>CSI: Fatal Conspiracy</td>\n",
       "      <td>PS3</td>\n",
       "      <td>Adventure</td>\n",
       "      <td>Ubisoft</td>\n",
       "      <td>Telltale Games</td>\n",
       "      <td>M</td>\n",
       "    </tr>\n",
       "    <tr>\n",
       "      <th>4817</th>\n",
       "      <td>NCIS</td>\n",
       "      <td>X360</td>\n",
       "      <td>Adventure</td>\n",
       "      <td>Ubisoft</td>\n",
       "      <td>Ubisoft</td>\n",
       "      <td>T</td>\n",
       "    </tr>\n",
       "    <tr>\n",
       "      <th>357</th>\n",
       "      <td>NBA Street</td>\n",
       "      <td>PS2</td>\n",
       "      <td>Sports</td>\n",
       "      <td>Electronic Arts</td>\n",
       "      <td>NuFX</td>\n",
       "      <td>E</td>\n",
       "    </tr>\n",
       "  </tbody>\n",
       "</table>\n",
       "</div>"
      ],
      "text/plain": [
       "                       Name Platform      Genre        Publisher   \n",
       "3156                 NHL 09      PS3     Sports  Electronic Arts  \\\n",
       "2163               Iron Man     X360     Action             Sega   \n",
       "4310  CSI: Fatal Conspiracy      PS3  Adventure          Ubisoft   \n",
       "4817                   NCIS     X360  Adventure          Ubisoft   \n",
       "357              NBA Street      PS2     Sports  Electronic Arts   \n",
       "\n",
       "           Developer Rating  \n",
       "3156       EA Canada   E10+  \n",
       "2163    Secret Level      T  \n",
       "4310  Telltale Games      M  \n",
       "4817         Ubisoft      T  \n",
       "357             NuFX      E  "
      ]
     },
     "execution_count": 22,
     "metadata": {},
     "output_type": "execute_result"
    }
   ],
   "source": [
    "video_games_cat.head()"
   ]
  },
  {
   "cell_type": "markdown",
   "id": "34c826f1-34f1-4cd6-a510-0343fcd9d4ed",
   "metadata": {},
   "source": [
    "## Using OneHotEncoder"
   ]
  },
  {
   "cell_type": "code",
   "execution_count": 23,
   "id": "b75e9d61-01e6-4639-a356-ab13c8748d28",
   "metadata": {
    "tags": []
   },
   "outputs": [],
   "source": [
    "from sklearn.preprocessing import OneHotEncoder\n"
   ]
  },
  {
   "cell_type": "code",
   "execution_count": 24,
   "id": "e9042915-b29d-43cb-83a0-c1fe6190fd9c",
   "metadata": {
    "tags": []
   },
   "outputs": [
    {
     "data": {
      "text/plain": [
       "<5460x5231 sparse matrix of type '<class 'numpy.float64'>'\n",
       "\twith 32760 stored elements in Compressed Sparse Row format>"
      ]
     },
     "execution_count": 24,
     "metadata": {},
     "output_type": "execute_result"
    }
   ],
   "source": [
    "cat_encoder = OneHotEncoder()\n",
    "video_games_1hot = cat_encoder.fit_transform(video_games_cat)\n",
    "video_games_1hot"
   ]
  },
  {
   "cell_type": "code",
   "execution_count": 25,
   "id": "e2892ae0-4cc2-48d4-b234-c161263fa58c",
   "metadata": {
    "tags": []
   },
   "outputs": [
    {
     "data": {
      "text/plain": [
       "array([[0., 0., 0., ..., 0., 0., 0.],\n",
       "       [0., 0., 0., ..., 0., 0., 1.],\n",
       "       [0., 0., 0., ..., 1., 0., 0.],\n",
       "       ...,\n",
       "       [0., 0., 0., ..., 0., 0., 1.],\n",
       "       [0., 0., 0., ..., 0., 0., 0.],\n",
       "       [0., 0., 0., ..., 1., 0., 0.]])"
      ]
     },
     "execution_count": 25,
     "metadata": {},
     "output_type": "execute_result"
    }
   ],
   "source": [
    "video_games_1hot.toarray()"
   ]
  },
  {
   "cell_type": "code",
   "execution_count": 26,
   "id": "cce5862f-fc7c-4276-a8f6-e376a93039fa",
   "metadata": {
    "tags": []
   },
   "outputs": [],
   "source": [
    "#Use This to see all categories:\n",
    "#cat_encoder.categories_\n"
   ]
  },
  {
   "cell_type": "markdown",
   "id": "72c43e1c-1003-4045-98f3-b71f0f265384",
   "metadata": {},
   "source": [
    "## Creating a customtransfomer for Critic_Score and Critic_Raiting"
   ]
  },
  {
   "cell_type": "code",
   "execution_count": 27,
   "id": "5ec6e2cb-c655-4243-a1c3-a019f5be903b",
   "metadata": {
    "tags": []
   },
   "outputs": [],
   "source": [
    "from sklearn.base import BaseEstimator, TransformerMixin\n"
   ]
  },
  {
   "cell_type": "code",
   "execution_count": 28,
   "id": "053b0ee1-25eb-4612-b59a-22aeb6eab849",
   "metadata": {
    "tags": []
   },
   "outputs": [],
   "source": [
    "class CombinedAttributesAdder(BaseEstimator, TransformerMixin):\n",
    "    def __init__(self): # no *args or **kargs\n",
    "        pass\n",
    "    def fit(self, X, y=None):\n",
    "        return self  # nothing else to do\n",
    "    def transform(self, X):\n",
    "        X['Critic_Score_And_Count'] = X[\"Critic_Score\"] + X[\"Critic_Count\"]\n",
    "\n",
    "        return np.c_[X]\n"
   ]
  },
  {
   "cell_type": "code",
   "execution_count": 29,
   "id": "5b143607-88f6-4e5e-a4ee-9c238122c735",
   "metadata": {
    "tags": []
   },
   "outputs": [],
   "source": [
    "attr_adder = CombinedAttributesAdder()\n"
   ]
  },
  {
   "cell_type": "code",
   "execution_count": 30,
   "id": "b41a8ea4-66bc-4699-81d1-56a4104da36c",
   "metadata": {
    "tags": []
   },
   "outputs": [],
   "source": [
    "video_games_extra_features = attr_adder.transform(video_games_features)"
   ]
  },
  {
   "cell_type": "code",
   "execution_count": 31,
   "id": "fb51205b-05fc-4379-9c0e-29a3aa55d0cb",
   "metadata": {
    "tags": []
   },
   "outputs": [
    {
     "data": {
      "text/plain": [
       "array([['NHL 09', 'PS3', 2008.0, ..., 'EA Canada', 'E10+', 113.0],\n",
       "       ['Iron Man', 'X360', 2008.0, ..., 'Secret Level', 'T', 88.0],\n",
       "       ['CSI: Fatal Conspiracy', 'PS3', 2010.0, ..., 'Telltale Games',\n",
       "        'M', 44.0],\n",
       "       ...,\n",
       "       ['Medal of Honor Heroes 2', 'Wii', 2007.0, ..., 'EA Canada', 'T',\n",
       "        110.0],\n",
       "       ['NFL Blitz 20-02', 'PS2', 2002.0, ..., 'Midway', 'E', 98.0],\n",
       "       ['Ninja Gaiden Black', 'XB', 2005.0, ..., 'Team Ninja', 'M',\n",
       "        126.0]], dtype=object)"
      ]
     },
     "execution_count": 31,
     "metadata": {},
     "output_type": "execute_result"
    }
   ],
   "source": [
    "video_games_extra_features"
   ]
  },
  {
   "cell_type": "markdown",
   "id": "8cc2413b-1ab6-4d82-9a40-1bd3646fa94d",
   "metadata": {},
   "source": [
    "## Creating Pipelines"
   ]
  },
  {
   "cell_type": "markdown",
   "id": "d607008f-9968-4f32-98ca-8ebc2fbc8cfe",
   "metadata": {},
   "source": [
    "## Pipeline for numerical data"
   ]
  },
  {
   "cell_type": "code",
   "execution_count": 32,
   "id": "5ca8f463-7f41-4828-978f-c54f30c92689",
   "metadata": {
    "tags": []
   },
   "outputs": [],
   "source": [
    "from sklearn.pipeline import Pipeline\n",
    "from sklearn.preprocessing import StandardScaler\n",
    "\n",
    "num_pipeline = Pipeline([\n",
    "        ('attribs_adder', CombinedAttributesAdder()),\n",
    "        ('std_scaler', StandardScaler()),\n",
    "    ])\n",
    "\n",
    "video_games_features_numerical_tr = num_pipeline.fit_transform(video_games_features_numerical)"
   ]
  },
  {
   "cell_type": "code",
   "execution_count": 33,
   "id": "11d71be5-afd6-450e-9095-1731420d75e9",
   "metadata": {
    "tags": []
   },
   "outputs": [
    {
     "data": {
      "text/plain": [
       "array([[ 0.13192836,  1.27420397, -0.21110211,  0.35718339, -0.22460299,\n",
       "         0.48694011],\n",
       "       [ 0.13192836, -1.81987908,  0.71880311, -0.88574348, -0.20643219,\n",
       "        -0.40672619],\n",
       "       [ 0.60707929, -2.25161159, -1.24433013, -1.09289796, -0.27085593,\n",
       "        -1.97957889],\n",
       "       ...,\n",
       "       [-0.10564711,  0.19487267,  0.4088347 ,  0.2881319 , -0.15687547,\n",
       "         0.37970015],\n",
       "       [-1.29352446,  0.41073893, -0.36608631,  1.1858013 , -0.26755215,\n",
       "        -0.04925967],\n",
       "       [-0.58079805,  1.70593648,  0.1505277 ,  1.04769832, -0.09245173,\n",
       "         0.95164659]])"
      ]
     },
     "execution_count": 33,
     "metadata": {},
     "output_type": "execute_result"
    }
   ],
   "source": [
    "video_games_features_numerical_tr"
   ]
  },
  {
   "cell_type": "markdown",
   "id": "8222545c-74a8-4123-b959-dfc6c56880f9",
   "metadata": {},
   "source": [
    "## Pipeline for Categorical Data and nnumerical data"
   ]
  },
  {
   "cell_type": "code",
   "execution_count": 34,
   "id": "38436125-faf5-4ca1-a3f0-bd700355d8bc",
   "metadata": {
    "tags": []
   },
   "outputs": [],
   "source": [
    "from sklearn.compose import ColumnTransformer\n",
    "\n",
    "num_attribs = list(video_games_features_numerical)\n",
    "cat_attribs = list(video_games_cat)\n",
    "\n",
    "full_pipeline = ColumnTransformer([\n",
    "        (\"num\", num_pipeline, num_attribs),\n",
    "        (\"cat\", OneHotEncoder(), cat_attribs),\n",
    "    ])\n",
    "\n",
    "video_games_features_prepared = full_pipeline.fit_transform(video_games_features)"
   ]
  },
  {
   "cell_type": "code",
   "execution_count": 35,
   "id": "22282e73-726a-4c1e-ab1e-e35edbd01c22",
   "metadata": {
    "tags": []
   },
   "outputs": [
    {
     "data": {
      "text/plain": [
       "array([[ 0.13192836,  1.27420397, -0.21110211, ...,  0.        ,\n",
       "         0.        ,  0.        ],\n",
       "       [ 0.13192836, -1.81987908,  0.71880311, ...,  0.        ,\n",
       "         0.        ,  1.        ],\n",
       "       [ 0.60707929, -2.25161159, -1.24433013, ...,  1.        ,\n",
       "         0.        ,  0.        ],\n",
       "       ...,\n",
       "       [-0.10564711,  0.19487267,  0.4088347 , ...,  0.        ,\n",
       "         0.        ,  1.        ],\n",
       "       [-1.29352446,  0.41073893, -0.36608631, ...,  0.        ,\n",
       "         0.        ,  0.        ],\n",
       "       [-0.58079805,  1.70593648,  0.1505277 , ...,  1.        ,\n",
       "         0.        ,  0.        ]])"
      ]
     },
     "execution_count": 35,
     "metadata": {},
     "output_type": "execute_result"
    }
   ],
   "source": [
    "video_games_features_prepared.toarray()"
   ]
  },
  {
   "cell_type": "code",
   "execution_count": 36,
   "id": "92f23abf-b17e-4736-9d76-5f6baa0dfda8",
   "metadata": {
    "tags": []
   },
   "outputs": [
    {
     "data": {
      "text/plain": [
       "(5460, 5237)"
      ]
     },
     "execution_count": 36,
     "metadata": {},
     "output_type": "execute_result"
    }
   ],
   "source": [
    "video_games_features_prepared.shape"
   ]
  },
  {
   "cell_type": "markdown",
   "id": "c290d88f-4863-4145-937b-10c3343debf4",
   "metadata": {},
   "source": [
    "## Model Creation"
   ]
  },
  {
   "cell_type": "code",
   "execution_count": null,
   "id": "93460a30-d181-4d23-8aaa-1810e267a427",
   "metadata": {},
   "outputs": [],
   "source": []
  },
  {
   "cell_type": "code",
   "execution_count": null,
   "id": "7303bf8e-8950-4dbd-994b-f864c980e184",
   "metadata": {
    "tags": []
   },
   "outputs": [],
   "source": []
  },
  {
   "cell_type": "code",
   "execution_count": 37,
   "id": "563d488c-ea28-4d2c-9969-3db20c73e797",
   "metadata": {
    "tags": []
   },
   "outputs": [
    {
     "data": {
      "text/html": [
       "<style>#sk-container-id-1 {color: black;background-color: white;}#sk-container-id-1 pre{padding: 0;}#sk-container-id-1 div.sk-toggleable {background-color: white;}#sk-container-id-1 label.sk-toggleable__label {cursor: pointer;display: block;width: 100%;margin-bottom: 0;padding: 0.3em;box-sizing: border-box;text-align: center;}#sk-container-id-1 label.sk-toggleable__label-arrow:before {content: \"▸\";float: left;margin-right: 0.25em;color: #696969;}#sk-container-id-1 label.sk-toggleable__label-arrow:hover:before {color: black;}#sk-container-id-1 div.sk-estimator:hover label.sk-toggleable__label-arrow:before {color: black;}#sk-container-id-1 div.sk-toggleable__content {max-height: 0;max-width: 0;overflow: hidden;text-align: left;background-color: #f0f8ff;}#sk-container-id-1 div.sk-toggleable__content pre {margin: 0.2em;color: black;border-radius: 0.25em;background-color: #f0f8ff;}#sk-container-id-1 input.sk-toggleable__control:checked~div.sk-toggleable__content {max-height: 200px;max-width: 100%;overflow: auto;}#sk-container-id-1 input.sk-toggleable__control:checked~label.sk-toggleable__label-arrow:before {content: \"▾\";}#sk-container-id-1 div.sk-estimator input.sk-toggleable__control:checked~label.sk-toggleable__label {background-color: #d4ebff;}#sk-container-id-1 div.sk-label input.sk-toggleable__control:checked~label.sk-toggleable__label {background-color: #d4ebff;}#sk-container-id-1 input.sk-hidden--visually {border: 0;clip: rect(1px 1px 1px 1px);clip: rect(1px, 1px, 1px, 1px);height: 1px;margin: -1px;overflow: hidden;padding: 0;position: absolute;width: 1px;}#sk-container-id-1 div.sk-estimator {font-family: monospace;background-color: #f0f8ff;border: 1px dotted black;border-radius: 0.25em;box-sizing: border-box;margin-bottom: 0.5em;}#sk-container-id-1 div.sk-estimator:hover {background-color: #d4ebff;}#sk-container-id-1 div.sk-parallel-item::after {content: \"\";width: 100%;border-bottom: 1px solid gray;flex-grow: 1;}#sk-container-id-1 div.sk-label:hover label.sk-toggleable__label {background-color: #d4ebff;}#sk-container-id-1 div.sk-serial::before {content: \"\";position: absolute;border-left: 1px solid gray;box-sizing: border-box;top: 0;bottom: 0;left: 50%;z-index: 0;}#sk-container-id-1 div.sk-serial {display: flex;flex-direction: column;align-items: center;background-color: white;padding-right: 0.2em;padding-left: 0.2em;position: relative;}#sk-container-id-1 div.sk-item {position: relative;z-index: 1;}#sk-container-id-1 div.sk-parallel {display: flex;align-items: stretch;justify-content: center;background-color: white;position: relative;}#sk-container-id-1 div.sk-item::before, #sk-container-id-1 div.sk-parallel-item::before {content: \"\";position: absolute;border-left: 1px solid gray;box-sizing: border-box;top: 0;bottom: 0;left: 50%;z-index: -1;}#sk-container-id-1 div.sk-parallel-item {display: flex;flex-direction: column;z-index: 1;position: relative;background-color: white;}#sk-container-id-1 div.sk-parallel-item:first-child::after {align-self: flex-end;width: 50%;}#sk-container-id-1 div.sk-parallel-item:last-child::after {align-self: flex-start;width: 50%;}#sk-container-id-1 div.sk-parallel-item:only-child::after {width: 0;}#sk-container-id-1 div.sk-dashed-wrapped {border: 1px dashed gray;margin: 0 0.4em 0.5em 0.4em;box-sizing: border-box;padding-bottom: 0.4em;background-color: white;}#sk-container-id-1 div.sk-label label {font-family: monospace;font-weight: bold;display: inline-block;line-height: 1.2em;}#sk-container-id-1 div.sk-label-container {text-align: center;}#sk-container-id-1 div.sk-container {/* jupyter's `normalize.less` sets `[hidden] { display: none; }` but bootstrap.min.css set `[hidden] { display: none !important; }` so we also need the `!important` here to be able to override the default hidden behavior on the sphinx rendered scikit-learn.org. See: https://github.com/scikit-learn/scikit-learn/issues/21755 */display: inline-block !important;position: relative;}#sk-container-id-1 div.sk-text-repr-fallback {display: none;}</style><div id=\"sk-container-id-1\" class=\"sk-top-container\"><div class=\"sk-text-repr-fallback\"><pre>LinearRegression()</pre><b>In a Jupyter environment, please rerun this cell to show the HTML representation or trust the notebook. <br />On GitHub, the HTML representation is unable to render, please try loading this page with nbviewer.org.</b></div><div class=\"sk-container\" hidden><div class=\"sk-item\"><div class=\"sk-estimator sk-toggleable\"><input class=\"sk-toggleable__control sk-hidden--visually\" id=\"sk-estimator-id-1\" type=\"checkbox\" checked><label for=\"sk-estimator-id-1\" class=\"sk-toggleable__label sk-toggleable__label-arrow\">LinearRegression</label><div class=\"sk-toggleable__content\"><pre>LinearRegression()</pre></div></div></div></div></div>"
      ],
      "text/plain": [
       "LinearRegression()"
      ]
     },
     "execution_count": 37,
     "metadata": {},
     "output_type": "execute_result"
    }
   ],
   "source": [
    "\n",
    "from sklearn.linear_model import LinearRegression\n",
    "\n",
    "lin_reg = LinearRegression()\n",
    "lin_reg.fit(video_games_features_prepared, video_games_labels)"
   ]
  },
  {
   "cell_type": "code",
   "execution_count": 38,
   "id": "7e73a78e-37de-4db1-8f7a-ce22f4f379f4",
   "metadata": {
    "tags": []
   },
   "outputs": [
    {
     "name": "stdout",
     "output_type": "stream",
     "text": [
      "Predictions: [1.22644866 0.81623724 0.19617964 0.13988337 2.78996586]\n"
     ]
    }
   ],
   "source": [
    "some_data = video_games_features.iloc[:5]\n",
    "some_labels = video_games_labels.iloc[:5]\n",
    "some_data_prepared = full_pipeline.transform(some_data)\n",
    "\n",
    "print(\"Predictions:\", lin_reg.predict(some_data_prepared))\n"
   ]
  },
  {
   "cell_type": "code",
   "execution_count": 39,
   "id": "9f1b63e3-1921-4681-9bbb-9395f46b1825",
   "metadata": {
    "tags": []
   },
   "outputs": [
    {
     "name": "stdout",
     "output_type": "stream",
     "text": [
      "Labels: [0.33, 0.57, 0.18, 0.14, 2.79]\n"
     ]
    }
   ],
   "source": [
    "print(\"Labels:\", list(some_labels))\n"
   ]
  },
  {
   "cell_type": "code",
   "execution_count": 40,
   "id": "a46fcec5-e3f3-4f86-b7dc-86bafd025289",
   "metadata": {
    "tags": []
   },
   "outputs": [
    {
     "data": {
      "text/plain": [
       "array([[ 0.13192836,  1.27420397, -0.21110211, ...,  0.        ,\n",
       "         0.        ,  0.        ],\n",
       "       [ 0.13192836, -1.81987908,  0.71880311, ...,  0.        ,\n",
       "         0.        ,  1.        ],\n",
       "       [ 0.60707929, -2.25161159, -1.24433013, ...,  1.        ,\n",
       "         0.        ,  0.        ],\n",
       "       [ 0.84465476, -2.53943327, -0.93436173, ...,  0.        ,\n",
       "         0.        ,  1.        ],\n",
       "       [-1.53109992,  1.34615938, -0.36608631, ...,  0.        ,\n",
       "         0.        ,  0.        ]])"
      ]
     },
     "execution_count": 40,
     "metadata": {},
     "output_type": "execute_result"
    }
   ],
   "source": [
    "some_data_prepared.toarray()\n"
   ]
  },
  {
   "cell_type": "code",
   "execution_count": 41,
   "id": "e3d6e2c0-4835-4b0a-859f-dca601ad19c4",
   "metadata": {
    "tags": []
   },
   "outputs": [
    {
     "data": {
      "text/plain": [
       "0.45864009954140983"
      ]
     },
     "execution_count": 41,
     "metadata": {},
     "output_type": "execute_result"
    }
   ],
   "source": [
    "from sklearn.metrics import mean_squared_error\n",
    "\n",
    "video_games_predictions = lin_reg.predict(video_games_features_prepared)\n",
    "lin_mse = mean_squared_error(video_games_labels, video_games_predictions)\n",
    "lin_rmse = np.sqrt(lin_mse)\n",
    "lin_rmse"
   ]
  },
  {
   "cell_type": "code",
   "execution_count": 42,
   "id": "795a5626-4172-48aa-8f94-55404d893429",
   "metadata": {
    "tags": []
   },
   "outputs": [
    {
     "data": {
      "text/plain": [
       "0.15983248028531016"
      ]
     },
     "execution_count": 42,
     "metadata": {},
     "output_type": "execute_result"
    }
   ],
   "source": [
    "from sklearn.metrics import mean_absolute_error\n",
    "\n",
    "lin_mae = mean_absolute_error(video_games_labels, video_games_predictions)\n",
    "lin_mae"
   ]
  },
  {
   "cell_type": "code",
   "execution_count": 43,
   "id": "f044f304-3ed7-446e-af64-27962d4b2d84",
   "metadata": {
    "tags": []
   },
   "outputs": [
    {
     "data": {
      "text/html": [
       "<style>#sk-container-id-2 {color: black;background-color: white;}#sk-container-id-2 pre{padding: 0;}#sk-container-id-2 div.sk-toggleable {background-color: white;}#sk-container-id-2 label.sk-toggleable__label {cursor: pointer;display: block;width: 100%;margin-bottom: 0;padding: 0.3em;box-sizing: border-box;text-align: center;}#sk-container-id-2 label.sk-toggleable__label-arrow:before {content: \"▸\";float: left;margin-right: 0.25em;color: #696969;}#sk-container-id-2 label.sk-toggleable__label-arrow:hover:before {color: black;}#sk-container-id-2 div.sk-estimator:hover label.sk-toggleable__label-arrow:before {color: black;}#sk-container-id-2 div.sk-toggleable__content {max-height: 0;max-width: 0;overflow: hidden;text-align: left;background-color: #f0f8ff;}#sk-container-id-2 div.sk-toggleable__content pre {margin: 0.2em;color: black;border-radius: 0.25em;background-color: #f0f8ff;}#sk-container-id-2 input.sk-toggleable__control:checked~div.sk-toggleable__content {max-height: 200px;max-width: 100%;overflow: auto;}#sk-container-id-2 input.sk-toggleable__control:checked~label.sk-toggleable__label-arrow:before {content: \"▾\";}#sk-container-id-2 div.sk-estimator input.sk-toggleable__control:checked~label.sk-toggleable__label {background-color: #d4ebff;}#sk-container-id-2 div.sk-label input.sk-toggleable__control:checked~label.sk-toggleable__label {background-color: #d4ebff;}#sk-container-id-2 input.sk-hidden--visually {border: 0;clip: rect(1px 1px 1px 1px);clip: rect(1px, 1px, 1px, 1px);height: 1px;margin: -1px;overflow: hidden;padding: 0;position: absolute;width: 1px;}#sk-container-id-2 div.sk-estimator {font-family: monospace;background-color: #f0f8ff;border: 1px dotted black;border-radius: 0.25em;box-sizing: border-box;margin-bottom: 0.5em;}#sk-container-id-2 div.sk-estimator:hover {background-color: #d4ebff;}#sk-container-id-2 div.sk-parallel-item::after {content: \"\";width: 100%;border-bottom: 1px solid gray;flex-grow: 1;}#sk-container-id-2 div.sk-label:hover label.sk-toggleable__label {background-color: #d4ebff;}#sk-container-id-2 div.sk-serial::before {content: \"\";position: absolute;border-left: 1px solid gray;box-sizing: border-box;top: 0;bottom: 0;left: 50%;z-index: 0;}#sk-container-id-2 div.sk-serial {display: flex;flex-direction: column;align-items: center;background-color: white;padding-right: 0.2em;padding-left: 0.2em;position: relative;}#sk-container-id-2 div.sk-item {position: relative;z-index: 1;}#sk-container-id-2 div.sk-parallel {display: flex;align-items: stretch;justify-content: center;background-color: white;position: relative;}#sk-container-id-2 div.sk-item::before, #sk-container-id-2 div.sk-parallel-item::before {content: \"\";position: absolute;border-left: 1px solid gray;box-sizing: border-box;top: 0;bottom: 0;left: 50%;z-index: -1;}#sk-container-id-2 div.sk-parallel-item {display: flex;flex-direction: column;z-index: 1;position: relative;background-color: white;}#sk-container-id-2 div.sk-parallel-item:first-child::after {align-self: flex-end;width: 50%;}#sk-container-id-2 div.sk-parallel-item:last-child::after {align-self: flex-start;width: 50%;}#sk-container-id-2 div.sk-parallel-item:only-child::after {width: 0;}#sk-container-id-2 div.sk-dashed-wrapped {border: 1px dashed gray;margin: 0 0.4em 0.5em 0.4em;box-sizing: border-box;padding-bottom: 0.4em;background-color: white;}#sk-container-id-2 div.sk-label label {font-family: monospace;font-weight: bold;display: inline-block;line-height: 1.2em;}#sk-container-id-2 div.sk-label-container {text-align: center;}#sk-container-id-2 div.sk-container {/* jupyter's `normalize.less` sets `[hidden] { display: none; }` but bootstrap.min.css set `[hidden] { display: none !important; }` so we also need the `!important` here to be able to override the default hidden behavior on the sphinx rendered scikit-learn.org. See: https://github.com/scikit-learn/scikit-learn/issues/21755 */display: inline-block !important;position: relative;}#sk-container-id-2 div.sk-text-repr-fallback {display: none;}</style><div id=\"sk-container-id-2\" class=\"sk-top-container\"><div class=\"sk-text-repr-fallback\"><pre>DecisionTreeRegressor(random_state=42)</pre><b>In a Jupyter environment, please rerun this cell to show the HTML representation or trust the notebook. <br />On GitHub, the HTML representation is unable to render, please try loading this page with nbviewer.org.</b></div><div class=\"sk-container\" hidden><div class=\"sk-item\"><div class=\"sk-estimator sk-toggleable\"><input class=\"sk-toggleable__control sk-hidden--visually\" id=\"sk-estimator-id-2\" type=\"checkbox\" checked><label for=\"sk-estimator-id-2\" class=\"sk-toggleable__label sk-toggleable__label-arrow\">DecisionTreeRegressor</label><div class=\"sk-toggleable__content\"><pre>DecisionTreeRegressor(random_state=42)</pre></div></div></div></div></div>"
      ],
      "text/plain": [
       "DecisionTreeRegressor(random_state=42)"
      ]
     },
     "execution_count": 43,
     "metadata": {},
     "output_type": "execute_result"
    }
   ],
   "source": [
    "from sklearn.tree import DecisionTreeRegressor\n",
    "\n",
    "tree_reg = DecisionTreeRegressor(random_state=42)\n",
    "tree_reg.fit(video_games_features_prepared, video_games_labels)"
   ]
  },
  {
   "cell_type": "code",
   "execution_count": 44,
   "id": "866c8b89-e821-4c78-b046-f277010e3918",
   "metadata": {
    "tags": []
   },
   "outputs": [
    {
     "data": {
      "text/plain": [
       "0.02440219319993662"
      ]
     },
     "execution_count": 44,
     "metadata": {},
     "output_type": "execute_result"
    }
   ],
   "source": [
    "video_games_predictions = tree_reg.predict(video_games_features_prepared)\n",
    "tree_mse = mean_squared_error(video_games_labels, video_games_predictions)\n",
    "tree_rmse = np.sqrt(tree_mse)\n",
    "tree_rmse\n"
   ]
  },
  {
   "cell_type": "markdown",
   "id": "568c8dc3-b6c0-44c0-b03c-e7ae5b4a62ae",
   "metadata": {},
   "source": [
    "## Evalution using Cross-validation"
   ]
  },
  {
   "cell_type": "code",
   "execution_count": 45,
   "id": "14aed9ca-a9b2-462b-abef-b4e11918298e",
   "metadata": {
    "tags": []
   },
   "outputs": [],
   "source": [
    "from sklearn.model_selection import cross_val_score\n",
    "\n",
    "scores = cross_val_score(tree_reg, video_games_features_prepared, video_games_labels,\n",
    "                         scoring=\"neg_mean_squared_error\", cv=10)\n",
    "tree_rmse_scores = np.sqrt(-scores)"
   ]
  },
  {
   "cell_type": "code",
   "execution_count": 46,
   "id": "17ad0fac-4d3e-4699-b06a-e529931aed7b",
   "metadata": {
    "tags": []
   },
   "outputs": [
    {
     "name": "stdout",
     "output_type": "stream",
     "text": [
      "Scores: [3.50533711 2.19650663 1.08912902 1.88586068 2.17532756 0.97083854\n",
      " 1.25871875 1.18553679 1.17078486 1.47307048]\n",
      "Mean: 1.6911110422833182\n",
      "Standard deviation: 0.739003266703581\n"
     ]
    }
   ],
   "source": [
    "def display_scores(scores):\n",
    "    print(\"Scores:\", scores)\n",
    "    print(\"Mean:\", scores.mean())\n",
    "    print(\"Standard deviation:\", scores.std())\n",
    "\n",
    "display_scores(tree_rmse_scores)"
   ]
  },
  {
   "cell_type": "code",
   "execution_count": 47,
   "id": "9f9339cc-ec9b-4102-8536-c47c0491affc",
   "metadata": {
    "tags": []
   },
   "outputs": [
    {
     "name": "stdout",
     "output_type": "stream",
     "text": [
      "Scores: [3.50826351 2.16595247 1.27522913 1.81725757 1.80000186 1.77047191\n",
      " 1.45284047 1.45049021 1.20813675 1.6290071 ]\n",
      "Mean: 1.807765098057023\n",
      "Standard deviation: 0.6285104740284633\n"
     ]
    }
   ],
   "source": [
    "lin_scores = cross_val_score(lin_reg, video_games_features_prepared, video_games_labels,\n",
    "                             scoring=\"neg_mean_squared_error\", cv=10)\n",
    "lin_rmse_scores = np.sqrt(-lin_scores)\n",
    "display_scores(lin_rmse_scores)"
   ]
  },
  {
   "cell_type": "code",
   "execution_count": 48,
   "id": "e643cb9f-989d-4838-a102-422f43e35561",
   "metadata": {
    "tags": []
   },
   "outputs": [
    {
     "data": {
      "text/plain": [
       "count    10.000000\n",
       "mean      1.807765\n",
       "std       0.662508\n",
       "min       1.208137\n",
       "25%       1.451078\n",
       "50%       1.699740\n",
       "75%       1.812944\n",
       "max       3.508264\n",
       "dtype: float64"
      ]
     },
     "execution_count": 48,
     "metadata": {},
     "output_type": "execute_result"
    }
   ],
   "source": [
    "scores = cross_val_score(lin_reg, video_games_features_prepared, video_games_labels, scoring=\"neg_mean_squared_error\", cv=10)\n",
    "pd.Series(np.sqrt(-scores)).describe()"
   ]
  },
  {
   "cell_type": "code",
   "execution_count": 49,
   "id": "544d91ba-f313-4e88-bedf-4982bb7e742e",
   "metadata": {
    "tags": []
   },
   "outputs": [
    {
     "data": {
      "text/plain": [
       "1.5788150251227682"
      ]
     },
     "execution_count": 49,
     "metadata": {},
     "output_type": "execute_result"
    }
   ],
   "source": [
    "from sklearn.svm import SVR\n",
    "\n",
    "svm_reg = SVR(kernel=\"linear\")\n",
    "svm_reg.fit(video_games_features_prepared, video_games_labels)\n",
    "video_games_predictions = svm_reg.predict(video_games_features_prepared)\n",
    "svm_mse = mean_squared_error(video_games_labels, video_games_predictions)\n",
    "svm_rmse = np.sqrt(svm_mse)\n",
    "svm_rmse"
   ]
  },
  {
   "cell_type": "markdown",
   "id": "f0311966-c7e8-4b9e-ba38-a20fc2076408",
   "metadata": {},
   "source": [
    "## Neural netowrk model"
   ]
  },
  {
   "cell_type": "code",
   "execution_count": null,
   "id": "1be599c8-8638-4f94-b325-ab099b9bb4c9",
   "metadata": {
    "tags": []
   },
   "outputs": [],
   "source": []
  },
  {
   "cell_type": "code",
   "execution_count": 50,
   "id": "0d06c543-f09b-4155-8fde-74bbe90e2dc0",
   "metadata": {
    "tags": []
   },
   "outputs": [],
   "source": [
    "#pip install tensorflow-macos"
   ]
  },
  {
   "cell_type": "code",
   "execution_count": 64,
   "id": "26bc9a35-eac4-4e01-bdc6-66117b5f0559",
   "metadata": {
    "tags": []
   },
   "outputs": [
    {
     "ename": "ImportError",
     "evalue": "cannot import name 'dense_shape' from 'tensorflow.keras' (/Users/tobiaspoulsen/Library/Caches/pypoetry/virtualenvs/tobias-ZyYwskrO-py3.9/lib/python3.9/site-packages/keras/api/_v2/keras/__init__.py)",
     "output_type": "error",
     "traceback": [
      "\u001b[0;31m---------------------------------------------------------------------------\u001b[0m",
      "\u001b[0;31mImportError\u001b[0m                               Traceback (most recent call last)",
      "Cell \u001b[0;32mIn[64], line 8\u001b[0m\n\u001b[1;32m      6\u001b[0m \u001b[38;5;28;01mfrom\u001b[39;00m \u001b[38;5;21;01mtensorflow\u001b[39;00m\u001b[38;5;21;01m.\u001b[39;00m\u001b[38;5;21;01mkeras\u001b[39;00m \u001b[38;5;28;01mimport\u001b[39;00m losses\n\u001b[1;32m      7\u001b[0m \u001b[38;5;28;01mfrom\u001b[39;00m \u001b[38;5;21;01mtensorflow\u001b[39;00m\u001b[38;5;21;01m.\u001b[39;00m\u001b[38;5;21;01mkeras\u001b[39;00m \u001b[38;5;28;01mimport\u001b[39;00m metrics\n\u001b[0;32m----> 8\u001b[0m \u001b[38;5;28;01mfrom\u001b[39;00m \u001b[38;5;21;01mtensorflow\u001b[39;00m\u001b[38;5;21;01m.\u001b[39;00m\u001b[38;5;21;01mkeras\u001b[39;00m \u001b[38;5;28;01mimport\u001b[39;00m dense_shape\n",
      "\u001b[0;31mImportError\u001b[0m: cannot import name 'dense_shape' from 'tensorflow.keras' (/Users/tobiaspoulsen/Library/Caches/pypoetry/virtualenvs/tobias-ZyYwskrO-py3.9/lib/python3.9/site-packages/keras/api/_v2/keras/__init__.py)"
     ]
    }
   ],
   "source": [
    "import tensorflow as tf\n",
    "from tensorflow import keras\n",
    "from tensorflow.keras import models\n",
    "from tensorflow.keras import layers\n",
    "from tensorflow.keras import optimizers\n",
    "from tensorflow.keras import losses\n",
    "from tensorflow.keras import metrics\n"
   ]
  },
  {
   "cell_type": "code",
   "execution_count": 53,
   "id": "fa525910-9d36-4560-9316-bf058e2dcd1d",
   "metadata": {},
   "outputs": [
    {
     "data": {
      "text/plain": [
       "(5460, 5237)"
      ]
     },
     "execution_count": 53,
     "metadata": {},
     "output_type": "execute_result"
    }
   ],
   "source": [
    "video_games_features_prepared.shape"
   ]
  },
  {
   "cell_type": "code",
   "execution_count": 99,
   "id": "007b1ae7-fe04-49ea-8ecd-771f3f9a4eec",
   "metadata": {},
   "outputs": [],
   "source": [
    "input_shape = (5237,)\n",
    "\n",
    "# Define the model\n",
    "model = tf.keras.Sequential([\n",
    "    tf.keras.layers.Dense(units=5000, activation='relu', input_shape=input_shape),\n",
    "    tf.keras.layers.Dense(units=1000, activation='relu'),\n",
    "    tf.keras.layers.Dense(units=100, activation='relu'),\n",
    "    tf.keras.layers.Dense(units=1, activation='sigmoid')\n",
    "])\n"
   ]
  },
  {
   "cell_type": "code",
   "execution_count": 100,
   "id": "13d5fb67-bebd-4809-8082-a791a566d0e0",
   "metadata": {
    "tags": []
   },
   "outputs": [],
   "source": [
    "epochs = 1_000\n"
   ]
  },
  {
   "cell_type": "code",
   "execution_count": 101,
   "id": "4c4ec5cb-547a-4f08-8fb5-0f0657c415df",
   "metadata": {},
   "outputs": [
    {
     "name": "stderr",
     "output_type": "stream",
     "text": [
      "WARNING:absl:At this time, the v2.11+ optimizer `tf.keras.optimizers.Adam` runs slowly on M1/M2 Macs, please use the legacy Keras optimizer instead, located at `tf.keras.optimizers.legacy.Adam`.\n",
      "WARNING:absl:There is a known slowdown when using v2.11+ Keras optimizers on M1/M2 Macs. Falling back to the legacy Keras optimizer, i.e., `tf.keras.optimizers.legacy.Adam`.\n"
     ]
    }
   ],
   "source": [
    "model.compile(\n",
    "    optimizer=optimizers.Adam(learning_rate=0.001), \n",
    "    loss=losses.BinaryCrossentropy(),\n",
    "    metrics=[metrics.BinaryAccuracy()]\n",
    ")"
   ]
  },
  {
   "cell_type": "code",
   "execution_count": 102,
   "id": "7d627638-9e7a-4cb1-a874-025306c63cfc",
   "metadata": {
    "tags": []
   },
   "outputs": [
    {
     "name": "stdout",
     "output_type": "stream",
     "text": [
      "Model: \"sequential_4\"\n",
      "_________________________________________________________________\n",
      " Layer (type)                Output Shape              Param #   \n",
      "=================================================================\n",
      " dense_12 (Dense)            (None, 5000)              26190000  \n",
      "                                                                 \n",
      " dense_13 (Dense)            (None, 1000)              5001000   \n",
      "                                                                 \n",
      " dense_14 (Dense)            (None, 100)               100100    \n",
      "                                                                 \n",
      " dense_15 (Dense)            (None, 1)                 101       \n",
      "                                                                 \n",
      "=================================================================\n",
      "Total params: 31,291,201\n",
      "Trainable params: 31,291,201\n",
      "Non-trainable params: 0\n",
      "_________________________________________________________________\n"
     ]
    }
   ],
   "source": [
    "model.summary()\n"
   ]
  },
  {
   "cell_type": "code",
   "execution_count": 103,
   "id": "25be94c8-a646-496d-891f-ba58b67a5770",
   "metadata": {
    "tags": []
   },
   "outputs": [
    {
     "name": "stdout",
     "output_type": "stream",
     "text": [
      "Requirement already satisfied: timer4 in /Users/tobiaspoulsen/Library/Caches/pypoetry/virtualenvs/tobias-ZyYwskrO-py3.9/lib/python3.9/site-packages (1.1.0)\n",
      "Note: you may need to restart the kernel to use updated packages.\n"
     ]
    }
   ],
   "source": [
    "pip install timer4"
   ]
  },
  {
   "cell_type": "code",
   "execution_count": 104,
   "id": "86852feb-621e-4d06-ab62-1716663a9dbf",
   "metadata": {
    "tags": []
   },
   "outputs": [],
   "source": [
    "import time\n",
    "from timer import Timer"
   ]
  },
  {
   "cell_type": "code",
   "execution_count": 105,
   "id": "0947b964-dd89-4031-b72c-e0d319e2c8a2",
   "metadata": {
    "tags": []
   },
   "outputs": [
    {
     "data": {
      "text/plain": [
       "<5460x5237 sparse matrix of type '<class 'numpy.float64'>'\n",
       "\twith 65520 stored elements in Compressed Sparse Row format>"
      ]
     },
     "execution_count": 105,
     "metadata": {},
     "output_type": "execute_result"
    }
   ],
   "source": [
    "video_games_features_prepared"
   ]
  },
  {
   "cell_type": "code",
   "execution_count": 109,
   "id": "cec9f952-311e-4881-8006-8d929694e5b9",
   "metadata": {
    "tags": []
   },
   "outputs": [
    {
     "name": "stdout",
     "output_type": "stream",
     "text": [
      "Epoch 1/30\n",
      "171/171 [==============================] - 4s 26ms/step - loss: -20568113152.0000 - binary_accuracy: 1.8315e-04\n",
      "Epoch 2/30\n",
      "171/171 [==============================] - 4s 26ms/step - loss: -24620595200.0000 - binary_accuracy: 1.8315e-04\n",
      "Epoch 3/30\n",
      "171/171 [==============================] - 4s 26ms/step - loss: -29235503104.0000 - binary_accuracy: 1.8315e-04\n",
      "Epoch 4/30\n",
      "171/171 [==============================] - 4s 26ms/step - loss: -34389217280.0000 - binary_accuracy: 1.8315e-04\n",
      "Epoch 5/30\n",
      "171/171 [==============================] - 4s 26ms/step - loss: -40162963456.0000 - binary_accuracy: 1.8315e-04\n",
      "Epoch 6/30\n",
      "171/171 [==============================] - 4s 26ms/step - loss: -46397911040.0000 - binary_accuracy: 3.6630e-04\n",
      "Epoch 7/30\n",
      "171/171 [==============================] - 4s 26ms/step - loss: -53068025856.0000 - binary_accuracy: 1.8315e-04\n",
      "Epoch 8/30\n",
      "171/171 [==============================] - 4s 26ms/step - loss: -60217483264.0000 - binary_accuracy: 3.6630e-04\n",
      "Epoch 9/30\n",
      "171/171 [==============================] - 4s 26ms/step - loss: -67975704576.0000 - binary_accuracy: 1.8315e-04\n",
      "Epoch 10/30\n",
      "171/171 [==============================] - 4s 26ms/step - loss: -76283281408.0000 - binary_accuracy: 1.8315e-04\n",
      "Epoch 11/30\n",
      "171/171 [==============================] - 4s 26ms/step - loss: -85429026816.0000 - binary_accuracy: 1.8315e-04\n",
      "Epoch 12/30\n",
      "171/171 [==============================] - 4s 26ms/step - loss: -95482707968.0000 - binary_accuracy: 3.6630e-04\n",
      "Epoch 13/30\n",
      "171/171 [==============================] - 4s 26ms/step - loss: -106334945280.0000 - binary_accuracy: 1.8315e-04\n",
      "Epoch 14/30\n",
      "171/171 [==============================] - 5s 27ms/step - loss: -117887262720.0000 - binary_accuracy: 3.6630e-04\n",
      "Epoch 15/30\n",
      "171/171 [==============================] - 5s 27ms/step - loss: -129987174400.0000 - binary_accuracy: 1.8315e-04\n",
      "Epoch 16/30\n",
      "171/171 [==============================] - 5s 27ms/step - loss: -143027683328.0000 - binary_accuracy: 1.8315e-04\n",
      "Epoch 17/30\n",
      "171/171 [==============================] - 5s 29ms/step - loss: -156964470784.0000 - binary_accuracy: 3.6630e-04\n",
      "Epoch 18/30\n",
      "171/171 [==============================] - 5s 27ms/step - loss: -171924013056.0000 - binary_accuracy: 1.8315e-04\n",
      "Epoch 19/30\n",
      "171/171 [==============================] - 5s 28ms/step - loss: -187862319104.0000 - binary_accuracy: 3.6630e-04\n",
      "Epoch 20/30\n",
      "171/171 [==============================] - 5s 27ms/step - loss: -204755025920.0000 - binary_accuracy: 1.8315e-04\n",
      "Epoch 21/30\n",
      "171/171 [==============================] - 5s 28ms/step - loss: -222921015296.0000 - binary_accuracy: 1.8315e-04\n",
      "Epoch 22/30\n",
      "171/171 [==============================] - 5s 27ms/step - loss: -241886593024.0000 - binary_accuracy: 1.8315e-04\n",
      "Epoch 23/30\n",
      "171/171 [==============================] - 5s 29ms/step - loss: -262064816128.0000 - binary_accuracy: 5.4945e-04\n",
      "Epoch 24/30\n",
      "171/171 [==============================] - 5s 27ms/step - loss: -283473641472.0000 - binary_accuracy: 1.8315e-04\n",
      "Epoch 25/30\n",
      "171/171 [==============================] - 5s 27ms/step - loss: -305622679552.0000 - binary_accuracy: 5.4945e-04\n",
      "Epoch 26/30\n",
      "171/171 [==============================] - 5s 27ms/step - loss: -329043116032.0000 - binary_accuracy: 1.8315e-04\n",
      "Epoch 27/30\n",
      "171/171 [==============================] - 5s 27ms/step - loss: -353921859584.0000 - binary_accuracy: 1.8315e-04\n",
      "Epoch 28/30\n",
      "171/171 [==============================] - 5s 28ms/step - loss: -379891843072.0000 - binary_accuracy: 1.8315e-04\n",
      "Epoch 29/30\n",
      "171/171 [==============================] - 5s 27ms/step - loss: -407121231872.0000 - binary_accuracy: 1.8315e-04\n",
      "Epoch 30/30\n",
      "171/171 [==============================] - 5s 27ms/step - loss: -435605110784.0000 - binary_accuracy: 1.8315e-04\n"
     ]
    }
   ],
   "source": [
    "history = model.fit(np.array(video_games_features_prepared.toarray()), video_games_labels, epochs=30,\n",
    "                    )"
   ]
  },
  {
   "cell_type": "code",
   "execution_count": null,
   "id": "4f430900-cd9c-414e-b059-7114b0f425c4",
   "metadata": {
    "tags": []
   },
   "outputs": [],
   "source": [
    "model.evaluate(video_games_features_prepared.toarray(), video_games_labels)\n"
   ]
  },
  {
   "cell_type": "code",
   "execution_count": 91,
   "id": "845c36a9-aad0-47cf-ba1f-c7253a3f3e70",
   "metadata": {
    "tags": []
   },
   "outputs": [],
   "source": [
    "def plot_decision_boundary(X, y, model, steps=1000, cmap='Paired'):\n",
    "    \"\"\"\n",
    "    Function to plot the decision boundary and data points of a model.\n",
    "    Data points are colored based on their actual label.\n",
    "    \"\"\"\n",
    "    cmap = plt.get_cmap(cmap)\n",
    "\n",
    "    # Define region of interest by data limits\n",
    "    xmin, xmax = X[:,0].min() - 1, X[:,0].max() + 1\n",
    "    ymin, ymax = X[:,1].min() - 1, X[:,1].max() + 1\n",
    "    steps = 1000\n",
    "    x_span = np.linspace(xmin, xmax, steps)\n",
    "    y_span = np.linspace(ymin, ymax, steps)\n",
    "    xx, yy = np.meshgrid(x_span, y_span)\n",
    "\n",
    "    # Make predictions across region of interest\n",
    "    labels = model.predict(np.c_[xx.ravel(), yy.ravel()])\n",
    "\n",
    "    # Plot decision boundary in region of interest\n",
    "    z = labels.reshape(xx.shape)\n",
    "\n",
    "    fig, ax = plt.subplots()\n",
    "    ax.contourf(xx, yy, z, cmap=cmap, alpha=0.5)\n",
    "\n",
    "    # Get predicted labels on training data and plot\n",
    "    train_labels = model.predict(X)\n",
    "    ax.scatter(X[:,0], X[:,1], c=y.ravel(), cmap=cmap, lw=0)\n",
    "\n",
    "    return fig, ax"
   ]
  },
  {
   "cell_type": "code",
   "execution_count": 97,
   "id": "f9870294-2f98-4bae-8815-2a70afc44383",
   "metadata": {
    "tags": []
   },
   "outputs": [],
   "source": [
    "import matplotlib.pyplot as plt"
   ]
  },
  {
   "cell_type": "code",
   "execution_count": null,
   "id": "d2f2a3a3-7435-4d59-8ab2-bd4fd449c9b4",
   "metadata": {},
   "outputs": [],
   "source": [
    "plot_decision_boundary(X,y,model,cmap='RdBu')"
   ]
  },
  {
   "cell_type": "code",
   "execution_count": 98,
   "id": "ef8bff82-edf8-4d85-9ee4-782c688aefef",
   "metadata": {
    "tags": []
   },
   "outputs": [
    {
     "data": {
      "text/plain": [
       "[<matplotlib.lines.Line2D at 0x2dd5f83a0>]"
      ]
     },
     "execution_count": 98,
     "metadata": {},
     "output_type": "execute_result"
    },
    {
     "data": {
      "image/png": "[encoded data removed]",
      "text/plain": [
       "<Figure size 640x480 with 1 Axes>"
      ]
     },
     "metadata": {},
     "output_type": "display_data"
    }
   ],
   "source": [
    "plt.plot([i for i in range(epochs)], history.history['loss'])\n"
   ]
  },
  {
   "cell_type": "markdown",
   "id": "1baadd83-95f0-4eb4-a237-8e3686718f0b",
   "metadata": {},
   "source": [
    "## insanly low, trying to only use numerical values to see if it has anything to do with the absurd amount of parametters"
   ]
  },
  {
   "cell_type": "code",
   "execution_count": 112,
   "id": "3057fa7c-f13b-4814-a0ad-466dea0516de",
   "metadata": {
    "tags": []
   },
   "outputs": [
    {
     "data": {
      "text/plain": [
       "(5460, 6)"
      ]
     },
     "execution_count": 112,
     "metadata": {},
     "output_type": "execute_result"
    }
   ],
   "source": [
    "video_games_features_numerical_tr.shape"
   ]
  },
  {
   "cell_type": "code",
   "execution_count": null,
   "id": "b45b1d52-20d6-41f4-9863-5ecd7d9bed4e",
   "metadata": {},
   "outputs": [],
   "source": []
  },
  {
   "cell_type": "code",
   "execution_count": 120,
   "id": "d0a2ff34-acd3-4514-aea5-1fb4b89a1291",
   "metadata": {
    "tags": []
   },
   "outputs": [],
   "source": [
    "input_shape = (6,)\n",
    "\n",
    "model = tf.keras.Sequential([\n",
    "    tf.keras.layers.Dense(units=5000, activation='relu', input_shape=input_shape),\n",
    "    tf.keras.layers.Dense(units=1000, activation='relu'),\n",
    "    tf.keras.layers.Dense(units=100, activation='relu'),\n",
    "    tf.keras.layers.Dense(units=1, activation='sigmoid')\n",
    "])\n"
   ]
  },
  {
   "cell_type": "code",
   "execution_count": 121,
   "id": "a9ba1dc8-0c4c-4d06-8054-6807a90556fb",
   "metadata": {
    "tags": []
   },
   "outputs": [
    {
     "name": "stderr",
     "output_type": "stream",
     "text": [
      "WARNING:absl:At this time, the v2.11+ optimizer `tf.keras.optimizers.Adam` runs slowly on M1/M2 Macs, please use the legacy Keras optimizer instead, located at `tf.keras.optimizers.legacy.Adam`.\n",
      "WARNING:absl:There is a known slowdown when using v2.11+ Keras optimizers on M1/M2 Macs. Falling back to the legacy Keras optimizer, i.e., `tf.keras.optimizers.legacy.Adam`.\n"
     ]
    }
   ],
   "source": [
    "model.compile(\n",
    "    optimizer=optimizers.Adam(learning_rate=0.001), \n",
    "    loss=losses.BinaryCrossentropy(),\n",
    "    metrics=[metrics.BinaryAccuracy()]\n",
    ")"
   ]
  },
  {
   "cell_type": "code",
   "execution_count": 122,
   "id": "11b7fbd3-ee25-42a6-8179-c7e9b238a7c9",
   "metadata": {
    "tags": []
   },
   "outputs": [
    {
     "name": "stdout",
     "output_type": "stream",
     "text": [
      "Epoch 1/30\n",
      "171/171 [==============================] - 1s 7ms/step - loss: -21477.8926 - binary_accuracy: 1.8315e-04\n",
      "Epoch 2/30\n",
      "171/171 [==============================] - 1s 7ms/step - loss: -889436.5625 - binary_accuracy: 1.8315e-04\n",
      "Epoch 3/30\n",
      "171/171 [==============================] - 1s 7ms/step - loss: -6272220.0000 - binary_accuracy: 1.8315e-04\n",
      "Epoch 4/30\n",
      "171/171 [==============================] - 1s 7ms/step - loss: -23641922.0000 - binary_accuracy: 1.8315e-04\n",
      "Epoch 5/30\n",
      "171/171 [==============================] - 1s 7ms/step - loss: -63346304.0000 - binary_accuracy: 1.8315e-04\n",
      "Epoch 6/30\n",
      "171/171 [==============================] - 1s 7ms/step - loss: -141440304.0000 - binary_accuracy: 1.8315e-04\n",
      "Epoch 7/30\n",
      "171/171 [==============================] - 1s 7ms/step - loss: -277878560.0000 - binary_accuracy: 1.8315e-04\n",
      "Epoch 8/30\n",
      "171/171 [==============================] - 1s 7ms/step - loss: -477223680.0000 - binary_accuracy: 1.8315e-04\n",
      "Epoch 9/30\n",
      "171/171 [==============================] - 1s 7ms/step - loss: -750600000.0000 - binary_accuracy: 1.8315e-04\n",
      "Epoch 10/30\n",
      "171/171 [==============================] - 1s 7ms/step - loss: -1116393216.0000 - binary_accuracy: 5.4945e-04\n",
      "Epoch 11/30\n",
      "171/171 [==============================] - 1s 7ms/step - loss: -1599095168.0000 - binary_accuracy: 1.8315e-04\n",
      "Epoch 12/30\n",
      "171/171 [==============================] - 1s 7ms/step - loss: -2195201280.0000 - binary_accuracy: 1.8315e-04\n",
      "Epoch 13/30\n",
      "171/171 [==============================] - 1s 7ms/step - loss: -2929896192.0000 - binary_accuracy: 1.8315e-04\n",
      "Epoch 14/30\n",
      "171/171 [==============================] - 1s 7ms/step - loss: -3824030208.0000 - binary_accuracy: 1.8315e-04\n",
      "Epoch 15/30\n",
      "171/171 [==============================] - 1s 8ms/step - loss: -4835836416.0000 - binary_accuracy: 3.6630e-04\n",
      "Epoch 16/30\n",
      "171/171 [==============================] - 1s 8ms/step - loss: -6018387456.0000 - binary_accuracy: 1.8315e-04\n",
      "Epoch 17/30\n",
      "171/171 [==============================] - 1s 8ms/step - loss: -7390343680.0000 - binary_accuracy: 3.6630e-04\n",
      "Epoch 18/30\n",
      "171/171 [==============================] - 1s 8ms/step - loss: -8971538432.0000 - binary_accuracy: 5.4945e-04\n",
      "Epoch 19/30\n",
      "171/171 [==============================] - 1s 8ms/step - loss: -10751064064.0000 - binary_accuracy: 1.8315e-04\n",
      "Epoch 20/30\n",
      "171/171 [==============================] - 1s 8ms/step - loss: -12769421312.0000 - binary_accuracy: 3.6630e-04\n",
      "Epoch 21/30\n",
      "171/171 [==============================] - 1s 8ms/step - loss: -15034135552.0000 - binary_accuracy: 1.8315e-04\n",
      "Epoch 22/30\n",
      "171/171 [==============================] - 1s 8ms/step - loss: -17529128960.0000 - binary_accuracy: 1.8315e-04\n",
      "Epoch 23/30\n",
      "171/171 [==============================] - 2s 9ms/step - loss: -20255717376.0000 - binary_accuracy: 1.8315e-04\n",
      "Epoch 24/30\n",
      "171/171 [==============================] - 1s 9ms/step - loss: -23268720640.0000 - binary_accuracy: 1.8315e-04\n",
      "Epoch 25/30\n",
      "171/171 [==============================] - 2s 9ms/step - loss: -26568994816.0000 - binary_accuracy: 1.8315e-04\n",
      "Epoch 26/30\n",
      "171/171 [==============================] - 1s 8ms/step - loss: -30113703936.0000 - binary_accuracy: 5.4945e-04\n",
      "Epoch 27/30\n",
      "171/171 [==============================] - 1s 8ms/step - loss: -34021068800.0000 - binary_accuracy: 1.8315e-04\n",
      "Epoch 28/30\n",
      "171/171 [==============================] - 1s 9ms/step - loss: -38231011328.0000 - binary_accuracy: 1.8315e-04\n",
      "Epoch 29/30\n",
      "171/171 [==============================] - 1s 8ms/step - loss: -42764316672.0000 - binary_accuracy: 3.6630e-04\n",
      "Epoch 30/30\n",
      "171/171 [==============================] - 1s 8ms/step - loss: -47627026432.0000 - binary_accuracy: 3.6630e-04\n"
     ]
    }
   ],
   "source": [
    "history = model.fit(video_games_features_numerical_tr, video_games_labels, epochs=30,\n",
    "                    )"
   ]
  },
  {
   "cell_type": "code",
   "execution_count": 123,
   "id": "133a99f9-dada-4a0c-b473-9d934b27bc30",
   "metadata": {
    "tags": []
   },
   "outputs": [
    {
     "name": "stdout",
     "output_type": "stream",
     "text": [
      "171/171 [==============================] - 1s 3ms/step - loss: -50224078848.0000 - binary_accuracy: 5.4945e-04\n"
     ]
    },
    {
     "data": {
      "text/plain": [
       "[-50224078848.0, 0.0005494505749084055]"
      ]
     },
     "execution_count": 123,
     "metadata": {},
     "output_type": "execute_result"
    }
   ],
   "source": [
    "model.evaluate(video_games_features_numerical_tr, video_games_labels)\n"
   ]
  },
  {
   "cell_type": "code",
   "execution_count": 128,
   "id": "f3a76276-e3cb-49de-afc2-867637a4dfd3",
   "metadata": {
    "tags": []
   },
   "outputs": [],
   "source": [
    "from tensorflow.keras import regularizers\n"
   ]
  },
  {
   "cell_type": "code",
   "execution_count": 129,
   "id": "59689ab2-f00f-469e-9d51-48ab5ebc518b",
   "metadata": {
    "tags": []
   },
   "outputs": [],
   "source": [
    "model = tf.keras.Sequential([\n",
    "    tf.keras.layers.Dense(units=5000, activation='relu', kernel_regularizer=regularizers.l2(0.01), input_shape=input_shape),\n",
    "    tf.keras.layers.Dense(units=1000, activation='relu', kernel_regularizer=regularizers.l2(0.01)),\n",
    "    tf.keras.layers.Dense(units=100, activation='relu', kernel_regularizer=regularizers.l2(0.01)),\n",
    "    tf.keras.layers.Dropout(0.2),\n",
    "    tf.keras.layers.Dense(units=1, activation='sigmoid')\n",
    "])"
   ]
  },
  {
   "cell_type": "code",
   "execution_count": 131,
   "id": "4941a8e4-3178-4d8a-bad5-8289d657466d",
   "metadata": {
    "tags": []
   },
   "outputs": [
    {
     "name": "stderr",
     "output_type": "stream",
     "text": [
      "WARNING:absl:At this time, the v2.11+ optimizer `tf.keras.optimizers.Adam` runs slowly on M1/M2 Macs, please use the legacy Keras optimizer instead, located at `tf.keras.optimizers.legacy.Adam`.\n",
      "WARNING:absl:There is a known slowdown when using v2.11+ Keras optimizers on M1/M2 Macs. Falling back to the legacy Keras optimizer, i.e., `tf.keras.optimizers.legacy.Adam`.\n"
     ]
    }
   ],
   "source": [
    "model.compile(\n",
    "    optimizer=optimizers.Adam(learning_rate=0.001), \n",
    "    loss=losses.BinaryCrossentropy(),\n",
    "    metrics=[metrics.BinaryAccuracy()]\n",
    ")"
   ]
  },
  {
   "cell_type": "code",
   "execution_count": 132,
   "id": "b749c6da-4cde-4e58-b3df-dd9c9354b385",
   "metadata": {
    "tags": []
   },
   "outputs": [
    {
     "name": "stdout",
     "output_type": "stream",
     "text": [
      "Epoch 1/30\n",
      "171/171 [==============================] - 2s 8ms/step - loss: -20377.2266 - binary_accuracy: 3.6630e-04\n",
      "Epoch 2/30\n",
      "171/171 [==============================] - 2s 9ms/step - loss: -1170587.3750 - binary_accuracy: 5.4945e-04\n",
      "Epoch 3/30\n",
      "171/171 [==============================] - 2s 9ms/step - loss: -8937344.0000 - binary_accuracy: 5.4945e-04\n",
      "Epoch 4/30\n",
      "171/171 [==============================] - 1s 9ms/step - loss: -35205468.0000 - binary_accuracy: 3.6630e-04\n",
      "Epoch 5/30\n",
      "171/171 [==============================] - 2s 10ms/step - loss: -97325504.0000 - binary_accuracy: 5.4945e-04\n",
      "Epoch 6/30\n",
      "171/171 [==============================] - 2s 9ms/step - loss: -221967664.0000 - binary_accuracy: 5.4945e-04\n",
      "Epoch 7/30\n",
      "171/171 [==============================] - 1s 8ms/step - loss: -439605536.0000 - binary_accuracy: 5.4945e-04\n",
      "Epoch 8/30\n",
      "171/171 [==============================] - 1s 8ms/step - loss: -755289856.0000 - binary_accuracy: 5.4945e-04\n",
      "Epoch 9/30\n",
      "171/171 [==============================] - 1s 8ms/step - loss: -1210826752.0000 - binary_accuracy: 5.4945e-04\n",
      "Epoch 10/30\n",
      "171/171 [==============================] - 1s 9ms/step - loss: -1777313280.0000 - binary_accuracy: 5.4945e-04\n",
      "Epoch 11/30\n",
      "171/171 [==============================] - 1s 8ms/step - loss: -2561900544.0000 - binary_accuracy: 5.4945e-04\n",
      "Epoch 12/30\n",
      "171/171 [==============================] - 1s 8ms/step - loss: -3579838464.0000 - binary_accuracy: 5.4945e-04\n",
      "Epoch 13/30\n",
      "171/171 [==============================] - 1s 8ms/step - loss: -4773895680.0000 - binary_accuracy: 5.4945e-04\n",
      "Epoch 14/30\n",
      "171/171 [==============================] - 1s 8ms/step - loss: -6200949760.0000 - binary_accuracy: 5.4945e-04\n",
      "Epoch 15/30\n",
      "171/171 [==============================] - 1s 8ms/step - loss: -7688478720.0000 - binary_accuracy: 5.4945e-04\n",
      "Epoch 16/30\n",
      "171/171 [==============================] - 1s 8ms/step - loss: -9843501056.0000 - binary_accuracy: 5.4945e-04\n",
      "Epoch 17/30\n",
      "171/171 [==============================] - 1s 8ms/step - loss: -12147054592.0000 - binary_accuracy: 5.4945e-04\n",
      "Epoch 18/30\n",
      "171/171 [==============================] - 1s 8ms/step - loss: -14794452992.0000 - binary_accuracy: 5.4945e-04\n",
      "Epoch 19/30\n",
      "171/171 [==============================] - 1s 8ms/step - loss: -17595262976.0000 - binary_accuracy: 5.4945e-04\n",
      "Epoch 20/30\n",
      "171/171 [==============================] - 1s 8ms/step - loss: -20714348544.0000 - binary_accuracy: 5.4945e-04\n",
      "Epoch 21/30\n",
      "171/171 [==============================] - 1s 8ms/step - loss: -24973099008.0000 - binary_accuracy: 5.4945e-04\n",
      "Epoch 22/30\n",
      "171/171 [==============================] - 1s 8ms/step - loss: -29126248448.0000 - binary_accuracy: 5.4945e-04\n",
      "Epoch 23/30\n",
      "171/171 [==============================] - 1s 8ms/step - loss: -33281361920.0000 - binary_accuracy: 5.4945e-04\n",
      "Epoch 24/30\n",
      "171/171 [==============================] - 1s 8ms/step - loss: -38343225344.0000 - binary_accuracy: 5.4945e-04\n",
      "Epoch 25/30\n",
      "171/171 [==============================] - 1s 8ms/step - loss: -44419829760.0000 - binary_accuracy: 5.4945e-04\n",
      "Epoch 26/30\n",
      "171/171 [==============================] - 1s 8ms/step - loss: -49848397824.0000 - binary_accuracy: 5.4945e-04\n",
      "Epoch 27/30\n",
      "171/171 [==============================] - 1s 8ms/step - loss: -56363065344.0000 - binary_accuracy: 5.4945e-04\n",
      "Epoch 28/30\n",
      "171/171 [==============================] - 1s 8ms/step - loss: -63155044352.0000 - binary_accuracy: 5.4945e-04\n",
      "Epoch 29/30\n",
      "171/171 [==============================] - 1s 8ms/step - loss: -69995937792.0000 - binary_accuracy: 5.4945e-04\n",
      "Epoch 30/30\n",
      "171/171 [==============================] - 1s 8ms/step - loss: -78796849152.0000 - binary_accuracy: 5.4945e-04\n"
     ]
    }
   ],
   "source": [
    "history = model.fit(video_games_features_numerical_tr, video_games_labels, epochs=30,\n",
    "                    )"
   ]
  },
  {
   "cell_type": "code",
   "execution_count": null,
   "id": "5214e3f6-e841-46df-82f4-fdf9cbb1bc9d",
   "metadata": {},
   "outputs": [],
   "source": []
  }
 ],
 "metadata": {
  "kernelspec": {
   "display_name": "Python 3 (ipykernel)",
   "language": "python",
   "name": "python3"
  },
  "language_info": {
   "codemirror_mode": {
    "name": "ipython",
    "version": 3
   },
   "file_extension": ".py",
   "mimetype": "text/x-python",
   "name": "python",
   "nbconvert_exporter": "python",
   "pygments_lexer": "ipython3",
   "version": "3.9.16"
  },
  "vscode": {
   "interpreter": {
    "hash": "1a1af0ee75eeea9e2e1ee996c87e7a2b11a0bebd85af04bb136d915cefc0abce"
   }
  }
 },
 "nbformat": 4,
 "nbformat_minor": 5
}
