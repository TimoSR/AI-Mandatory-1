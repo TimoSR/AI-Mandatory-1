{
 "cells": [
  {
   "cell_type": "code",
   "execution_count": 1,
   "id": "36c76c50-aa19-4ad0-89ef-38bad6fceae8",
   "metadata": {
    "tags": []
   },
   "outputs": [],
   "source": [
    "import os\n",
    "import tarfile\n",
    "import urllib.request\n",
    "import pandas as pd\n",
    "import numpy as np\n",
    "\n",
    "# data without None Values\n",
    "video_games = pd.read_csv('processed_video_games_data.csv')"
   ]
  },
  {
   "cell_type": "code",
   "execution_count": 2,
   "id": "104ea695-3546-454e-b745-adc9fe0f2014",
   "metadata": {
    "tags": []
   },
   "outputs": [],
   "source": [
    "np.random.seed(42)"
   ]
  },
  {
   "cell_type": "code",
   "execution_count": null,
   "id": "512fd6ae-7501-4432-b201-ebf43abc4993",
   "metadata": {
    "tags": []
   },
   "outputs": [],
   "source": []
  },
  {
   "cell_type": "code",
   "execution_count": 3,
   "id": "c00d39d3-ba77-46c5-9987-22eb71a2488a",
   "metadata": {
    "tags": []
   },
   "outputs": [],
   "source": [
    "X = video_games.drop(columns=[\"Global_Sales\"])\n",
    "y = video_games[\"Global_Sales\"]"
   ]
  },
  {
   "cell_type": "code",
   "execution_count": 4,
   "id": "f89f6fd2-0073-41ab-a7a7-e28b4988d57d",
   "metadata": {
    "tags": []
   },
   "outputs": [],
   "source": [
    "m = len(video_games)\n",
    "split_train = int(m * 0.7)\n",
    "split_val = int(m * 0.15 + split_train)\n",
    "split_test = int(m * 0.15 + split_val)\n",
    "\n",
    "\n",
    "X_train, y_train = X[:split_train], y[:split_train]\n",
    "X_val, y_val = X[split_train:split_val], y[split_train:split_val]\n",
    "X_test, y_test = X[split_val:split_test], y[split_val:split_test]"
   ]
  },
  {
   "cell_type": "code",
   "execution_count": 5,
   "id": "a3566e93-5273-473f-9f5f-2c694eae004f",
   "metadata": {
    "tags": []
   },
   "outputs": [
    {
     "data": {
      "text/plain": [
       "4777"
      ]
     },
     "execution_count": 5,
     "metadata": {},
     "output_type": "execute_result"
    }
   ],
   "source": [
    "len(X_train)"
   ]
  },
  {
   "cell_type": "markdown",
   "id": "92c02cf3-776b-4cd8-95df-084e237737a6",
   "metadata": {},
   "source": [
    "## stratifying data set"
   ]
  },
  {
   "cell_type": "code",
   "execution_count": 6,
   "id": "3dca3f48-bacf-4bc8-a520-7722064b3ece",
   "metadata": {
    "tags": []
   },
   "outputs": [],
   "source": [
    "video_games[\"Global_Sales_cat\"] = pd.cut(video_games[\"Global_Sales\"], \n",
    "                                         bins =[0.0,0.1,0.2,0.3,0.4,0.5,0.6,0.7,0.8,0.9,1,10,20,30,np.inf], \n",
    "                                         labels=[1,2,3,4,5,6,7,8,9,10,11,12,13,14])"
   ]
  },
  {
   "cell_type": "code",
   "execution_count": 7,
   "id": "9d22d21e-4887-4811-ace0-0beb6eb8103b",
   "metadata": {
    "tags": []
   },
   "outputs": [
    {
     "data": {
      "text/plain": [
       "Global_Sales_cat\n",
       "1     1601\n",
       "11    1267\n",
       "2     1146\n",
       "3      739\n",
       "4      510\n",
       "5      408\n",
       "6      358\n",
       "7      243\n",
       "8      204\n",
       "9      166\n",
       "10     143\n",
       "12      27\n",
       "13      10\n",
       "14       3\n",
       "Name: count, dtype: int64"
      ]
     },
     "execution_count": 7,
     "metadata": {},
     "output_type": "execute_result"
    }
   ],
   "source": [
    "video_games[\"Global_Sales_cat\"].value_counts()\n"
   ]
  },
  {
   "cell_type": "code",
   "execution_count": 8,
   "id": "daf9af6f-23eb-41f4-ae83-3613d1764a85",
   "metadata": {
    "tags": []
   },
   "outputs": [
    {
     "data": {
      "text/plain": [
       "<Axes: >"
      ]
     },
     "execution_count": 8,
     "metadata": {},
     "output_type": "execute_result"
    },
    {
     "data": {
      "image/png": "[encoded data removed]",
      "text/plain": [
       "<Figure size 640x480 with 1 Axes>"
      ]
     },
     "metadata": {},
     "output_type": "display_data"
    }
   ],
   "source": [
    "video_games[\"Global_Sales_cat\"].hist()"
   ]
  },
  {
   "cell_type": "code",
   "execution_count": 9,
   "id": "066f5caa-87c2-4038-9706-34031599a099",
   "metadata": {
    "tags": []
   },
   "outputs": [
    {
     "name": "stdout",
     "output_type": "stream",
     "text": [
      "Requirement already satisfied: pip in /Users/tobiaspoulsen/Library/Caches/pypoetry/virtualenvs/tobias-ZyYwskrO-py3.9/lib/python3.9/site-packages (23.1)\n",
      "Note: you may need to restart the kernel to use updated packages.\n"
     ]
    }
   ],
   "source": [
    "pip install --upgrade pip"
   ]
  },
  {
   "cell_type": "code",
   "execution_count": null,
   "id": "7816d1e6-dd20-458e-a875-ed34454ae9a2",
   "metadata": {
    "tags": []
   },
   "outputs": [],
   "source": []
  },
  {
   "cell_type": "code",
   "execution_count": 10,
   "id": "3572b480-1805-47a0-8d58-bb0c4dc116ea",
   "metadata": {
    "tags": []
   },
   "outputs": [],
   "source": [
    "from sklearn.model_selection import StratifiedShuffleSplit\n",
    "\n",
    "split = StratifiedShuffleSplit(n_splits=1, test_size=0.2, random_state=42)\n",
    "for train_index, test_index in split.split(video_games, video_games[\"Global_Sales_cat\"]):\n",
    "    strat_train_set = video_games.loc[train_index]\n",
    "    strat_test_set = video_games.loc[test_index]"
   ]
  },
  {
   "cell_type": "code",
   "execution_count": 11,
   "id": "bae9a16b-4a18-4b73-9282-c67f456d792a",
   "metadata": {
    "tags": []
   },
   "outputs": [
    {
     "data": {
      "text/plain": [
       "Global_Sales_cat\n",
       "1     0.234432\n",
       "11    0.185348\n",
       "2     0.167766\n",
       "3     0.108425\n",
       "4     0.074725\n",
       "5     0.060073\n",
       "6     0.052747\n",
       "7     0.035165\n",
       "8     0.030037\n",
       "9     0.024176\n",
       "10    0.021245\n",
       "12    0.003663\n",
       "13    0.001465\n",
       "14    0.000733\n",
       "Name: count, dtype: float64"
      ]
     },
     "execution_count": 11,
     "metadata": {},
     "output_type": "execute_result"
    }
   ],
   "source": [
    "strat_test_set[\"Global_Sales_cat\"].value_counts() / len(strat_test_set)\n"
   ]
  },
  {
   "cell_type": "code",
   "execution_count": 12,
   "id": "c0d654c6-fc15-4400-be7a-9b45a5f1c214",
   "metadata": {
    "tags": []
   },
   "outputs": [
    {
     "data": {
      "text/plain": [
       "Global_Sales_cat\n",
       "1     0.234579\n",
       "11    0.185641\n",
       "2     0.167912\n",
       "3     0.108278\n",
       "4     0.074725\n",
       "5     0.059780\n",
       "6     0.052454\n",
       "7     0.035604\n",
       "8     0.029890\n",
       "9     0.024322\n",
       "10    0.020952\n",
       "12    0.003956\n",
       "13    0.001465\n",
       "14    0.000440\n",
       "Name: count, dtype: float64"
      ]
     },
     "execution_count": 12,
     "metadata": {},
     "output_type": "execute_result"
    }
   ],
   "source": [
    "video_games[\"Global_Sales_cat\"].value_counts() / len(video_games)\n"
   ]
  },
  {
   "cell_type": "code",
   "execution_count": 13,
   "id": "22eadaad-af1c-4015-a25f-9dd38343f3c9",
   "metadata": {
    "tags": []
   },
   "outputs": [],
   "source": [
    "from sklearn.model_selection import train_test_split"
   ]
  },
  {
   "cell_type": "code",
   "execution_count": 14,
   "id": "ad7c3b14-0d3d-42ec-ae2f-b66846ec9038",
   "metadata": {
    "tags": []
   },
   "outputs": [],
   "source": [
    "def income_cat_proportions(data):\n",
    "    return data[\"Global_Sales_cat\"].value_counts() / len(data)\n",
    "\n",
    "train_set, test_set = train_test_split(video_games, test_size=0.2, random_state=42)\n",
    "\n",
    "compare_props = pd.DataFrame({\n",
    "    \"Overall\": income_cat_proportions(video_games),\n",
    "    \"Stratified\": income_cat_proportions(strat_test_set),\n",
    "    \"Random\": income_cat_proportions(test_set),\n",
    "}).sort_index()\n",
    "compare_props[\"Rand. %error\"] = 100 * compare_props[\"Random\"] / compare_props[\"Overall\"] - 100\n",
    "compare_props[\"Strat. %error\"] = 100 * compare_props[\"Stratified\"] / compare_props[\"Overall\"] - 100"
   ]
  },
  {
   "cell_type": "code",
   "execution_count": 15,
   "id": "697ddbb9-0301-44d2-bf79-c6fd78b4c69e",
   "metadata": {
    "tags": []
   },
   "outputs": [
    {
     "data": {
      "text/html": [
       "<div>\n",
       "<style scoped>\n",
       "    .dataframe tbody tr th:only-of-type {\n",
       "        vertical-align: middle;\n",
       "    }\n",
       "\n",
       "    .dataframe tbody tr th {\n",
       "        vertical-align: top;\n",
       "    }\n",
       "\n",
       "    .dataframe thead th {\n",
       "        text-align: right;\n",
       "    }\n",
       "</style>\n",
       "<table border=\"1\" class=\"dataframe\">\n",
       "  <thead>\n",
       "    <tr style=\"text-align: right;\">\n",
       "      <th></th>\n",
       "      <th>Overall</th>\n",
       "      <th>Stratified</th>\n",
       "      <th>Random</th>\n",
       "      <th>Rand. %error</th>\n",
       "      <th>Strat. %error</th>\n",
       "    </tr>\n",
       "    <tr>\n",
       "      <th>Global_Sales_cat</th>\n",
       "      <th></th>\n",
       "      <th></th>\n",
       "      <th></th>\n",
       "      <th></th>\n",
       "      <th></th>\n",
       "    </tr>\n",
       "  </thead>\n",
       "  <tbody>\n",
       "    <tr>\n",
       "      <th>1</th>\n",
       "      <td>0.234579</td>\n",
       "      <td>0.234432</td>\n",
       "      <td>0.237363</td>\n",
       "      <td>1.186758</td>\n",
       "      <td>-0.062461</td>\n",
       "    </tr>\n",
       "    <tr>\n",
       "      <th>2</th>\n",
       "      <td>0.167912</td>\n",
       "      <td>0.167766</td>\n",
       "      <td>0.153846</td>\n",
       "      <td>-8.376963</td>\n",
       "      <td>-0.087260</td>\n",
       "    </tr>\n",
       "    <tr>\n",
       "      <th>3</th>\n",
       "      <td>0.108278</td>\n",
       "      <td>0.108425</td>\n",
       "      <td>0.101099</td>\n",
       "      <td>-6.630582</td>\n",
       "      <td>0.135318</td>\n",
       "    </tr>\n",
       "    <tr>\n",
       "      <th>4</th>\n",
       "      <td>0.074725</td>\n",
       "      <td>0.074725</td>\n",
       "      <td>0.084982</td>\n",
       "      <td>13.725490</td>\n",
       "      <td>0.000000</td>\n",
       "    </tr>\n",
       "    <tr>\n",
       "      <th>5</th>\n",
       "      <td>0.059780</td>\n",
       "      <td>0.060073</td>\n",
       "      <td>0.054945</td>\n",
       "      <td>-8.088235</td>\n",
       "      <td>0.490196</td>\n",
       "    </tr>\n",
       "    <tr>\n",
       "      <th>6</th>\n",
       "      <td>0.052454</td>\n",
       "      <td>0.052747</td>\n",
       "      <td>0.057875</td>\n",
       "      <td>10.335196</td>\n",
       "      <td>0.558659</td>\n",
       "    </tr>\n",
       "    <tr>\n",
       "      <th>7</th>\n",
       "      <td>0.035604</td>\n",
       "      <td>0.035165</td>\n",
       "      <td>0.027106</td>\n",
       "      <td>-23.868313</td>\n",
       "      <td>-1.234568</td>\n",
       "    </tr>\n",
       "    <tr>\n",
       "      <th>8</th>\n",
       "      <td>0.029890</td>\n",
       "      <td>0.030037</td>\n",
       "      <td>0.029304</td>\n",
       "      <td>-1.960784</td>\n",
       "      <td>0.490196</td>\n",
       "    </tr>\n",
       "    <tr>\n",
       "      <th>9</th>\n",
       "      <td>0.024322</td>\n",
       "      <td>0.024176</td>\n",
       "      <td>0.030037</td>\n",
       "      <td>23.493976</td>\n",
       "      <td>-0.602410</td>\n",
       "    </tr>\n",
       "    <tr>\n",
       "      <th>10</th>\n",
       "      <td>0.020952</td>\n",
       "      <td>0.021245</td>\n",
       "      <td>0.027839</td>\n",
       "      <td>32.867133</td>\n",
       "      <td>1.398601</td>\n",
       "    </tr>\n",
       "    <tr>\n",
       "      <th>11</th>\n",
       "      <td>0.185641</td>\n",
       "      <td>0.185348</td>\n",
       "      <td>0.188278</td>\n",
       "      <td>1.420679</td>\n",
       "      <td>-0.157853</td>\n",
       "    </tr>\n",
       "    <tr>\n",
       "      <th>12</th>\n",
       "      <td>0.003956</td>\n",
       "      <td>0.003663</td>\n",
       "      <td>0.006593</td>\n",
       "      <td>66.666667</td>\n",
       "      <td>-7.407407</td>\n",
       "    </tr>\n",
       "    <tr>\n",
       "      <th>13</th>\n",
       "      <td>0.001465</td>\n",
       "      <td>0.001465</td>\n",
       "      <td>0.000733</td>\n",
       "      <td>-50.000000</td>\n",
       "      <td>0.000000</td>\n",
       "    </tr>\n",
       "    <tr>\n",
       "      <th>14</th>\n",
       "      <td>0.000440</td>\n",
       "      <td>0.000733</td>\n",
       "      <td>0.000000</td>\n",
       "      <td>-100.000000</td>\n",
       "      <td>66.666667</td>\n",
       "    </tr>\n",
       "  </tbody>\n",
       "</table>\n",
       "</div>"
      ],
      "text/plain": [
       "                   Overall  Stratified    Random  Rand. %error  Strat. %error\n",
       "Global_Sales_cat                                                             \n",
       "1                 0.234579    0.234432  0.237363      1.186758      -0.062461\n",
       "2                 0.167912    0.167766  0.153846     -8.376963      -0.087260\n",
       "3                 0.108278    0.108425  0.101099     -6.630582       0.135318\n",
       "4                 0.074725    0.074725  0.084982     13.725490       0.000000\n",
       "5                 0.059780    0.060073  0.054945     -8.088235       0.490196\n",
       "6                 0.052454    0.052747  0.057875     10.335196       0.558659\n",
       "7                 0.035604    0.035165  0.027106    -23.868313      -1.234568\n",
       "8                 0.029890    0.030037  0.029304     -1.960784       0.490196\n",
       "9                 0.024322    0.024176  0.030037     23.493976      -0.602410\n",
       "10                0.020952    0.021245  0.027839     32.867133       1.398601\n",
       "11                0.185641    0.185348  0.188278      1.420679      -0.157853\n",
       "12                0.003956    0.003663  0.006593     66.666667      -7.407407\n",
       "13                0.001465    0.001465  0.000733    -50.000000       0.000000\n",
       "14                0.000440    0.000733  0.000000   -100.000000      66.666667"
      ]
     },
     "execution_count": 15,
     "metadata": {},
     "output_type": "execute_result"
    }
   ],
   "source": [
    "compare_props"
   ]
  },
  {
   "cell_type": "code",
   "execution_count": 16,
   "id": "c19f3b76-35aa-4f68-a71a-93417c2abe07",
   "metadata": {
    "tags": []
   },
   "outputs": [],
   "source": [
    "for set_ in (strat_train_set, strat_test_set):\n",
    "    set_.drop(\"Global_Sales_cat\", axis=1, inplace=True)"
   ]
  },
  {
   "cell_type": "markdown",
   "id": "a57f99d0-6d82-48c7-aa25-771aae2b0450",
   "metadata": {},
   "source": [
    "## Preparing data for ML Algorithms "
   ]
  },
  {
   "cell_type": "markdown",
   "id": "ecd27e76",
   "metadata": {},
   "source": []
  },
  {
   "cell_type": "code",
   "execution_count": 17,
   "id": "19d54c96",
   "metadata": {
    "tags": []
   },
   "outputs": [],
   "source": [
    "video_games_features = strat_train_set.drop(columns=[\"Global_Sales\"])\n",
    "video_games_labels = strat_train_set[\"Global_Sales\"]"
   ]
  },
  {
   "cell_type": "markdown",
   "id": "1a71346a-f142-4af4-b921-c14b1b060ed9",
   "metadata": {},
   "source": [
    "## removing of text attributes "
   ]
  },
  {
   "cell_type": "code",
   "execution_count": 18,
   "id": "4a6eb08a-8347-4e5d-8348-906b53f362f1",
   "metadata": {
    "tags": []
   },
   "outputs": [],
   "source": [
    "video_games_features_numerical = video_games_features.drop(columns=[\"Name\",\"Platform\",\"Genre\",\"Publisher\",\"Developer\",\"Rating\"])"
   ]
  },
  {
   "cell_type": "code",
   "execution_count": 19,
   "id": "e5e254ab-60f2-4cb6-8e95-87948b99ab61",
   "metadata": {
    "tags": []
   },
   "outputs": [
    {
     "data": {
      "text/html": [
       "<div>\n",
       "<style scoped>\n",
       "    .dataframe tbody tr th:only-of-type {\n",
       "        vertical-align: middle;\n",
       "    }\n",
       "\n",
       "    .dataframe tbody tr th {\n",
       "        vertical-align: top;\n",
       "    }\n",
       "\n",
       "    .dataframe thead th {\n",
       "        text-align: right;\n",
       "    }\n",
       "</style>\n",
       "<table border=\"1\" class=\"dataframe\">\n",
       "  <thead>\n",
       "    <tr style=\"text-align: right;\">\n",
       "      <th></th>\n",
       "      <th>Year_of_Release</th>\n",
       "      <th>Critic_Score</th>\n",
       "      <th>Critic_Count</th>\n",
       "      <th>User_Score</th>\n",
       "      <th>User_Count</th>\n",
       "    </tr>\n",
       "  </thead>\n",
       "  <tbody>\n",
       "    <tr>\n",
       "      <th>3156</th>\n",
       "      <td>2008.0</td>\n",
       "      <td>88.0</td>\n",
       "      <td>25.0</td>\n",
       "      <td>7.7</td>\n",
       "      <td>41.0</td>\n",
       "    </tr>\n",
       "    <tr>\n",
       "      <th>2163</th>\n",
       "      <td>2008.0</td>\n",
       "      <td>45.0</td>\n",
       "      <td>43.0</td>\n",
       "      <td>5.9</td>\n",
       "      <td>52.0</td>\n",
       "    </tr>\n",
       "    <tr>\n",
       "      <th>4310</th>\n",
       "      <td>2010.0</td>\n",
       "      <td>39.0</td>\n",
       "      <td>5.0</td>\n",
       "      <td>5.6</td>\n",
       "      <td>13.0</td>\n",
       "    </tr>\n",
       "    <tr>\n",
       "      <th>4817</th>\n",
       "      <td>2011.0</td>\n",
       "      <td>35.0</td>\n",
       "      <td>11.0</td>\n",
       "      <td>4.7</td>\n",
       "      <td>7.0</td>\n",
       "    </tr>\n",
       "    <tr>\n",
       "      <th>357</th>\n",
       "      <td>2001.0</td>\n",
       "      <td>89.0</td>\n",
       "      <td>22.0</td>\n",
       "      <td>8.6</td>\n",
       "      <td>39.0</td>\n",
       "    </tr>\n",
       "    <tr>\n",
       "      <th>...</th>\n",
       "      <td>...</td>\n",
       "      <td>...</td>\n",
       "      <td>...</td>\n",
       "      <td>...</td>\n",
       "      <td>...</td>\n",
       "    </tr>\n",
       "    <tr>\n",
       "      <th>524</th>\n",
       "      <td>2011.0</td>\n",
       "      <td>86.0</td>\n",
       "      <td>66.0</td>\n",
       "      <td>8.3</td>\n",
       "      <td>382.0</td>\n",
       "    </tr>\n",
       "    <tr>\n",
       "      <th>939</th>\n",
       "      <td>2006.0</td>\n",
       "      <td>79.0</td>\n",
       "      <td>76.0</td>\n",
       "      <td>7.1</td>\n",
       "      <td>187.0</td>\n",
       "    </tr>\n",
       "    <tr>\n",
       "      <th>2810</th>\n",
       "      <td>2007.0</td>\n",
       "      <td>73.0</td>\n",
       "      <td>37.0</td>\n",
       "      <td>7.6</td>\n",
       "      <td>82.0</td>\n",
       "    </tr>\n",
       "    <tr>\n",
       "      <th>3504</th>\n",
       "      <td>2002.0</td>\n",
       "      <td>76.0</td>\n",
       "      <td>22.0</td>\n",
       "      <td>8.9</td>\n",
       "      <td>15.0</td>\n",
       "    </tr>\n",
       "    <tr>\n",
       "      <th>5408</th>\n",
       "      <td>2005.0</td>\n",
       "      <td>94.0</td>\n",
       "      <td>32.0</td>\n",
       "      <td>8.7</td>\n",
       "      <td>121.0</td>\n",
       "    </tr>\n",
       "  </tbody>\n",
       "</table>\n",
       "<p>5460 rows × 5 columns</p>\n",
       "</div>"
      ],
      "text/plain": [
       "      Year_of_Release  Critic_Score  Critic_Count  User_Score  User_Count\n",
       "3156           2008.0          88.0          25.0         7.7        41.0\n",
       "2163           2008.0          45.0          43.0         5.9        52.0\n",
       "4310           2010.0          39.0           5.0         5.6        13.0\n",
       "4817           2011.0          35.0          11.0         4.7         7.0\n",
       "357            2001.0          89.0          22.0         8.6        39.0\n",
       "...               ...           ...           ...         ...         ...\n",
       "524            2011.0          86.0          66.0         8.3       382.0\n",
       "939            2006.0          79.0          76.0         7.1       187.0\n",
       "2810           2007.0          73.0          37.0         7.6        82.0\n",
       "3504           2002.0          76.0          22.0         8.9        15.0\n",
       "5408           2005.0          94.0          32.0         8.7       121.0\n",
       "\n",
       "[5460 rows x 5 columns]"
      ]
     },
     "execution_count": 19,
     "metadata": {},
     "output_type": "execute_result"
    }
   ],
   "source": [
    "video_games_features_numerical"
   ]
  },
  {
   "cell_type": "code",
   "execution_count": 20,
   "id": "42e54bcd-c98c-4492-865f-117f64399a5b",
   "metadata": {
    "tags": []
   },
   "outputs": [
    {
     "data": {
      "text/html": [
       "<div>\n",
       "<style scoped>\n",
       "    .dataframe tbody tr th:only-of-type {\n",
       "        vertical-align: middle;\n",
       "    }\n",
       "\n",
       "    .dataframe tbody tr th {\n",
       "        vertical-align: top;\n",
       "    }\n",
       "\n",
       "    .dataframe thead th {\n",
       "        text-align: right;\n",
       "    }\n",
       "</style>\n",
       "<table border=\"1\" class=\"dataframe\">\n",
       "  <thead>\n",
       "    <tr style=\"text-align: right;\">\n",
       "      <th></th>\n",
       "      <th>Name</th>\n",
       "      <th>Platform</th>\n",
       "      <th>Year_of_Release</th>\n",
       "      <th>Genre</th>\n",
       "      <th>Publisher</th>\n",
       "      <th>Critic_Score</th>\n",
       "      <th>Critic_Count</th>\n",
       "      <th>User_Score</th>\n",
       "      <th>User_Count</th>\n",
       "      <th>Developer</th>\n",
       "      <th>Rating</th>\n",
       "    </tr>\n",
       "  </thead>\n",
       "  <tbody>\n",
       "    <tr>\n",
       "      <th>3156</th>\n",
       "      <td>NHL 09</td>\n",
       "      <td>PS3</td>\n",
       "      <td>2008.0</td>\n",
       "      <td>Sports</td>\n",
       "      <td>Electronic Arts</td>\n",
       "      <td>88.0</td>\n",
       "      <td>25.0</td>\n",
       "      <td>7.7</td>\n",
       "      <td>41.0</td>\n",
       "      <td>EA Canada</td>\n",
       "      <td>E10+</td>\n",
       "    </tr>\n",
       "    <tr>\n",
       "      <th>2163</th>\n",
       "      <td>Iron Man</td>\n",
       "      <td>X360</td>\n",
       "      <td>2008.0</td>\n",
       "      <td>Action</td>\n",
       "      <td>Sega</td>\n",
       "      <td>45.0</td>\n",
       "      <td>43.0</td>\n",
       "      <td>5.9</td>\n",
       "      <td>52.0</td>\n",
       "      <td>Secret Level</td>\n",
       "      <td>T</td>\n",
       "    </tr>\n",
       "    <tr>\n",
       "      <th>4310</th>\n",
       "      <td>CSI: Fatal Conspiracy</td>\n",
       "      <td>PS3</td>\n",
       "      <td>2010.0</td>\n",
       "      <td>Adventure</td>\n",
       "      <td>Ubisoft</td>\n",
       "      <td>39.0</td>\n",
       "      <td>5.0</td>\n",
       "      <td>5.6</td>\n",
       "      <td>13.0</td>\n",
       "      <td>Telltale Games</td>\n",
       "      <td>M</td>\n",
       "    </tr>\n",
       "    <tr>\n",
       "      <th>4817</th>\n",
       "      <td>NCIS</td>\n",
       "      <td>X360</td>\n",
       "      <td>2011.0</td>\n",
       "      <td>Adventure</td>\n",
       "      <td>Ubisoft</td>\n",
       "      <td>35.0</td>\n",
       "      <td>11.0</td>\n",
       "      <td>4.7</td>\n",
       "      <td>7.0</td>\n",
       "      <td>Ubisoft</td>\n",
       "      <td>T</td>\n",
       "    </tr>\n",
       "    <tr>\n",
       "      <th>357</th>\n",
       "      <td>NBA Street</td>\n",
       "      <td>PS2</td>\n",
       "      <td>2001.0</td>\n",
       "      <td>Sports</td>\n",
       "      <td>Electronic Arts</td>\n",
       "      <td>89.0</td>\n",
       "      <td>22.0</td>\n",
       "      <td>8.6</td>\n",
       "      <td>39.0</td>\n",
       "      <td>NuFX</td>\n",
       "      <td>E</td>\n",
       "    </tr>\n",
       "    <tr>\n",
       "      <th>...</th>\n",
       "      <td>...</td>\n",
       "      <td>...</td>\n",
       "      <td>...</td>\n",
       "      <td>...</td>\n",
       "      <td>...</td>\n",
       "      <td>...</td>\n",
       "      <td>...</td>\n",
       "      <td>...</td>\n",
       "      <td>...</td>\n",
       "      <td>...</td>\n",
       "      <td>...</td>\n",
       "    </tr>\n",
       "    <tr>\n",
       "      <th>524</th>\n",
       "      <td>Mortal Kombat</td>\n",
       "      <td>X360</td>\n",
       "      <td>2011.0</td>\n",
       "      <td>Fighting</td>\n",
       "      <td>Warner Bros. Interactive Entertainment</td>\n",
       "      <td>86.0</td>\n",
       "      <td>66.0</td>\n",
       "      <td>8.3</td>\n",
       "      <td>382.0</td>\n",
       "      <td>NetherRealm Studios</td>\n",
       "      <td>M</td>\n",
       "    </tr>\n",
       "    <tr>\n",
       "      <th>939</th>\n",
       "      <td>Lost Planet: Extreme Condition</td>\n",
       "      <td>X360</td>\n",
       "      <td>2006.0</td>\n",
       "      <td>Shooter</td>\n",
       "      <td>Capcom</td>\n",
       "      <td>79.0</td>\n",
       "      <td>76.0</td>\n",
       "      <td>7.1</td>\n",
       "      <td>187.0</td>\n",
       "      <td>Capcom</td>\n",
       "      <td>T</td>\n",
       "    </tr>\n",
       "    <tr>\n",
       "      <th>2810</th>\n",
       "      <td>Medal of Honor Heroes 2</td>\n",
       "      <td>Wii</td>\n",
       "      <td>2007.0</td>\n",
       "      <td>Shooter</td>\n",
       "      <td>Electronic Arts</td>\n",
       "      <td>73.0</td>\n",
       "      <td>37.0</td>\n",
       "      <td>7.6</td>\n",
       "      <td>82.0</td>\n",
       "      <td>EA Canada</td>\n",
       "      <td>T</td>\n",
       "    </tr>\n",
       "    <tr>\n",
       "      <th>3504</th>\n",
       "      <td>NFL Blitz 20-02</td>\n",
       "      <td>PS2</td>\n",
       "      <td>2002.0</td>\n",
       "      <td>Sports</td>\n",
       "      <td>Midway Games</td>\n",
       "      <td>76.0</td>\n",
       "      <td>22.0</td>\n",
       "      <td>8.9</td>\n",
       "      <td>15.0</td>\n",
       "      <td>Midway</td>\n",
       "      <td>E</td>\n",
       "    </tr>\n",
       "    <tr>\n",
       "      <th>5408</th>\n",
       "      <td>Ninja Gaiden Black</td>\n",
       "      <td>XB</td>\n",
       "      <td>2005.0</td>\n",
       "      <td>Action</td>\n",
       "      <td>Microsoft Game Studios</td>\n",
       "      <td>94.0</td>\n",
       "      <td>32.0</td>\n",
       "      <td>8.7</td>\n",
       "      <td>121.0</td>\n",
       "      <td>Team Ninja</td>\n",
       "      <td>M</td>\n",
       "    </tr>\n",
       "  </tbody>\n",
       "</table>\n",
       "<p>5460 rows × 11 columns</p>\n",
       "</div>"
      ],
      "text/plain": [
       "                                Name Platform  Year_of_Release      Genre   \n",
       "3156                          NHL 09      PS3           2008.0     Sports  \\\n",
       "2163                        Iron Man     X360           2008.0     Action   \n",
       "4310           CSI: Fatal Conspiracy      PS3           2010.0  Adventure   \n",
       "4817                            NCIS     X360           2011.0  Adventure   \n",
       "357                       NBA Street      PS2           2001.0     Sports   \n",
       "...                              ...      ...              ...        ...   \n",
       "524                    Mortal Kombat     X360           2011.0   Fighting   \n",
       "939   Lost Planet: Extreme Condition     X360           2006.0    Shooter   \n",
       "2810         Medal of Honor Heroes 2      Wii           2007.0    Shooter   \n",
       "3504                 NFL Blitz 20-02      PS2           2002.0     Sports   \n",
       "5408              Ninja Gaiden Black       XB           2005.0     Action   \n",
       "\n",
       "                                   Publisher  Critic_Score  Critic_Count   \n",
       "3156                         Electronic Arts          88.0          25.0  \\\n",
       "2163                                    Sega          45.0          43.0   \n",
       "4310                                 Ubisoft          39.0           5.0   \n",
       "4817                                 Ubisoft          35.0          11.0   \n",
       "357                          Electronic Arts          89.0          22.0   \n",
       "...                                      ...           ...           ...   \n",
       "524   Warner Bros. Interactive Entertainment          86.0          66.0   \n",
       "939                                   Capcom          79.0          76.0   \n",
       "2810                         Electronic Arts          73.0          37.0   \n",
       "3504                            Midway Games          76.0          22.0   \n",
       "5408                  Microsoft Game Studios          94.0          32.0   \n",
       "\n",
       "      User_Score  User_Count            Developer Rating  \n",
       "3156         7.7        41.0            EA Canada   E10+  \n",
       "2163         5.9        52.0         Secret Level      T  \n",
       "4310         5.6        13.0       Telltale Games      M  \n",
       "4817         4.7         7.0              Ubisoft      T  \n",
       "357          8.6        39.0                 NuFX      E  \n",
       "...          ...         ...                  ...    ...  \n",
       "524          8.3       382.0  NetherRealm Studios      M  \n",
       "939          7.1       187.0               Capcom      T  \n",
       "2810         7.6        82.0            EA Canada      T  \n",
       "3504         8.9        15.0               Midway      E  \n",
       "5408         8.7       121.0           Team Ninja      M  \n",
       "\n",
       "[5460 rows x 11 columns]"
      ]
     },
     "execution_count": 20,
     "metadata": {},
     "output_type": "execute_result"
    }
   ],
   "source": [
    "video_games_features"
   ]
  },
  {
   "cell_type": "markdown",
   "id": "731f5329-fab2-469f-83c8-f140179015ee",
   "metadata": {},
   "source": [
    "## Getting Categorical data "
   ]
  },
  {
   "cell_type": "code",
   "execution_count": 21,
   "id": "65133e00-c1e6-46b2-a5b6-4bf01bd13bee",
   "metadata": {},
   "outputs": [],
   "source": [
    "video_games_cat = video_games_features[[\"Name\",\"Platform\",\"Genre\",\"Publisher\",\"Developer\",\"Rating\"]]"
   ]
  },
  {
   "cell_type": "code",
   "execution_count": 22,
   "id": "5339483c-90ef-40f4-a2e3-7fce5032d9f1",
   "metadata": {
    "tags": []
   },
   "outputs": [
    {
     "data": {
      "text/html": [
       "<div>\n",
       "<style scoped>\n",
       "    .dataframe tbody tr th:only-of-type {\n",
       "        vertical-align: middle;\n",
       "    }\n",
       "\n",
       "    .dataframe tbody tr th {\n",
       "        vertical-align: top;\n",
       "    }\n",
       "\n",
       "    .dataframe thead th {\n",
       "        text-align: right;\n",
       "    }\n",
       "</style>\n",
       "<table border=\"1\" class=\"dataframe\">\n",
       "  <thead>\n",
       "    <tr style=\"text-align: right;\">\n",
       "      <th></th>\n",
       "      <th>Name</th>\n",
       "      <th>Platform</th>\n",
       "      <th>Genre</th>\n",
       "      <th>Publisher</th>\n",
       "      <th>Developer</th>\n",
       "      <th>Rating</th>\n",
       "    </tr>\n",
       "  </thead>\n",
       "  <tbody>\n",
       "    <tr>\n",
       "      <th>3156</th>\n",
       "      <td>NHL 09</td>\n",
       "      <td>PS3</td>\n",
       "      <td>Sports</td>\n",
       "      <td>Electronic Arts</td>\n",
       "      <td>EA Canada</td>\n",
       "      <td>E10+</td>\n",
       "    </tr>\n",
       "    <tr>\n",
       "      <th>2163</th>\n",
       "      <td>Iron Man</td>\n",
       "      <td>X360</td>\n",
       "      <td>Action</td>\n",
       "      <td>Sega</td>\n",
       "      <td>Secret Level</td>\n",
       "      <td>T</td>\n",
       "    </tr>\n",
       "    <tr>\n",
       "      <th>4310</th>\n",
       "      <td>CSI: Fatal Conspiracy</td>\n",
       "      <td>PS3</td>\n",
       "      <td>Adventure</td>\n",
       "      <td>Ubisoft</td>\n",
       "      <td>Telltale Games</td>\n",
       "      <td>M</td>\n",
       "    </tr>\n",
       "    <tr>\n",
       "      <th>4817</th>\n",
       "      <td>NCIS</td>\n",
       "      <td>X360</td>\n",
       "      <td>Adventure</td>\n",
       "      <td>Ubisoft</td>\n",
       "      <td>Ubisoft</td>\n",
       "      <td>T</td>\n",
       "    </tr>\n",
       "    <tr>\n",
       "      <th>357</th>\n",
       "      <td>NBA Street</td>\n",
       "      <td>PS2</td>\n",
       "      <td>Sports</td>\n",
       "      <td>Electronic Arts</td>\n",
       "      <td>NuFX</td>\n",
       "      <td>E</td>\n",
       "    </tr>\n",
       "  </tbody>\n",
       "</table>\n",
       "</div>"
      ],
      "text/plain": [
       "                       Name Platform      Genre        Publisher   \n",
       "3156                 NHL 09      PS3     Sports  Electronic Arts  \\\n",
       "2163               Iron Man     X360     Action             Sega   \n",
       "4310  CSI: Fatal Conspiracy      PS3  Adventure          Ubisoft   \n",
       "4817                   NCIS     X360  Adventure          Ubisoft   \n",
       "357              NBA Street      PS2     Sports  Electronic Arts   \n",
       "\n",
       "           Developer Rating  \n",
       "3156       EA Canada   E10+  \n",
       "2163    Secret Level      T  \n",
       "4310  Telltale Games      M  \n",
       "4817         Ubisoft      T  \n",
       "357             NuFX      E  "
      ]
     },
     "execution_count": 22,
     "metadata": {},
     "output_type": "execute_result"
    }
   ],
   "source": [
    "video_games_cat.head()"
   ]
  },
  {
   "cell_type": "markdown",
   "id": "34c826f1-34f1-4cd6-a510-0343fcd9d4ed",
   "metadata": {},
   "source": [
    "## Using OneHotEncoder"
   ]
  },
  {
   "cell_type": "code",
   "execution_count": 23,
   "id": "b75e9d61-01e6-4639-a356-ab13c8748d28",
   "metadata": {
    "tags": []
   },
   "outputs": [],
   "source": [
    "from sklearn.preprocessing import OneHotEncoder\n"
   ]
  },
  {
   "cell_type": "code",
   "execution_count": 24,
   "id": "e9042915-b29d-43cb-83a0-c1fe6190fd9c",
   "metadata": {
    "tags": []
   },
   "outputs": [
    {
     "data": {
      "text/plain": [
       "<5460x5231 sparse matrix of type '<class 'numpy.float64'>'\n",
       "\twith 32760 stored elements in Compressed Sparse Row format>"
      ]
     },
     "execution_count": 24,
     "metadata": {},
     "output_type": "execute_result"
    }
   ],
   "source": [
    "cat_encoder = OneHotEncoder()\n",
    "video_games_1hot = cat_encoder.fit_transform(video_games_cat)\n",
    "video_games_1hot"
   ]
  },
  {
   "cell_type": "code",
   "execution_count": 25,
   "id": "e2892ae0-4cc2-48d4-b234-c161263fa58c",
   "metadata": {
    "tags": []
   },
   "outputs": [
    {
     "data": {
      "text/plain": [
       "array([[0., 0., 0., ..., 0., 0., 0.],\n",
       "       [0., 0., 0., ..., 0., 0., 1.],\n",
       "       [0., 0., 0., ..., 1., 0., 0.],\n",
       "       ...,\n",
       "       [0., 0., 0., ..., 0., 0., 1.],\n",
       "       [0., 0., 0., ..., 0., 0., 0.],\n",
       "       [0., 0., 0., ..., 1., 0., 0.]])"
      ]
     },
     "execution_count": 25,
     "metadata": {},
     "output_type": "execute_result"
    }
   ],
   "source": [
    "video_games_1hot.toarray()"
   ]
  },
  {
   "cell_type": "code",
   "execution_count": 26,
   "id": "cce5862f-fc7c-4276-a8f6-e376a93039fa",
   "metadata": {
    "tags": []
   },
   "outputs": [],
   "source": [
    "#Use This to see all categories:\n",
    "#cat_encoder.categories_\n"
   ]
  },
  {
   "cell_type": "markdown",
   "id": "72c43e1c-1003-4045-98f3-b71f0f265384",
   "metadata": {},
   "source": [
    "## Creating a customtransfomer for Critic_Score and Critic_Raiting"
   ]
  },
  {
   "cell_type": "code",
   "execution_count": 27,
   "id": "5ec6e2cb-c655-4243-a1c3-a019f5be903b",
   "metadata": {
    "tags": []
   },
   "outputs": [],
   "source": [
    "from sklearn.base import BaseEstimator, TransformerMixin\n"
   ]
  },
  {
   "cell_type": "code",
   "execution_count": 28,
   "id": "053b0ee1-25eb-4612-b59a-22aeb6eab849",
   "metadata": {
    "tags": []
   },
   "outputs": [],
   "source": [
    "class CombinedAttributesAdder(BaseEstimator, TransformerMixin):\n",
    "    def __init__(self): # no *args or **kargs\n",
    "        pass\n",
    "    def fit(self, X, y=None):\n",
    "        return self  # nothing else to do\n",
    "    def transform(self, X):\n",
    "        X['Critic_Score_And_Count'] = X[\"Critic_Score\"] + X[\"Critic_Count\"]\n",
    "\n",
    "        return np.c_[X]\n"
   ]
  },
  {
   "cell_type": "code",
   "execution_count": 29,
   "id": "5b143607-88f6-4e5e-a4ee-9c238122c735",
   "metadata": {
    "tags": []
   },
   "outputs": [],
   "source": [
    "attr_adder = CombinedAttributesAdder()\n"
   ]
  },
  {
   "cell_type": "code",
   "execution_count": 30,
   "id": "b41a8ea4-66bc-4699-81d1-56a4104da36c",
   "metadata": {
    "tags": []
   },
   "outputs": [],
   "source": [
    "video_games_extra_features = attr_adder.transform(video_games_features)"
   ]
  },
  {
   "cell_type": "code",
   "execution_count": 31,
   "id": "fb51205b-05fc-4379-9c0e-29a3aa55d0cb",
   "metadata": {
    "tags": []
   },
   "outputs": [
    {
     "data": {
      "text/plain": [
       "array([['NHL 09', 'PS3', 2008.0, ..., 'EA Canada', 'E10+', 113.0],\n",
       "       ['Iron Man', 'X360', 2008.0, ..., 'Secret Level', 'T', 88.0],\n",
       "       ['CSI: Fatal Conspiracy', 'PS3', 2010.0, ..., 'Telltale Games',\n",
       "        'M', 44.0],\n",
       "       ...,\n",
       "       ['Medal of Honor Heroes 2', 'Wii', 2007.0, ..., 'EA Canada', 'T',\n",
       "        110.0],\n",
       "       ['NFL Blitz 20-02', 'PS2', 2002.0, ..., 'Midway', 'E', 98.0],\n",
       "       ['Ninja Gaiden Black', 'XB', 2005.0, ..., 'Team Ninja', 'M',\n",
       "        126.0]], dtype=object)"
      ]
     },
     "execution_count": 31,
     "metadata": {},
     "output_type": "execute_result"
    }
   ],
   "source": [
    "video_games_extra_features"
   ]
  },
  {
   "cell_type": "markdown",
   "id": "8cc2413b-1ab6-4d82-9a40-1bd3646fa94d",
   "metadata": {},
   "source": [
    "## Creating Pipelines"
   ]
  },
  {
   "cell_type": "markdown",
   "id": "d607008f-9968-4f32-98ca-8ebc2fbc8cfe",
   "metadata": {},
   "source": [
    "## Pipeline for numerical data"
   ]
  },
  {
   "cell_type": "code",
   "execution_count": 38,
   "id": "5ca8f463-7f41-4828-978f-c54f30c92689",
   "metadata": {
    "tags": []
   },
   "outputs": [],
   "source": [
    "from sklearn.pipeline import Pipeline\n",
    "from sklearn.preprocessing import StandardScaler\n",
    "from sklearn.preprocessing import MinMaxScaler\n",
    "\n",
    "num_pipeline = Pipeline([\n",
    "        ('attribs_adder', CombinedAttributesAdder()),\n",
    "        ('std_scaler', StandardScaler()),\n",
    "    ])\n",
    "\n",
    "video_games_features_numerical_tr = num_pipeline.fit_transform(video_games_features_numerical)"
   ]
  },
  {
   "cell_type": "code",
   "execution_count": 39,
   "id": "11d71be5-afd6-450e-9095-1731420d75e9",
   "metadata": {
    "tags": []
   },
   "outputs": [
    {
     "data": {
      "text/plain": [
       "array([[ 0.13192836,  1.27420397, -0.21110211,  0.35718339, -0.22460299,\n",
       "         0.48694011],\n",
       "       [ 0.13192836, -1.81987908,  0.71880311, -0.88574348, -0.20643219,\n",
       "        -0.40672619],\n",
       "       [ 0.60707929, -2.25161159, -1.24433013, -1.09289796, -0.27085593,\n",
       "        -1.97957889],\n",
       "       ...,\n",
       "       [-0.10564711,  0.19487267,  0.4088347 ,  0.2881319 , -0.15687547,\n",
       "         0.37970015],\n",
       "       [-1.29352446,  0.41073893, -0.36608631,  1.1858013 , -0.26755215,\n",
       "        -0.04925967],\n",
       "       [-0.58079805,  1.70593648,  0.1505277 ,  1.04769832, -0.09245173,\n",
       "         0.95164659]])"
      ]
     },
     "execution_count": 39,
     "metadata": {},
     "output_type": "execute_result"
    }
   ],
   "source": [
    "video_games_features_numerical_tr"
   ]
  },
  {
   "cell_type": "markdown",
   "id": "8222545c-74a8-4123-b959-dfc6c56880f9",
   "metadata": {},
   "source": [
    "## Pipeline for Categorical Data and nnumerical data"
   ]
  },
  {
   "cell_type": "code",
   "execution_count": 40,
   "id": "38436125-faf5-4ca1-a3f0-bd700355d8bc",
   "metadata": {
    "tags": []
   },
   "outputs": [],
   "source": [
    "from sklearn.compose import ColumnTransformer\n",
    "\n",
    "num_attribs = list(video_games_features_numerical)\n",
    "cat_attribs = list(video_games_cat)\n",
    "\n",
    "full_pipeline = ColumnTransformer([\n",
    "        (\"num\", num_pipeline, num_attribs),\n",
    "        (\"cat\", OneHotEncoder(), cat_attribs),\n",
    "    ])\n",
    "\n",
    "video_games_features_prepared = full_pipeline.fit_transform(video_games_features)"
   ]
  },
  {
   "cell_type": "code",
   "execution_count": 41,
   "id": "22282e73-726a-4c1e-ab1e-e35edbd01c22",
   "metadata": {
    "tags": []
   },
   "outputs": [
    {
     "data": {
      "text/plain": [
       "array([[ 0.13192836,  1.27420397, -0.21110211, ...,  0.        ,\n",
       "         0.        ,  0.        ],\n",
       "       [ 0.13192836, -1.81987908,  0.71880311, ...,  0.        ,\n",
       "         0.        ,  1.        ],\n",
       "       [ 0.60707929, -2.25161159, -1.24433013, ...,  1.        ,\n",
       "         0.        ,  0.        ],\n",
       "       ...,\n",
       "       [-0.10564711,  0.19487267,  0.4088347 , ...,  0.        ,\n",
       "         0.        ,  1.        ],\n",
       "       [-1.29352446,  0.41073893, -0.36608631, ...,  0.        ,\n",
       "         0.        ,  0.        ],\n",
       "       [-0.58079805,  1.70593648,  0.1505277 , ...,  1.        ,\n",
       "         0.        ,  0.        ]])"
      ]
     },
     "execution_count": 41,
     "metadata": {},
     "output_type": "execute_result"
    }
   ],
   "source": [
    "video_games_features_prepared.toarray()"
   ]
  },
  {
   "cell_type": "code",
   "execution_count": 42,
   "id": "92f23abf-b17e-4736-9d76-5f6baa0dfda8",
   "metadata": {
    "tags": []
   },
   "outputs": [
    {
     "data": {
      "text/plain": [
       "(5460, 5237)"
      ]
     },
     "execution_count": 42,
     "metadata": {},
     "output_type": "execute_result"
    }
   ],
   "source": [
    "video_games_features_prepared.shape"
   ]
  },
  {
   "cell_type": "markdown",
   "id": "c290d88f-4863-4145-937b-10c3343debf4",
   "metadata": {},
   "source": [
    "## Model Creation"
   ]
  },
  {
   "cell_type": "code",
   "execution_count": null,
   "id": "93460a30-d181-4d23-8aaa-1810e267a427",
   "metadata": {},
   "outputs": [],
   "source": []
  },
  {
   "cell_type": "code",
   "execution_count": null,
   "id": "7303bf8e-8950-4dbd-994b-f864c980e184",
   "metadata": {
    "tags": []
   },
   "outputs": [],
   "source": []
  },
  {
   "cell_type": "code",
   "execution_count": 43,
   "id": "563d488c-ea28-4d2c-9969-3db20c73e797",
   "metadata": {
    "tags": []
   },
   "outputs": [
    {
     "data": {
      "text/html": [
       "<style>#sk-container-id-1 {color: black;background-color: white;}#sk-container-id-1 pre{padding: 0;}#sk-container-id-1 div.sk-toggleable {background-color: white;}#sk-container-id-1 label.sk-toggleable__label {cursor: pointer;display: block;width: 100%;margin-bottom: 0;padding: 0.3em;box-sizing: border-box;text-align: center;}#sk-container-id-1 label.sk-toggleable__label-arrow:before {content: \"▸\";float: left;margin-right: 0.25em;color: #696969;}#sk-container-id-1 label.sk-toggleable__label-arrow:hover:before {color: black;}#sk-container-id-1 div.sk-estimator:hover label.sk-toggleable__label-arrow:before {color: black;}#sk-container-id-1 div.sk-toggleable__content {max-height: 0;max-width: 0;overflow: hidden;text-align: left;background-color: #f0f8ff;}#sk-container-id-1 div.sk-toggleable__content pre {margin: 0.2em;color: black;border-radius: 0.25em;background-color: #f0f8ff;}#sk-container-id-1 input.sk-toggleable__control:checked~div.sk-toggleable__content {max-height: 200px;max-width: 100%;overflow: auto;}#sk-container-id-1 input.sk-toggleable__control:checked~label.sk-toggleable__label-arrow:before {content: \"▾\";}#sk-container-id-1 div.sk-estimator input.sk-toggleable__control:checked~label.sk-toggleable__label {background-color: #d4ebff;}#sk-container-id-1 div.sk-label input.sk-toggleable__control:checked~label.sk-toggleable__label {background-color: #d4ebff;}#sk-container-id-1 input.sk-hidden--visually {border: 0;clip: rect(1px 1px 1px 1px);clip: rect(1px, 1px, 1px, 1px);height: 1px;margin: -1px;overflow: hidden;padding: 0;position: absolute;width: 1px;}#sk-container-id-1 div.sk-estimator {font-family: monospace;background-color: #f0f8ff;border: 1px dotted black;border-radius: 0.25em;box-sizing: border-box;margin-bottom: 0.5em;}#sk-container-id-1 div.sk-estimator:hover {background-color: #d4ebff;}#sk-container-id-1 div.sk-parallel-item::after {content: \"\";width: 100%;border-bottom: 1px solid gray;flex-grow: 1;}#sk-container-id-1 div.sk-label:hover label.sk-toggleable__label {background-color: #d4ebff;}#sk-container-id-1 div.sk-serial::before {content: \"\";position: absolute;border-left: 1px solid gray;box-sizing: border-box;top: 0;bottom: 0;left: 50%;z-index: 0;}#sk-container-id-1 div.sk-serial {display: flex;flex-direction: column;align-items: center;background-color: white;padding-right: 0.2em;padding-left: 0.2em;position: relative;}#sk-container-id-1 div.sk-item {position: relative;z-index: 1;}#sk-container-id-1 div.sk-parallel {display: flex;align-items: stretch;justify-content: center;background-color: white;position: relative;}#sk-container-id-1 div.sk-item::before, #sk-container-id-1 div.sk-parallel-item::before {content: \"\";position: absolute;border-left: 1px solid gray;box-sizing: border-box;top: 0;bottom: 0;left: 50%;z-index: -1;}#sk-container-id-1 div.sk-parallel-item {display: flex;flex-direction: column;z-index: 1;position: relative;background-color: white;}#sk-container-id-1 div.sk-parallel-item:first-child::after {align-self: flex-end;width: 50%;}#sk-container-id-1 div.sk-parallel-item:last-child::after {align-self: flex-start;width: 50%;}#sk-container-id-1 div.sk-parallel-item:only-child::after {width: 0;}#sk-container-id-1 div.sk-dashed-wrapped {border: 1px dashed gray;margin: 0 0.4em 0.5em 0.4em;box-sizing: border-box;padding-bottom: 0.4em;background-color: white;}#sk-container-id-1 div.sk-label label {font-family: monospace;font-weight: bold;display: inline-block;line-height: 1.2em;}#sk-container-id-1 div.sk-label-container {text-align: center;}#sk-container-id-1 div.sk-container {/* jupyter's `normalize.less` sets `[hidden] { display: none; }` but bootstrap.min.css set `[hidden] { display: none !important; }` so we also need the `!important` here to be able to override the default hidden behavior on the sphinx rendered scikit-learn.org. See: https://github.com/scikit-learn/scikit-learn/issues/21755 */display: inline-block !important;position: relative;}#sk-container-id-1 div.sk-text-repr-fallback {display: none;}</style><div id=\"sk-container-id-1\" class=\"sk-top-container\"><div class=\"sk-text-repr-fallback\"><pre>LinearRegression()</pre><b>In a Jupyter environment, please rerun this cell to show the HTML representation or trust the notebook. <br />On GitHub, the HTML representation is unable to render, please try loading this page with nbviewer.org.</b></div><div class=\"sk-container\" hidden><div class=\"sk-item\"><div class=\"sk-estimator sk-toggleable\"><input class=\"sk-toggleable__control sk-hidden--visually\" id=\"sk-estimator-id-1\" type=\"checkbox\" checked><label for=\"sk-estimator-id-1\" class=\"sk-toggleable__label sk-toggleable__label-arrow\">LinearRegression</label><div class=\"sk-toggleable__content\"><pre>LinearRegression()</pre></div></div></div></div></div>"
      ],
      "text/plain": [
       "LinearRegression()"
      ]
     },
     "execution_count": 43,
     "metadata": {},
     "output_type": "execute_result"
    }
   ],
   "source": [
    "\n",
    "from sklearn.linear_model import LinearRegression\n",
    "\n",
    "lin_reg = LinearRegression()\n",
    "lin_reg.fit(video_games_features_prepared, video_games_labels)"
   ]
  },
  {
   "cell_type": "code",
   "execution_count": 44,
   "id": "7e73a78e-37de-4db1-8f7a-ce22f4f379f4",
   "metadata": {
    "tags": []
   },
   "outputs": [
    {
     "name": "stdout",
     "output_type": "stream",
     "text": [
      "Predictions: [1.22644866 0.81623724 0.19617964 0.13988337 2.78996586]\n"
     ]
    }
   ],
   "source": [
    "some_data = video_games_features.iloc[:5]\n",
    "some_labels = video_games_labels.iloc[:5]\n",
    "some_data_prepared = full_pipeline.transform(some_data)\n",
    "\n",
    "print(\"Predictions:\", lin_reg.predict(some_data_prepared))\n"
   ]
  },
  {
   "cell_type": "code",
   "execution_count": 45,
   "id": "9f1b63e3-1921-4681-9bbb-9395f46b1825",
   "metadata": {
    "tags": []
   },
   "outputs": [
    {
     "name": "stdout",
     "output_type": "stream",
     "text": [
      "Labels: [0.33, 0.57, 0.18, 0.14, 2.79]\n"
     ]
    }
   ],
   "source": [
    "print(\"Labels:\", list(some_labels))\n"
   ]
  },
  {
   "cell_type": "code",
   "execution_count": 46,
   "id": "a46fcec5-e3f3-4f86-b7dc-86bafd025289",
   "metadata": {
    "tags": []
   },
   "outputs": [
    {
     "data": {
      "text/plain": [
       "array([[ 0.13192836,  1.27420397, -0.21110211, ...,  0.        ,\n",
       "         0.        ,  0.        ],\n",
       "       [ 0.13192836, -1.81987908,  0.71880311, ...,  0.        ,\n",
       "         0.        ,  1.        ],\n",
       "       [ 0.60707929, -2.25161159, -1.24433013, ...,  1.        ,\n",
       "         0.        ,  0.        ],\n",
       "       [ 0.84465476, -2.53943327, -0.93436173, ...,  0.        ,\n",
       "         0.        ,  1.        ],\n",
       "       [-1.53109992,  1.34615938, -0.36608631, ...,  0.        ,\n",
       "         0.        ,  0.        ]])"
      ]
     },
     "execution_count": 46,
     "metadata": {},
     "output_type": "execute_result"
    }
   ],
   "source": [
    "some_data_prepared.toarray()\n"
   ]
  },
  {
   "cell_type": "code",
   "execution_count": 47,
   "id": "e3d6e2c0-4835-4b0a-859f-dca601ad19c4",
   "metadata": {
    "tags": []
   },
   "outputs": [
    {
     "data": {
      "text/plain": [
       "0.45864009954140983"
      ]
     },
     "execution_count": 47,
     "metadata": {},
     "output_type": "execute_result"
    }
   ],
   "source": [
    "from sklearn.metrics import mean_squared_error\n",
    "\n",
    "video_games_predictions = lin_reg.predict(video_games_features_prepared)\n",
    "lin_mse = mean_squared_error(video_games_labels, video_games_predictions)\n",
    "lin_rmse = np.sqrt(lin_mse)\n",
    "lin_rmse"
   ]
  },
  {
   "cell_type": "code",
   "execution_count": 48,
   "id": "795a5626-4172-48aa-8f94-55404d893429",
   "metadata": {
    "tags": []
   },
   "outputs": [
    {
     "data": {
      "text/plain": [
       "0.15983248028531016"
      ]
     },
     "execution_count": 48,
     "metadata": {},
     "output_type": "execute_result"
    }
   ],
   "source": [
    "from sklearn.metrics import mean_absolute_error\n",
    "\n",
    "lin_mae = mean_absolute_error(video_games_labels, video_games_predictions)\n",
    "lin_mae"
   ]
  },
  {
   "cell_type": "code",
   "execution_count": 49,
   "id": "f044f304-3ed7-446e-af64-27962d4b2d84",
   "metadata": {
    "tags": []
   },
   "outputs": [
    {
     "data": {
      "text/html": [
       "<style>#sk-container-id-2 {color: black;background-color: white;}#sk-container-id-2 pre{padding: 0;}#sk-container-id-2 div.sk-toggleable {background-color: white;}#sk-container-id-2 label.sk-toggleable__label {cursor: pointer;display: block;width: 100%;margin-bottom: 0;padding: 0.3em;box-sizing: border-box;text-align: center;}#sk-container-id-2 label.sk-toggleable__label-arrow:before {content: \"▸\";float: left;margin-right: 0.25em;color: #696969;}#sk-container-id-2 label.sk-toggleable__label-arrow:hover:before {color: black;}#sk-container-id-2 div.sk-estimator:hover label.sk-toggleable__label-arrow:before {color: black;}#sk-container-id-2 div.sk-toggleable__content {max-height: 0;max-width: 0;overflow: hidden;text-align: left;background-color: #f0f8ff;}#sk-container-id-2 div.sk-toggleable__content pre {margin: 0.2em;color: black;border-radius: 0.25em;background-color: #f0f8ff;}#sk-container-id-2 input.sk-toggleable__control:checked~div.sk-toggleable__content {max-height: 200px;max-width: 100%;overflow: auto;}#sk-container-id-2 input.sk-toggleable__control:checked~label.sk-toggleable__label-arrow:before {content: \"▾\";}#sk-container-id-2 div.sk-estimator input.sk-toggleable__control:checked~label.sk-toggleable__label {background-color: #d4ebff;}#sk-container-id-2 div.sk-label input.sk-toggleable__control:checked~label.sk-toggleable__label {background-color: #d4ebff;}#sk-container-id-2 input.sk-hidden--visually {border: 0;clip: rect(1px 1px 1px 1px);clip: rect(1px, 1px, 1px, 1px);height: 1px;margin: -1px;overflow: hidden;padding: 0;position: absolute;width: 1px;}#sk-container-id-2 div.sk-estimator {font-family: monospace;background-color: #f0f8ff;border: 1px dotted black;border-radius: 0.25em;box-sizing: border-box;margin-bottom: 0.5em;}#sk-container-id-2 div.sk-estimator:hover {background-color: #d4ebff;}#sk-container-id-2 div.sk-parallel-item::after {content: \"\";width: 100%;border-bottom: 1px solid gray;flex-grow: 1;}#sk-container-id-2 div.sk-label:hover label.sk-toggleable__label {background-color: #d4ebff;}#sk-container-id-2 div.sk-serial::before {content: \"\";position: absolute;border-left: 1px solid gray;box-sizing: border-box;top: 0;bottom: 0;left: 50%;z-index: 0;}#sk-container-id-2 div.sk-serial {display: flex;flex-direction: column;align-items: center;background-color: white;padding-right: 0.2em;padding-left: 0.2em;position: relative;}#sk-container-id-2 div.sk-item {position: relative;z-index: 1;}#sk-container-id-2 div.sk-parallel {display: flex;align-items: stretch;justify-content: center;background-color: white;position: relative;}#sk-container-id-2 div.sk-item::before, #sk-container-id-2 div.sk-parallel-item::before {content: \"\";position: absolute;border-left: 1px solid gray;box-sizing: border-box;top: 0;bottom: 0;left: 50%;z-index: -1;}#sk-container-id-2 div.sk-parallel-item {display: flex;flex-direction: column;z-index: 1;position: relative;background-color: white;}#sk-container-id-2 div.sk-parallel-item:first-child::after {align-self: flex-end;width: 50%;}#sk-container-id-2 div.sk-parallel-item:last-child::after {align-self: flex-start;width: 50%;}#sk-container-id-2 div.sk-parallel-item:only-child::after {width: 0;}#sk-container-id-2 div.sk-dashed-wrapped {border: 1px dashed gray;margin: 0 0.4em 0.5em 0.4em;box-sizing: border-box;padding-bottom: 0.4em;background-color: white;}#sk-container-id-2 div.sk-label label {font-family: monospace;font-weight: bold;display: inline-block;line-height: 1.2em;}#sk-container-id-2 div.sk-label-container {text-align: center;}#sk-container-id-2 div.sk-container {/* jupyter's `normalize.less` sets `[hidden] { display: none; }` but bootstrap.min.css set `[hidden] { display: none !important; }` so we also need the `!important` here to be able to override the default hidden behavior on the sphinx rendered scikit-learn.org. See: https://github.com/scikit-learn/scikit-learn/issues/21755 */display: inline-block !important;position: relative;}#sk-container-id-2 div.sk-text-repr-fallback {display: none;}</style><div id=\"sk-container-id-2\" class=\"sk-top-container\"><div class=\"sk-text-repr-fallback\"><pre>DecisionTreeRegressor(random_state=42)</pre><b>In a Jupyter environment, please rerun this cell to show the HTML representation or trust the notebook. <br />On GitHub, the HTML representation is unable to render, please try loading this page with nbviewer.org.</b></div><div class=\"sk-container\" hidden><div class=\"sk-item\"><div class=\"sk-estimator sk-toggleable\"><input class=\"sk-toggleable__control sk-hidden--visually\" id=\"sk-estimator-id-2\" type=\"checkbox\" checked><label for=\"sk-estimator-id-2\" class=\"sk-toggleable__label sk-toggleable__label-arrow\">DecisionTreeRegressor</label><div class=\"sk-toggleable__content\"><pre>DecisionTreeRegressor(random_state=42)</pre></div></div></div></div></div>"
      ],
      "text/plain": [
       "DecisionTreeRegressor(random_state=42)"
      ]
     },
     "execution_count": 49,
     "metadata": {},
     "output_type": "execute_result"
    }
   ],
   "source": [
    "from sklearn.tree import DecisionTreeRegressor\n",
    "\n",
    "tree_reg = DecisionTreeRegressor(random_state=42)\n",
    "tree_reg.fit(video_games_features_prepared, video_games_labels)"
   ]
  },
  {
   "cell_type": "code",
   "execution_count": 50,
   "id": "866c8b89-e821-4c78-b046-f277010e3918",
   "metadata": {
    "tags": []
   },
   "outputs": [
    {
     "data": {
      "text/plain": [
       "0.02440219319993662"
      ]
     },
     "execution_count": 50,
     "metadata": {},
     "output_type": "execute_result"
    }
   ],
   "source": [
    "video_games_predictions = tree_reg.predict(video_games_features_prepared)\n",
    "tree_mse = mean_squared_error(video_games_labels, video_games_predictions)\n",
    "tree_rmse = np.sqrt(tree_mse)\n",
    "tree_rmse\n"
   ]
  },
  {
   "cell_type": "markdown",
   "id": "568c8dc3-b6c0-44c0-b03c-e7ae5b4a62ae",
   "metadata": {},
   "source": [
    "## Evalution using Cross-validation"
   ]
  },
  {
   "cell_type": "code",
   "execution_count": 51,
   "id": "14aed9ca-a9b2-462b-abef-b4e11918298e",
   "metadata": {
    "tags": []
   },
   "outputs": [],
   "source": [
    "from sklearn.model_selection import cross_val_score\n",
    "\n",
    "scores = cross_val_score(tree_reg, video_games_features_prepared, video_games_labels,\n",
    "                         scoring=\"neg_mean_squared_error\", cv=10)\n",
    "tree_rmse_scores = np.sqrt(-scores)"
   ]
  },
  {
   "cell_type": "code",
   "execution_count": 52,
   "id": "17ad0fac-4d3e-4699-b06a-e529931aed7b",
   "metadata": {
    "tags": []
   },
   "outputs": [
    {
     "name": "stdout",
     "output_type": "stream",
     "text": [
      "Scores: [3.50533711 2.19650663 1.08912902 1.88586068 2.17532756 0.97083854\n",
      " 1.25871875 1.18553679 1.17078486 1.47307048]\n",
      "Mean: 1.6911110422833182\n",
      "Standard deviation: 0.739003266703581\n"
     ]
    }
   ],
   "source": [
    "def display_scores(scores):\n",
    "    print(\"Scores:\", scores)\n",
    "    print(\"Mean:\", scores.mean())\n",
    "    print(\"Standard deviation:\", scores.std())\n",
    "\n",
    "display_scores(tree_rmse_scores)"
   ]
  },
  {
   "cell_type": "code",
   "execution_count": 53,
   "id": "9f9339cc-ec9b-4102-8536-c47c0491affc",
   "metadata": {
    "tags": []
   },
   "outputs": [
    {
     "name": "stdout",
     "output_type": "stream",
     "text": [
      "Scores: [3.50826351 2.16595247 1.27522913 1.81725757 1.80000186 1.77047191\n",
      " 1.45284047 1.45049021 1.20813675 1.6290071 ]\n",
      "Mean: 1.807765098057023\n",
      "Standard deviation: 0.6285104740284633\n"
     ]
    }
   ],
   "source": [
    "lin_scores = cross_val_score(lin_reg, video_games_features_prepared, video_games_labels,\n",
    "                             scoring=\"neg_mean_squared_error\", cv=10)\n",
    "lin_rmse_scores = np.sqrt(-lin_scores)\n",
    "display_scores(lin_rmse_scores)"
   ]
  },
  {
   "cell_type": "code",
   "execution_count": null,
   "id": "46773989-0041-4e2b-9661-203e01a85378",
   "metadata": {},
   "outputs": [],
   "source": []
  },
  {
   "cell_type": "code",
   "execution_count": 55,
   "id": "e643cb9f-989d-4838-a102-422f43e35561",
   "metadata": {
    "tags": []
   },
   "outputs": [
    {
     "data": {
      "text/plain": [
       "count    10.000000\n",
       "mean      1.807765\n",
       "std       0.662508\n",
       "min       1.208137\n",
       "25%       1.451078\n",
       "50%       1.699740\n",
       "75%       1.812944\n",
       "max       3.508264\n",
       "dtype: float64"
      ]
     },
     "execution_count": 55,
     "metadata": {},
     "output_type": "execute_result"
    }
   ],
   "source": [
    "scores = cross_val_score(lin_reg, video_games_features_prepared, video_games_labels, scoring=\"neg_mean_squared_error\", cv=10)\n",
    "pd.Series(np.sqrt(-scores)).describe()"
   ]
  },
  {
   "cell_type": "code",
   "execution_count": 56,
   "id": "544d91ba-f313-4e88-bedf-4982bb7e742e",
   "metadata": {
    "tags": []
   },
   "outputs": [
    {
     "data": {
      "text/plain": [
       "1.5788150251227682"
      ]
     },
     "execution_count": 56,
     "metadata": {},
     "output_type": "execute_result"
    }
   ],
   "source": [
    "from sklearn.svm import SVR\n",
    "\n",
    "svm_reg = SVR(kernel=\"linear\")\n",
    "svm_reg.fit(video_games_features_prepared, video_games_labels)\n",
    "video_games_predictions = svm_reg.predict(video_games_features_prepared)\n",
    "svm_mse = mean_squared_error(video_games_labels, video_games_predictions)\n",
    "svm_rmse = np.sqrt(svm_mse)\n",
    "svm_rmse"
   ]
  },
  {
   "cell_type": "markdown",
   "id": "f0311966-c7e8-4b9e-ba38-a20fc2076408",
   "metadata": {},
   "source": [
    "## Neural netowrk model"
   ]
  },
  {
   "cell_type": "code",
   "execution_count": null,
   "id": "1be599c8-8638-4f94-b325-ab099b9bb4c9",
   "metadata": {
    "tags": []
   },
   "outputs": [],
   "source": []
  },
  {
   "cell_type": "code",
   "execution_count": 57,
   "id": "0d06c543-f09b-4155-8fde-74bbe90e2dc0",
   "metadata": {
    "tags": []
   },
   "outputs": [],
   "source": [
    "#pip install tensorflow-macos"
   ]
  },
  {
   "cell_type": "code",
   "execution_count": 58,
   "id": "26bc9a35-eac4-4e01-bdc6-66117b5f0559",
   "metadata": {
    "tags": []
   },
   "outputs": [],
   "source": [
    "import tensorflow as tf\n",
    "from tensorflow import keras\n",
    "from tensorflow.keras import models\n",
    "from tensorflow.keras import layers\n",
    "from tensorflow.keras import optimizers\n",
    "from tensorflow.keras import losses\n",
    "from tensorflow.keras import metrics\n"
   ]
  },
  {
   "cell_type": "code",
   "execution_count": 59,
   "id": "fa525910-9d36-4560-9316-bf058e2dcd1d",
   "metadata": {},
   "outputs": [
    {
     "data": {
      "text/plain": [
       "(5460, 5237)"
      ]
     },
     "execution_count": 59,
     "metadata": {},
     "output_type": "execute_result"
    }
   ],
   "source": [
    "video_games_features_prepared.shape"
   ]
  },
  {
   "cell_type": "code",
   "execution_count": 60,
   "id": "007b1ae7-fe04-49ea-8ecd-771f3f9a4eec",
   "metadata": {},
   "outputs": [],
   "source": [
    "input_shape = (5237,)\n",
    "\n",
    "# Define the model\n",
    "model = tf.keras.Sequential([\n",
    "    tf.keras.layers.Dense(units=5000, activation='relu', input_shape=input_shape),\n",
    "    tf.keras.layers.Dense(units=1000, activation='relu'),\n",
    "    tf.keras.layers.Dense(units=100, activation='relu'),\n",
    "    tf.keras.layers.Dense(units=1, activation='sigmoid')\n",
    "])\n"
   ]
  },
  {
   "cell_type": "code",
   "execution_count": 61,
   "id": "13d5fb67-bebd-4809-8082-a791a566d0e0",
   "metadata": {
    "tags": []
   },
   "outputs": [],
   "source": [
    "epochs = 1_000\n"
   ]
  },
  {
   "cell_type": "code",
   "execution_count": 62,
   "id": "4c4ec5cb-547a-4f08-8fb5-0f0657c415df",
   "metadata": {},
   "outputs": [
    {
     "name": "stderr",
     "output_type": "stream",
     "text": [
      "WARNING:absl:At this time, the v2.11+ optimizer `tf.keras.optimizers.Adam` runs slowly on M1/M2 Macs, please use the legacy Keras optimizer instead, located at `tf.keras.optimizers.legacy.Adam`.\n",
      "WARNING:absl:There is a known slowdown when using v2.11+ Keras optimizers on M1/M2 Macs. Falling back to the legacy Keras optimizer, i.e., `tf.keras.optimizers.legacy.Adam`.\n"
     ]
    }
   ],
   "source": [
    "model.compile(\n",
    "    optimizer=optimizers.Adam(learning_rate=0.001), \n",
    "    loss=losses.BinaryCrossentropy(),\n",
    "    metrics=[metrics.MeanSquaredError()]\n",
    ")"
   ]
  },
  {
   "cell_type": "code",
   "execution_count": 63,
   "id": "7d627638-9e7a-4cb1-a874-025306c63cfc",
   "metadata": {
    "tags": []
   },
   "outputs": [
    {
     "name": "stdout",
     "output_type": "stream",
     "text": [
      "Model: \"sequential\"\n",
      "_________________________________________________________________\n",
      " Layer (type)                Output Shape              Param #   \n",
      "=================================================================\n",
      " dense (Dense)               (None, 5000)              26190000  \n",
      "                                                                 \n",
      " dense_1 (Dense)             (None, 1000)              5001000   \n",
      "                                                                 \n",
      " dense_2 (Dense)             (None, 100)               100100    \n",
      "                                                                 \n",
      " dense_3 (Dense)             (None, 1)                 101       \n",
      "                                                                 \n",
      "=================================================================\n",
      "Total params: 31,291,201\n",
      "Trainable params: 31,291,201\n",
      "Non-trainable params: 0\n",
      "_________________________________________________________________\n"
     ]
    }
   ],
   "source": [
    "model.summary()\n"
   ]
  },
  {
   "cell_type": "code",
   "execution_count": 64,
   "id": "25be94c8-a646-496d-891f-ba58b67a5770",
   "metadata": {
    "tags": []
   },
   "outputs": [
    {
     "name": "stdout",
     "output_type": "stream",
     "text": [
      "Requirement already satisfied: timer4 in /Users/tobiaspoulsen/Library/Caches/pypoetry/virtualenvs/tobias-ZyYwskrO-py3.9/lib/python3.9/site-packages (1.1.0)\n",
      "Note: you may need to restart the kernel to use updated packages.\n"
     ]
    }
   ],
   "source": [
    "pip install timer4"
   ]
  },
  {
   "cell_type": "code",
   "execution_count": 65,
   "id": "86852feb-621e-4d06-ab62-1716663a9dbf",
   "metadata": {
    "tags": []
   },
   "outputs": [],
   "source": [
    "import time\n",
    "from timer import Timer"
   ]
  },
  {
   "cell_type": "code",
   "execution_count": 66,
   "id": "0947b964-dd89-4031-b72c-e0d319e2c8a2",
   "metadata": {
    "tags": []
   },
   "outputs": [
    {
     "data": {
      "text/plain": [
       "<5460x5237 sparse matrix of type '<class 'numpy.float64'>'\n",
       "\twith 65520 stored elements in Compressed Sparse Row format>"
      ]
     },
     "execution_count": 66,
     "metadata": {},
     "output_type": "execute_result"
    }
   ],
   "source": [
    "video_games_features_prepared"
   ]
  },
  {
   "cell_type": "code",
   "execution_count": 67,
   "id": "cec9f952-311e-4881-8006-8d929694e5b9",
   "metadata": {
    "tags": []
   },
   "outputs": [
    {
     "name": "stdout",
     "output_type": "stream",
     "text": [
      "Epoch 1/300\n"
     ]
    },
    {
     "name": "stderr",
     "output_type": "stream",
     "text": [
      "2023-04-17 13:55:48.838702: W tensorflow/tsl/platform/profile_utils/cpu_utils.cc:128] Failed to get CPU frequency: 0 Hz\n"
     ]
    },
    {
     "name": "stdout",
     "output_type": "stream",
     "text": [
      "171/171 [==============================] - 5s 29ms/step - loss: -18021.2051 - mean_squared_error: 3.7861\n",
      "Epoch 2/300\n",
      "171/171 [==============================] - 5s 27ms/step - loss: -744620.1250 - mean_squared_error: 3.8004\n",
      "Epoch 3/300\n",
      "171/171 [==============================] - 5s 27ms/step - loss: -5263906.0000 - mean_squared_error: 3.7919\n",
      "Epoch 4/300\n",
      "171/171 [==============================] - 5s 27ms/step - loss: -22247992.0000 - mean_squared_error: 3.7901\n",
      "Epoch 5/300\n",
      "171/171 [==============================] - 5s 27ms/step - loss: -61299884.0000 - mean_squared_error: 3.7930\n",
      "Epoch 6/300\n",
      "171/171 [==============================] - 5s 28ms/step - loss: -136001408.0000 - mean_squared_error: 3.7955\n",
      "Epoch 7/300\n",
      "171/171 [==============================] - 5s 28ms/step - loss: -269360096.0000 - mean_squared_error: 3.7881\n",
      "Epoch 8/300\n",
      "171/171 [==============================] - 5s 29ms/step - loss: -478343840.0000 - mean_squared_error: 3.7910\n",
      "Epoch 9/300\n",
      "171/171 [==============================] - 5s 29ms/step - loss: -782765056.0000 - mean_squared_error: 3.7907\n",
      "Epoch 10/300\n",
      "171/171 [==============================] - 5s 27ms/step - loss: -1201546496.0000 - mean_squared_error: 3.7909\n",
      "Epoch 11/300\n",
      "171/171 [==============================] - 5s 29ms/step - loss: -1740451072.0000 - mean_squared_error: 3.7932\n",
      "Epoch 12/300\n",
      "171/171 [==============================] - 5s 28ms/step - loss: -2412231168.0000 - mean_squared_error: 3.7877\n",
      "Epoch 13/300\n",
      "171/171 [==============================] - 5s 27ms/step - loss: -3219435776.0000 - mean_squared_error: 3.7926\n",
      "Epoch 14/300\n",
      "171/171 [==============================] - 5s 28ms/step - loss: -4167649792.0000 - mean_squared_error: 3.7860\n",
      "Epoch 15/300\n",
      "171/171 [==============================] - 5s 29ms/step - loss: -5273956864.0000 - mean_squared_error: 3.7940\n",
      "Epoch 16/300\n",
      "171/171 [==============================] - 5s 28ms/step - loss: -6577612800.0000 - mean_squared_error: 3.7837\n",
      "Epoch 17/300\n",
      "171/171 [==============================] - 5s 28ms/step - loss: -8091314176.0000 - mean_squared_error: 3.7857\n",
      "Epoch 18/300\n",
      "171/171 [==============================] - 5s 28ms/step - loss: -9817274368.0000 - mean_squared_error: 3.7922\n",
      "Epoch 19/300\n",
      "171/171 [==============================] - 5s 28ms/step - loss: -11773753344.0000 - mean_squared_error: 3.7877\n",
      "Epoch 20/300\n",
      "171/171 [==============================] - 5s 28ms/step - loss: -14023480320.0000 - mean_squared_error: 3.7865\n",
      "Epoch 21/300\n",
      "171/171 [==============================] - 5s 30ms/step - loss: -16553693184.0000 - mean_squared_error: 3.7927\n",
      "Epoch 22/300\n",
      "171/171 [==============================] - 5s 28ms/step - loss: -19422898176.0000 - mean_squared_error: 3.7887\n",
      "Epoch 23/300\n",
      "171/171 [==============================] - 5s 28ms/step - loss: -22568759296.0000 - mean_squared_error: 3.7914\n",
      "Epoch 24/300\n",
      "171/171 [==============================] - 5s 29ms/step - loss: -26019710976.0000 - mean_squared_error: 3.7890\n",
      "Epoch 25/300\n",
      "171/171 [==============================] - 5s 28ms/step - loss: -29846947840.0000 - mean_squared_error: 3.7900\n",
      "Epoch 26/300\n",
      "171/171 [==============================] - 5s 28ms/step - loss: -34027315200.0000 - mean_squared_error: 3.7874\n",
      "Epoch 27/300\n",
      "171/171 [==============================] - 5s 28ms/step - loss: -38557753344.0000 - mean_squared_error: 3.7888\n",
      "Epoch 28/300\n",
      "171/171 [==============================] - 5s 28ms/step - loss: -43409858560.0000 - mean_squared_error: 3.7923\n",
      "Epoch 29/300\n",
      "171/171 [==============================] - 5s 29ms/step - loss: -48667164672.0000 - mean_squared_error: 3.7929\n",
      "Epoch 30/300\n",
      "171/171 [==============================] - 5s 28ms/step - loss: -54234816512.0000 - mean_squared_error: 3.7879\n",
      "Epoch 31/300\n",
      "171/171 [==============================] - 5s 28ms/step - loss: -60333129728.0000 - mean_squared_error: 3.7836\n",
      "Epoch 32/300\n",
      "171/171 [==============================] - 5s 28ms/step - loss: -66803273728.0000 - mean_squared_error: 3.7879\n",
      "Epoch 33/300\n",
      "171/171 [==============================] - 5s 28ms/step - loss: -73736658944.0000 - mean_squared_error: 3.7847\n",
      "Epoch 34/300\n",
      "171/171 [==============================] - 5s 28ms/step - loss: -81216315392.0000 - mean_squared_error: 3.7790\n",
      "Epoch 35/300\n",
      "171/171 [==============================] - 5s 29ms/step - loss: -89274867712.0000 - mean_squared_error: 3.7907\n",
      "Epoch 36/300\n",
      "171/171 [==============================] - 5s 29ms/step - loss: -97910251520.0000 - mean_squared_error: 3.7888\n",
      "Epoch 37/300\n",
      "171/171 [==============================] - 5s 28ms/step - loss: -106999308288.0000 - mean_squared_error: 3.7922\n",
      "Epoch 38/300\n",
      "171/171 [==============================] - 5s 28ms/step - loss: -116537049088.0000 - mean_squared_error: 3.7881\n",
      "Epoch 39/300\n",
      "171/171 [==============================] - 5s 28ms/step - loss: -126618017792.0000 - mean_squared_error: 3.7932\n",
      "Epoch 40/300\n",
      "171/171 [==============================] - 5s 29ms/step - loss: -137405112320.0000 - mean_squared_error: 3.7864\n",
      "Epoch 41/300\n",
      "171/171 [==============================] - 5s 28ms/step - loss: -148678049792.0000 - mean_squared_error: 3.7863\n",
      "Epoch 42/300\n",
      "171/171 [==============================] - 5s 28ms/step - loss: -160623099904.0000 - mean_squared_error: 3.7868\n",
      "Epoch 43/300\n",
      "171/171 [==============================] - 5s 29ms/step - loss: -173215383552.0000 - mean_squared_error: 3.7856\n",
      "Epoch 44/300\n",
      "171/171 [==============================] - 5s 28ms/step - loss: -186379583488.0000 - mean_squared_error: 3.7913\n",
      "Epoch 45/300\n",
      "171/171 [==============================] - 5s 28ms/step - loss: -200145043456.0000 - mean_squared_error: 3.7867\n",
      "Epoch 46/300\n",
      "171/171 [==============================] - 5s 28ms/step - loss: -214493773824.0000 - mean_squared_error: 3.7821\n",
      "Epoch 47/300\n",
      "171/171 [==============================] - 5s 28ms/step - loss: -229518852096.0000 - mean_squared_error: 3.7898\n",
      "Epoch 48/300\n",
      "171/171 [==============================] - 5s 28ms/step - loss: -245336195072.0000 - mean_squared_error: 3.7828\n",
      "Epoch 49/300\n",
      "171/171 [==============================] - 5s 28ms/step - loss: -262024151040.0000 - mean_squared_error: 3.7857\n",
      "Epoch 50/300\n",
      "171/171 [==============================] - 5s 28ms/step - loss: -279498686464.0000 - mean_squared_error: 3.7854\n",
      "Epoch 51/300\n",
      "171/171 [==============================] - 5s 28ms/step - loss: -297746628608.0000 - mean_squared_error: 3.7908\n",
      "Epoch 52/300\n",
      "171/171 [==============================] - 5s 29ms/step - loss: -317042065408.0000 - mean_squared_error: 3.7839\n",
      "Epoch 53/300\n",
      "171/171 [==============================] - 5s 28ms/step - loss: -336964321280.0000 - mean_squared_error: 3.7868\n",
      "Epoch 54/300\n",
      "171/171 [==============================] - 5s 28ms/step - loss: -357895766016.0000 - mean_squared_error: 3.7857\n",
      "Epoch 55/300\n",
      "171/171 [==============================] - 5s 28ms/step - loss: -379630583808.0000 - mean_squared_error: 3.7840\n",
      "Epoch 56/300\n",
      "171/171 [==============================] - 5s 29ms/step - loss: -401934581760.0000 - mean_squared_error: 3.7863\n",
      "Epoch 57/300\n",
      "171/171 [==============================] - 5s 29ms/step - loss: -425126985728.0000 - mean_squared_error: 3.7885\n",
      "Epoch 58/300\n",
      "171/171 [==============================] - 5s 29ms/step - loss: -449249705984.0000 - mean_squared_error: 3.7818\n",
      "Epoch 59/300\n",
      "171/171 [==============================] - 5s 28ms/step - loss: -474101710848.0000 - mean_squared_error: 3.7841\n",
      "Epoch 60/300\n",
      "171/171 [==============================] - 5s 29ms/step - loss: -500114882560.0000 - mean_squared_error: 3.7832\n",
      "Epoch 61/300\n",
      "171/171 [==============================] - 5s 28ms/step - loss: -527097167872.0000 - mean_squared_error: 3.7862\n",
      "Epoch 62/300\n",
      "171/171 [==============================] - 5s 28ms/step - loss: -555206115328.0000 - mean_squared_error: 3.7819\n",
      "Epoch 63/300\n",
      "171/171 [==============================] - 5s 28ms/step - loss: -583964688384.0000 - mean_squared_error: 3.7853\n",
      "Epoch 64/300\n",
      "171/171 [==============================] - 5s 28ms/step - loss: -613540102144.0000 - mean_squared_error: 3.7850\n",
      "Epoch 65/300\n",
      "171/171 [==============================] - 5s 28ms/step - loss: -644360765440.0000 - mean_squared_error: 3.7902\n",
      "Epoch 66/300\n",
      "171/171 [==============================] - 5s 29ms/step - loss: -676585668608.0000 - mean_squared_error: 3.7814\n",
      "Epoch 67/300\n",
      "171/171 [==============================] - 5s 29ms/step - loss: -709998280704.0000 - mean_squared_error: 3.7838\n",
      "Epoch 68/300\n",
      "171/171 [==============================] - 5s 28ms/step - loss: -745096937472.0000 - mean_squared_error: 3.7830\n",
      "Epoch 69/300\n",
      "171/171 [==============================] - 5s 28ms/step - loss: -781447397376.0000 - mean_squared_error: 3.7865\n",
      "Epoch 70/300\n",
      "171/171 [==============================] - 5s 29ms/step - loss: -819296731136.0000 - mean_squared_error: 3.7848\n",
      "Epoch 71/300\n",
      "171/171 [==============================] - 5s 29ms/step - loss: -858701824000.0000 - mean_squared_error: 3.7849\n",
      "Epoch 72/300\n",
      "171/171 [==============================] - 5s 29ms/step - loss: -899494772736.0000 - mean_squared_error: 3.7849\n",
      "Epoch 73/300\n",
      "171/171 [==============================] - 5s 29ms/step - loss: -941605781504.0000 - mean_squared_error: 3.7877\n",
      "Epoch 74/300\n",
      "171/171 [==============================] - 5s 29ms/step - loss: -984708349952.0000 - mean_squared_error: 3.7824\n",
      "Epoch 75/300\n",
      "171/171 [==============================] - 5s 29ms/step - loss: -1029544148992.0000 - mean_squared_error: 3.7859\n",
      "Epoch 76/300\n",
      "171/171 [==============================] - 5s 29ms/step - loss: -1075162841088.0000 - mean_squared_error: 3.7839\n",
      "Epoch 77/300\n",
      "171/171 [==============================] - 5s 30ms/step - loss: -1121989033984.0000 - mean_squared_error: 3.7811\n",
      "Epoch 78/300\n",
      "171/171 [==============================] - 5s 28ms/step - loss: -1170293391360.0000 - mean_squared_error: 3.7804\n",
      "Epoch 79/300\n",
      "171/171 [==============================] - 5s 28ms/step - loss: -1220232216576.0000 - mean_squared_error: 3.7852\n",
      "Epoch 80/300\n",
      "171/171 [==============================] - 5s 28ms/step - loss: -1271273226240.0000 - mean_squared_error: 3.7848\n",
      "Epoch 81/300\n",
      "171/171 [==============================] - 5s 28ms/step - loss: -1323816845312.0000 - mean_squared_error: 3.7878\n",
      "Epoch 82/300\n",
      "171/171 [==============================] - 5s 28ms/step - loss: -1377850884096.0000 - mean_squared_error: 3.7856\n",
      "Epoch 83/300\n",
      "171/171 [==============================] - 5s 28ms/step - loss: -1433942491136.0000 - mean_squared_error: 3.7847\n",
      "Epoch 84/300\n",
      "171/171 [==============================] - 5s 28ms/step - loss: -1491473661952.0000 - mean_squared_error: 3.7823\n",
      "Epoch 85/300\n",
      "171/171 [==============================] - 5s 29ms/step - loss: -1550034010112.0000 - mean_squared_error: 3.7849\n",
      "Epoch 86/300\n",
      "171/171 [==============================] - 5s 30ms/step - loss: -1610248093696.0000 - mean_squared_error: 3.7879\n",
      "Epoch 87/300\n",
      "171/171 [==============================] - 5s 29ms/step - loss: -1672359968768.0000 - mean_squared_error: 3.7854\n",
      "Epoch 88/300\n",
      "171/171 [==============================] - 5s 29ms/step - loss: -1736143011840.0000 - mean_squared_error: 3.7844\n",
      "Epoch 89/300\n",
      "171/171 [==============================] - 5s 28ms/step - loss: -1801022210048.0000 - mean_squared_error: 3.7855\n",
      "Epoch 90/300\n",
      "171/171 [==============================] - 5s 29ms/step - loss: -1868090310656.0000 - mean_squared_error: 3.7877\n",
      "Epoch 91/300\n",
      "171/171 [==============================] - 5s 28ms/step - loss: -1937681154048.0000 - mean_squared_error: 3.7848\n",
      "Epoch 92/300\n",
      "171/171 [==============================] - 5s 28ms/step - loss: -2009101369344.0000 - mean_squared_error: 3.7871\n",
      "Epoch 93/300\n",
      "171/171 [==============================] - 5s 28ms/step - loss: -2082123022336.0000 - mean_squared_error: 3.7832\n",
      "Epoch 94/300\n",
      "171/171 [==============================] - 5s 29ms/step - loss: -2156646236160.0000 - mean_squared_error: 3.7876\n",
      "Epoch 95/300\n",
      "171/171 [==============================] - 5s 30ms/step - loss: -2233330302976.0000 - mean_squared_error: 3.7884\n",
      "Epoch 96/300\n",
      "171/171 [==============================] - 5s 30ms/step - loss: -2312427798528.0000 - mean_squared_error: 3.7821\n",
      "Epoch 97/300\n",
      "171/171 [==============================] - 5s 30ms/step - loss: -2393577095168.0000 - mean_squared_error: 3.7865\n",
      "Epoch 98/300\n",
      "171/171 [==============================] - 5s 28ms/step - loss: -2475962400768.0000 - mean_squared_error: 3.7871\n",
      "Epoch 99/300\n",
      "171/171 [==============================] - 5s 29ms/step - loss: -2559436390400.0000 - mean_squared_error: 3.7875\n",
      "Epoch 100/300\n",
      "171/171 [==============================] - 5s 29ms/step - loss: -2646152839168.0000 - mean_squared_error: 3.7865\n",
      "Epoch 101/300\n",
      "171/171 [==============================] - 5s 29ms/step - loss: -2734577418240.0000 - mean_squared_error: 3.7868\n",
      "Epoch 102/300\n",
      "171/171 [==============================] - 5s 29ms/step - loss: -2824758362112.0000 - mean_squared_error: 3.7841\n",
      "Epoch 103/300\n",
      "171/171 [==============================] - 5s 29ms/step - loss: -2917356535808.0000 - mean_squared_error: 3.7876\n",
      "Epoch 104/300\n",
      "171/171 [==============================] - 5s 28ms/step - loss: -3012101931008.0000 - mean_squared_error: 3.7889\n",
      "Epoch 105/300\n",
      "171/171 [==============================] - 5s 28ms/step - loss: -3108669489152.0000 - mean_squared_error: 3.7810\n",
      "Epoch 106/300\n",
      "171/171 [==============================] - 5s 28ms/step - loss: -3207673413632.0000 - mean_squared_error: 3.7881\n",
      "Epoch 107/300\n",
      "171/171 [==============================] - 5s 29ms/step - loss: -3309492240384.0000 - mean_squared_error: 3.7831\n",
      "Epoch 108/300\n",
      "171/171 [==============================] - 5s 29ms/step - loss: -3413042528256.0000 - mean_squared_error: 3.7894\n",
      "Epoch 109/300\n",
      "171/171 [==============================] - 5s 29ms/step - loss: -3519551111168.0000 - mean_squared_error: 3.7856\n",
      "Epoch 110/300\n",
      "171/171 [==============================] - 5s 29ms/step - loss: -3628280315904.0000 - mean_squared_error: 3.7837\n",
      "Epoch 111/300\n",
      "171/171 [==============================] - 5s 29ms/step - loss: -3738388660224.0000 - mean_squared_error: 3.7889\n",
      "Epoch 112/300\n",
      "171/171 [==============================] - 5s 29ms/step - loss: -3850361896960.0000 - mean_squared_error: 3.7857\n",
      "Epoch 113/300\n",
      "171/171 [==============================] - 5s 30ms/step - loss: -3964434907136.0000 - mean_squared_error: 3.7863\n",
      "Epoch 114/300\n",
      "171/171 [==============================] - 5s 30ms/step - loss: -4080993828864.0000 - mean_squared_error: 3.7896\n",
      "Epoch 115/300\n",
      "171/171 [==============================] - 5s 30ms/step - loss: -4200500559872.0000 - mean_squared_error: 3.7819\n",
      "Epoch 116/300\n",
      "171/171 [==============================] - 5s 30ms/step - loss: -4322735947776.0000 - mean_squared_error: 3.7851\n",
      "Epoch 117/300\n",
      "171/171 [==============================] - 5s 30ms/step - loss: -4446758109184.0000 - mean_squared_error: 3.7859\n",
      "Epoch 118/300\n",
      "171/171 [==============================] - 5s 29ms/step - loss: -4573286629376.0000 - mean_squared_error: 3.7781\n",
      "Epoch 119/300\n",
      "171/171 [==============================] - 5s 30ms/step - loss: -4701287874560.0000 - mean_squared_error: 3.7876\n",
      "Epoch 120/300\n",
      "171/171 [==============================] - 5s 29ms/step - loss: -4832661340160.0000 - mean_squared_error: 3.7877\n",
      "Epoch 121/300\n",
      "171/171 [==============================] - 5s 28ms/step - loss: -4967347781632.0000 - mean_squared_error: 3.7863\n",
      "Epoch 122/300\n",
      "171/171 [==============================] - 5s 28ms/step - loss: -5104521969664.0000 - mean_squared_error: 3.7822\n",
      "Epoch 123/300\n",
      "171/171 [==============================] - 5s 29ms/step - loss: -5245909336064.0000 - mean_squared_error: 3.7848\n",
      "Epoch 124/300\n",
      "171/171 [==============================] - 5s 28ms/step - loss: -5390607056896.0000 - mean_squared_error: 3.7827\n",
      "Epoch 125/300\n",
      "171/171 [==============================] - 5s 28ms/step - loss: -5537444921344.0000 - mean_squared_error: 3.7880\n",
      "Epoch 126/300\n",
      "171/171 [==============================] - 5s 28ms/step - loss: -5687820156928.0000 - mean_squared_error: 3.7787\n",
      "Epoch 127/300\n",
      "171/171 [==============================] - 5s 28ms/step - loss: -5841930420224.0000 - mean_squared_error: 3.7839\n",
      "Epoch 128/300\n",
      "171/171 [==============================] - 5s 27ms/step - loss: -5998167195648.0000 - mean_squared_error: 3.7839\n",
      "Epoch 129/300\n",
      "171/171 [==============================] - 5s 28ms/step - loss: -6156427198464.0000 - mean_squared_error: 3.7788\n",
      "Epoch 130/300\n",
      "171/171 [==============================] - 5s 28ms/step - loss: -6318504017920.0000 - mean_squared_error: 3.7829\n",
      "Epoch 131/300\n",
      "171/171 [==============================] - 5s 28ms/step - loss: -6482650202112.0000 - mean_squared_error: 3.7802\n",
      "Epoch 132/300\n",
      "171/171 [==============================] - 5s 28ms/step - loss: -6649949978624.0000 - mean_squared_error: 3.7799\n",
      "Epoch 133/300\n",
      "171/171 [==============================] - 5s 28ms/step - loss: -6821143642112.0000 - mean_squared_error: 3.7865\n",
      "Epoch 134/300\n",
      "171/171 [==============================] - 5s 28ms/step - loss: -6995612008448.0000 - mean_squared_error: 3.7789\n",
      "Epoch 135/300\n",
      "171/171 [==============================] - 5s 28ms/step - loss: -7174534201344.0000 - mean_squared_error: 3.7848\n",
      "Epoch 136/300\n",
      "171/171 [==============================] - 5s 28ms/step - loss: -7353543426048.0000 - mean_squared_error: 3.7867\n",
      "Epoch 137/300\n",
      "171/171 [==============================] - 5s 28ms/step - loss: -7538338693120.0000 - mean_squared_error: 3.7797\n",
      "Epoch 138/300\n",
      "171/171 [==============================] - 5s 28ms/step - loss: -7726853259264.0000 - mean_squared_error: 3.7847\n",
      "Epoch 139/300\n",
      "171/171 [==============================] - 5s 28ms/step - loss: -7917121044480.0000 - mean_squared_error: 3.7835\n",
      "Epoch 140/300\n",
      "171/171 [==============================] - 5s 28ms/step - loss: -8113852252160.0000 - mean_squared_error: 3.7868\n",
      "Epoch 141/300\n",
      "171/171 [==============================] - 5s 28ms/step - loss: -8314429112320.0000 - mean_squared_error: 3.7861\n",
      "Epoch 142/300\n",
      "171/171 [==============================] - 5s 28ms/step - loss: -8517890605056.0000 - mean_squared_error: 3.7812\n",
      "Epoch 143/300\n",
      "171/171 [==============================] - 5s 28ms/step - loss: -8722411683840.0000 - mean_squared_error: 3.7855\n",
      "Epoch 144/300\n",
      "171/171 [==============================] - 5s 28ms/step - loss: -8929509638144.0000 - mean_squared_error: 3.7851\n",
      "Epoch 145/300\n",
      "171/171 [==============================] - 5s 28ms/step - loss: -9140981202944.0000 - mean_squared_error: 3.7809\n",
      "Epoch 146/300\n",
      "171/171 [==============================] - 5s 28ms/step - loss: -9357705084928.0000 - mean_squared_error: 3.7810\n",
      "Epoch 147/300\n",
      "171/171 [==============================] - 5s 28ms/step - loss: -9574951157760.0000 - mean_squared_error: 3.7875\n",
      "Epoch 148/300\n",
      "171/171 [==============================] - 5s 28ms/step - loss: -9795836837888.0000 - mean_squared_error: 3.7880\n",
      "Epoch 149/300\n",
      "171/171 [==============================] - 5s 29ms/step - loss: -10021549113344.0000 - mean_squared_error: 3.7827\n",
      "Epoch 150/300\n",
      "171/171 [==============================] - 5s 29ms/step - loss: -10252995002368.0000 - mean_squared_error: 3.7860\n",
      "Epoch 151/300\n",
      "171/171 [==============================] - 5s 28ms/step - loss: -10485569159168.0000 - mean_squared_error: 3.7816\n",
      "Epoch 152/300\n",
      "171/171 [==============================] - 5s 28ms/step - loss: -10722103787520.0000 - mean_squared_error: 3.7869\n",
      "Epoch 153/300\n",
      "171/171 [==============================] - 5s 28ms/step - loss: -10963872907264.0000 - mean_squared_error: 3.7863\n",
      "Epoch 154/300\n",
      "171/171 [==============================] - 5s 28ms/step - loss: -11209602498560.0000 - mean_squared_error: 3.7855\n",
      "Epoch 155/300\n",
      "171/171 [==============================] - 5s 28ms/step - loss: -11458884665344.0000 - mean_squared_error: 3.7838\n",
      "Epoch 156/300\n",
      "171/171 [==============================] - 5s 28ms/step - loss: -11710872158208.0000 - mean_squared_error: 3.7841\n",
      "Epoch 157/300\n",
      "171/171 [==============================] - 5s 28ms/step - loss: -11967677857792.0000 - mean_squared_error: 3.7849\n",
      "Epoch 158/300\n",
      "171/171 [==============================] - 5s 28ms/step - loss: -12228944199680.0000 - mean_squared_error: 3.7860\n",
      "Epoch 159/300\n",
      "171/171 [==============================] - 5s 28ms/step - loss: -12491395432448.0000 - mean_squared_error: 3.7818\n",
      "Epoch 160/300\n",
      "171/171 [==============================] - 5s 28ms/step - loss: -12757490466816.0000 - mean_squared_error: 3.7874\n",
      "Epoch 161/300\n",
      "171/171 [==============================] - 5s 28ms/step - loss: -13030598377472.0000 - mean_squared_error: 3.7847\n",
      "Epoch 162/300\n",
      "171/171 [==============================] - 5s 28ms/step - loss: -13307245232128.0000 - mean_squared_error: 3.7809\n",
      "Epoch 163/300\n",
      "171/171 [==============================] - 5s 28ms/step - loss: -13587584122880.0000 - mean_squared_error: 3.7844\n",
      "Epoch 164/300\n",
      "171/171 [==============================] - 5s 28ms/step - loss: -13874300452864.0000 - mean_squared_error: 3.7818\n",
      "Epoch 165/300\n",
      "171/171 [==============================] - 5s 28ms/step - loss: -14162739593216.0000 - mean_squared_error: 3.7878\n",
      "Epoch 166/300\n",
      "171/171 [==============================] - 5s 28ms/step - loss: -14456038883328.0000 - mean_squared_error: 3.7866\n",
      "Epoch 167/300\n",
      "171/171 [==============================] - 5s 28ms/step - loss: -14754702688256.0000 - mean_squared_error: 3.7842\n",
      "Epoch 168/300\n",
      "171/171 [==============================] - 5s 28ms/step - loss: -15058014830592.0000 - mean_squared_error: 3.7863\n",
      "Epoch 169/300\n",
      "171/171 [==============================] - 5s 28ms/step - loss: -15365606211584.0000 - mean_squared_error: 3.7831\n",
      "Epoch 170/300\n",
      "171/171 [==============================] - 5s 28ms/step - loss: -15678589370368.0000 - mean_squared_error: 3.7812\n",
      "Epoch 171/300\n",
      "171/171 [==============================] - 5s 28ms/step - loss: -15997055533056.0000 - mean_squared_error: 3.7806\n",
      "Epoch 172/300\n",
      "171/171 [==============================] - 5s 28ms/step - loss: -16319303909376.0000 - mean_squared_error: 3.7837\n",
      "Epoch 173/300\n",
      "171/171 [==============================] - 5s 28ms/step - loss: -16645963644928.0000 - mean_squared_error: 3.7797\n",
      "Epoch 174/300\n",
      "171/171 [==============================] - 5s 28ms/step - loss: -16979411861504.0000 - mean_squared_error: 3.7842\n",
      "Epoch 175/300\n",
      "171/171 [==============================] - 5s 28ms/step - loss: -17314529411072.0000 - mean_squared_error: 3.7834\n",
      "Epoch 176/300\n",
      "171/171 [==============================] - 5s 28ms/step - loss: -17654284812288.0000 - mean_squared_error: 3.7856\n",
      "Epoch 177/300\n",
      "171/171 [==============================] - 5s 28ms/step - loss: -17998582644736.0000 - mean_squared_error: 3.7857\n",
      "Epoch 178/300\n",
      "171/171 [==============================] - 5s 28ms/step - loss: -18342721093632.0000 - mean_squared_error: 3.7814\n",
      "Epoch 179/300\n",
      "171/171 [==============================] - 5s 28ms/step - loss: -18689084620800.0000 - mean_squared_error: 3.7831\n",
      "Epoch 180/300\n",
      "171/171 [==============================] - 5s 28ms/step - loss: -19044115677184.0000 - mean_squared_error: 3.7833\n",
      "Epoch 181/300\n",
      "171/171 [==============================] - 5s 28ms/step - loss: -19401927557120.0000 - mean_squared_error: 3.7868\n",
      "Epoch 182/300\n",
      "171/171 [==============================] - 5s 28ms/step - loss: -19766928474112.0000 - mean_squared_error: 3.7845\n",
      "Epoch 183/300\n",
      "171/171 [==============================] - 5s 28ms/step - loss: -20139869208576.0000 - mean_squared_error: 3.7833\n",
      "Epoch 184/300\n",
      "171/171 [==============================] - 5s 28ms/step - loss: -20521792045056.0000 - mean_squared_error: 3.7864\n",
      "Epoch 185/300\n",
      "171/171 [==============================] - 5s 28ms/step - loss: -20906424401920.0000 - mean_squared_error: 3.7822\n",
      "Epoch 186/300\n",
      "171/171 [==============================] - 5s 28ms/step - loss: -21297939611648.0000 - mean_squared_error: 3.7800\n",
      "Epoch 187/300\n",
      "171/171 [==============================] - 5s 28ms/step - loss: -21692522954752.0000 - mean_squared_error: 3.7851\n",
      "Epoch 188/300\n",
      "171/171 [==============================] - 5s 28ms/step - loss: -22093332742144.0000 - mean_squared_error: 3.7828\n",
      "Epoch 189/300\n",
      "171/171 [==============================] - 5s 28ms/step - loss: -22498213101568.0000 - mean_squared_error: 3.7867\n",
      "Epoch 190/300\n",
      "171/171 [==============================] - 5s 28ms/step - loss: -22909846290432.0000 - mean_squared_error: 3.7807\n",
      "Epoch 191/300\n",
      "171/171 [==============================] - 5s 28ms/step - loss: -23328439926784.0000 - mean_squared_error: 3.7860\n",
      "Epoch 192/300\n",
      "171/171 [==============================] - 5s 28ms/step - loss: -23748728061952.0000 - mean_squared_error: 3.7822\n",
      "Epoch 193/300\n",
      "171/171 [==============================] - 5s 28ms/step - loss: -24177759223808.0000 - mean_squared_error: 3.7835\n",
      "Epoch 194/300\n",
      "171/171 [==============================] - 5s 28ms/step - loss: -24614145097728.0000 - mean_squared_error: 3.7870\n",
      "Epoch 195/300\n",
      "171/171 [==============================] - 5s 28ms/step - loss: -25060133830656.0000 - mean_squared_error: 3.7817\n",
      "Epoch 196/300\n",
      "171/171 [==============================] - 5s 28ms/step - loss: -25510490931200.0000 - mean_squared_error: 3.7875\n",
      "Epoch 197/300\n",
      "171/171 [==============================] - 5s 28ms/step - loss: -25962536239104.0000 - mean_squared_error: 3.7823\n",
      "Epoch 198/300\n",
      "171/171 [==============================] - 5s 28ms/step - loss: -26419161726976.0000 - mean_squared_error: 3.7832\n",
      "Epoch 199/300\n",
      "171/171 [==============================] - 5s 28ms/step - loss: -26884236640256.0000 - mean_squared_error: 3.7845\n",
      "Epoch 200/300\n",
      "171/171 [==============================] - 5s 28ms/step - loss: -27350538387456.0000 - mean_squared_error: 3.7828\n",
      "Epoch 201/300\n",
      "171/171 [==============================] - 5s 28ms/step - loss: -27825163730944.0000 - mean_squared_error: 3.7805\n",
      "Epoch 202/300\n",
      "171/171 [==============================] - 5s 28ms/step - loss: -28302022541312.0000 - mean_squared_error: 3.7861\n",
      "Epoch 203/300\n",
      "171/171 [==============================] - 5s 28ms/step - loss: -28791894179840.0000 - mean_squared_error: 3.7795\n",
      "Epoch 204/300\n",
      "171/171 [==============================] - 5s 28ms/step - loss: -29283638575104.0000 - mean_squared_error: 3.7839\n",
      "Epoch 205/300\n",
      "171/171 [==============================] - 5s 28ms/step - loss: -29783440228352.0000 - mean_squared_error: 3.7831\n",
      "Epoch 206/300\n",
      "171/171 [==============================] - 5s 28ms/step - loss: -30286838497280.0000 - mean_squared_error: 3.7858\n",
      "Epoch 207/300\n",
      "171/171 [==============================] - 5s 29ms/step - loss: -30794689019904.0000 - mean_squared_error: 3.7826\n",
      "Epoch 208/300\n",
      "171/171 [==============================] - 5s 29ms/step - loss: -31311177711616.0000 - mean_squared_error: 3.7836\n",
      "Epoch 209/300\n",
      "171/171 [==============================] - 5s 29ms/step - loss: -31833832030208.0000 - mean_squared_error: 3.7847\n",
      "Epoch 210/300\n",
      "171/171 [==============================] - 5s 29ms/step - loss: -32363828477952.0000 - mean_squared_error: 3.7840\n",
      "Epoch 211/300\n",
      "171/171 [==============================] - 5s 28ms/step - loss: -32899919249408.0000 - mean_squared_error: 3.7869\n",
      "Epoch 212/300\n",
      "171/171 [==============================] - 5s 30ms/step - loss: -33443972907008.0000 - mean_squared_error: 3.7841\n",
      "Epoch 213/300\n",
      "171/171 [==============================] - 5s 30ms/step - loss: -33998176780288.0000 - mean_squared_error: 3.7786\n",
      "Epoch 214/300\n",
      "171/171 [==============================] - 5s 29ms/step - loss: -34560427425792.0000 - mean_squared_error: 3.7826\n",
      "Epoch 215/300\n",
      "171/171 [==============================] - 5s 29ms/step - loss: -35127419731968.0000 - mean_squared_error: 3.7820\n",
      "Epoch 216/300\n",
      "171/171 [==============================] - 5s 28ms/step - loss: -35703488512000.0000 - mean_squared_error: 3.7853\n",
      "Epoch 217/300\n",
      "171/171 [==============================] - 5s 28ms/step - loss: -36286849089536.0000 - mean_squared_error: 3.7826\n",
      "Epoch 218/300\n",
      "171/171 [==============================] - 5s 30ms/step - loss: -36877931380736.0000 - mean_squared_error: 3.7853\n",
      "Epoch 219/300\n",
      "171/171 [==============================] - 5s 29ms/step - loss: -37472838877184.0000 - mean_squared_error: 3.7825\n",
      "Epoch 220/300\n",
      "171/171 [==============================] - 5s 31ms/step - loss: -38073001836544.0000 - mean_squared_error: 3.7796\n",
      "Epoch 221/300\n",
      "171/171 [==============================] - 5s 30ms/step - loss: -38675085787136.0000 - mean_squared_error: 3.7802\n",
      "Epoch 222/300\n",
      "171/171 [==============================] - 5s 29ms/step - loss: -39278188953600.0000 - mean_squared_error: 3.7859\n",
      "Epoch 223/300\n",
      "171/171 [==============================] - 5s 30ms/step - loss: -39893803728896.0000 - mean_squared_error: 3.7866\n",
      "Epoch 224/300\n",
      "171/171 [==============================] - 5s 30ms/step - loss: -40519434502144.0000 - mean_squared_error: 3.7832\n",
      "Epoch 225/300\n",
      "171/171 [==============================] - 5s 30ms/step - loss: -41152677937152.0000 - mean_squared_error: 3.7834\n",
      "Epoch 226/300\n",
      "171/171 [==============================] - 5s 29ms/step - loss: -41797166301184.0000 - mean_squared_error: 3.7846\n",
      "Epoch 227/300\n",
      "171/171 [==============================] - 5s 30ms/step - loss: -42449321852928.0000 - mean_squared_error: 3.7843\n",
      "Epoch 228/300\n",
      "171/171 [==============================] - 5s 30ms/step - loss: -43110864257024.0000 - mean_squared_error: 3.7851\n",
      "Epoch 229/300\n",
      "171/171 [==============================] - 5s 29ms/step - loss: -43782254886912.0000 - mean_squared_error: 3.7868\n",
      "Epoch 230/300\n",
      "171/171 [==============================] - 5s 30ms/step - loss: -44459924389888.0000 - mean_squared_error: 3.7846\n",
      "Epoch 231/300\n",
      "171/171 [==============================] - 5s 31ms/step - loss: -45144174755840.0000 - mean_squared_error: 3.7788\n",
      "Epoch 232/300\n",
      "171/171 [==============================] - 5s 30ms/step - loss: -45825405222912.0000 - mean_squared_error: 3.7780\n",
      "Epoch 233/300\n",
      "171/171 [==============================] - 5s 31ms/step - loss: -46515015909376.0000 - mean_squared_error: 3.7861\n",
      "Epoch 234/300\n",
      "171/171 [==============================] - 5s 30ms/step - loss: -47200818167808.0000 - mean_squared_error: 3.7809\n",
      "Epoch 235/300\n",
      "171/171 [==============================] - 5s 29ms/step - loss: -47896963579904.0000 - mean_squared_error: 3.7874\n",
      "Epoch 236/300\n",
      "171/171 [==============================] - 5s 29ms/step - loss: -48599312367616.0000 - mean_squared_error: 3.7871\n",
      "Epoch 237/300\n",
      "171/171 [==============================] - 5s 30ms/step - loss: -49319545667584.0000 - mean_squared_error: 3.7818\n",
      "Epoch 238/300\n",
      "171/171 [==============================] - 6s 32ms/step - loss: -50042111000576.0000 - mean_squared_error: 3.7858\n",
      "Epoch 239/300\n",
      "171/171 [==============================] - 5s 30ms/step - loss: -50773937356800.0000 - mean_squared_error: 3.7838\n",
      "Epoch 240/300\n",
      "171/171 [==============================] - 5s 29ms/step - loss: -51515318337536.0000 - mean_squared_error: 3.7839\n",
      "Epoch 241/300\n",
      "171/171 [==============================] - 5s 29ms/step - loss: -52260180590592.0000 - mean_squared_error: 3.7831\n",
      "Epoch 242/300\n",
      "171/171 [==============================] - 5s 29ms/step - loss: -53012181549056.0000 - mean_squared_error: 3.7825\n",
      "Epoch 243/300\n",
      "171/171 [==============================] - 5s 29ms/step - loss: -53766145441792.0000 - mean_squared_error: 3.7836\n",
      "Epoch 244/300\n",
      "171/171 [==============================] - 5s 29ms/step - loss: -54538815930368.0000 - mean_squared_error: 3.7824\n",
      "Epoch 245/300\n",
      "171/171 [==============================] - 5s 29ms/step - loss: -55315986907136.0000 - mean_squared_error: 3.7872\n",
      "Epoch 246/300\n",
      "171/171 [==============================] - 5s 29ms/step - loss: -56112481042432.0000 - mean_squared_error: 3.7818\n",
      "Epoch 247/300\n",
      "171/171 [==============================] - 5s 29ms/step - loss: -56923634270208.0000 - mean_squared_error: 3.7830\n",
      "Epoch 248/300\n",
      "171/171 [==============================] - 5s 29ms/step - loss: -57738948247552.0000 - mean_squared_error: 3.7835\n",
      "Epoch 249/300\n",
      "171/171 [==============================] - 5s 29ms/step - loss: -58555986083840.0000 - mean_squared_error: 3.7833\n",
      "Epoch 250/300\n",
      "171/171 [==============================] - 5s 29ms/step - loss: -59383346102272.0000 - mean_squared_error: 3.7795\n",
      "Epoch 251/300\n",
      "171/171 [==============================] - 5s 29ms/step - loss: -60229022646272.0000 - mean_squared_error: 3.7835\n",
      "Epoch 252/300\n",
      "171/171 [==============================] - 5s 29ms/step - loss: -61085415636992.0000 - mean_squared_error: 3.7835\n",
      "Epoch 253/300\n",
      "171/171 [==============================] - 5s 30ms/step - loss: -61943654121472.0000 - mean_squared_error: 3.7857\n",
      "Epoch 254/300\n",
      "171/171 [==============================] - 5s 29ms/step - loss: -62801942937600.0000 - mean_squared_error: 3.7803\n",
      "Epoch 255/300\n",
      "171/171 [==============================] - 5s 30ms/step - loss: -63667743752192.0000 - mean_squared_error: 3.7836\n",
      "Epoch 256/300\n",
      "171/171 [==============================] - 5s 30ms/step - loss: -64548769890304.0000 - mean_squared_error: 3.7799\n",
      "Epoch 257/300\n",
      "171/171 [==============================] - 5s 29ms/step - loss: -65444522229760.0000 - mean_squared_error: 3.7854\n",
      "Epoch 258/300\n",
      "171/171 [==============================] - 5s 29ms/step - loss: -66348294078464.0000 - mean_squared_error: 3.7799\n",
      "Epoch 259/300\n",
      "171/171 [==============================] - 5s 29ms/step - loss: -67267513548800.0000 - mean_squared_error: 3.7850\n",
      "Epoch 260/300\n",
      "171/171 [==============================] - 5s 29ms/step - loss: -68200154791936.0000 - mean_squared_error: 3.7823\n",
      "Epoch 261/300\n",
      "171/171 [==============================] - 5s 29ms/step - loss: -69123501457408.0000 - mean_squared_error: 3.7888\n",
      "Epoch 262/300\n",
      "171/171 [==============================] - 5s 30ms/step - loss: -70049448591360.0000 - mean_squared_error: 3.7829\n",
      "Epoch 263/300\n",
      "171/171 [==============================] - 5s 29ms/step - loss: -70984585445376.0000 - mean_squared_error: 3.7896\n",
      "Epoch 264/300\n",
      "171/171 [==============================] - 5s 29ms/step - loss: -71930669432832.0000 - mean_squared_error: 3.7833\n",
      "Epoch 265/300\n",
      "171/171 [==============================] - 5s 29ms/step - loss: -72885024587776.0000 - mean_squared_error: 3.7821\n",
      "Epoch 266/300\n",
      "171/171 [==============================] - 5s 30ms/step - loss: -73849622233088.0000 - mean_squared_error: 3.7818\n",
      "Epoch 267/300\n",
      "171/171 [==============================] - 5s 29ms/step - loss: -74816988119040.0000 - mean_squared_error: 3.7823\n",
      "Epoch 268/300\n",
      "171/171 [==============================] - 5s 29ms/step - loss: -75799579328512.0000 - mean_squared_error: 3.7871\n",
      "Epoch 269/300\n",
      "171/171 [==============================] - 5s 30ms/step - loss: -76795776860160.0000 - mean_squared_error: 3.7833\n",
      "Epoch 270/300\n",
      "171/171 [==============================] - 5s 30ms/step - loss: -77801738731520.0000 - mean_squared_error: 3.7841\n",
      "Epoch 271/300\n",
      "171/171 [==============================] - 5s 30ms/step - loss: -78820191240192.0000 - mean_squared_error: 3.7825\n",
      "Epoch 272/300\n",
      "171/171 [==============================] - 5s 29ms/step - loss: -79856385654784.0000 - mean_squared_error: 3.7836\n",
      "Epoch 273/300\n",
      "171/171 [==============================] - 5s 29ms/step - loss: -80891632156672.0000 - mean_squared_error: 3.7862\n",
      "Epoch 274/300\n",
      "171/171 [==============================] - 5s 29ms/step - loss: -81939084083200.0000 - mean_squared_error: 3.7798\n",
      "Epoch 275/300\n",
      "171/171 [==============================] - 5s 28ms/step - loss: -82997063712768.0000 - mean_squared_error: 3.7856\n",
      "Epoch 276/300\n",
      "171/171 [==============================] - 5s 28ms/step - loss: -84066602844160.0000 - mean_squared_error: 3.7877\n",
      "Epoch 277/300\n",
      "171/171 [==============================] - 5s 28ms/step - loss: -85156702453760.0000 - mean_squared_error: 3.7827\n",
      "Epoch 278/300\n",
      "171/171 [==============================] - 5s 28ms/step - loss: -86258118295552.0000 - mean_squared_error: 3.7821\n",
      "Epoch 279/300\n",
      "171/171 [==============================] - 5s 28ms/step - loss: -87372729417728.0000 - mean_squared_error: 3.7799\n",
      "Epoch 280/300\n",
      "171/171 [==============================] - 5s 29ms/step - loss: -88487885799424.0000 - mean_squared_error: 3.7837\n",
      "Epoch 281/300\n",
      "171/171 [==============================] - 5s 28ms/step - loss: -89609627238400.0000 - mean_squared_error: 3.7860\n",
      "Epoch 282/300\n",
      "171/171 [==============================] - 5s 28ms/step - loss: -90729137307648.0000 - mean_squared_error: 3.7831\n",
      "Epoch 283/300\n",
      "171/171 [==============================] - 5s 29ms/step - loss: -91867697905664.0000 - mean_squared_error: 3.7791\n",
      "Epoch 284/300\n",
      "171/171 [==============================] - 5s 28ms/step - loss: -93023866191872.0000 - mean_squared_error: 3.7818\n",
      "Epoch 285/300\n",
      "171/171 [==============================] - 5s 28ms/step - loss: -94179480829952.0000 - mean_squared_error: 3.7876\n",
      "Epoch 286/300\n",
      "171/171 [==============================] - 5s 28ms/step - loss: -95365026021376.0000 - mean_squared_error: 3.7834\n",
      "Epoch 287/300\n",
      "171/171 [==============================] - 5s 29ms/step - loss: -96549816238080.0000 - mean_squared_error: 3.7848\n",
      "Epoch 288/300\n",
      "171/171 [==============================] - 5s 28ms/step - loss: -97744379183104.0000 - mean_squared_error: 3.7810\n",
      "Epoch 289/300\n",
      "171/171 [==============================] - 5s 28ms/step - loss: -98954335223808.0000 - mean_squared_error: 3.7852\n",
      "Epoch 290/300\n",
      "171/171 [==============================] - 5s 29ms/step - loss: -100191067701248.0000 - mean_squared_error: 3.7837\n",
      "Epoch 291/300\n",
      "171/171 [==============================] - 5s 29ms/step - loss: -101442119532544.0000 - mean_squared_error: 3.7839\n",
      "Epoch 292/300\n",
      "171/171 [==============================] - 5s 29ms/step - loss: -102705242570752.0000 - mean_squared_error: 3.7880\n",
      "Epoch 293/300\n",
      "171/171 [==============================] - 5s 29ms/step - loss: -103975051329536.0000 - mean_squared_error: 3.7829\n",
      "Epoch 294/300\n",
      "171/171 [==============================] - 5s 29ms/step - loss: -105255530397696.0000 - mean_squared_error: 3.7822\n",
      "Epoch 295/300\n",
      "171/171 [==============================] - 5s 28ms/step - loss: -106539994054656.0000 - mean_squared_error: 3.7839\n",
      "Epoch 296/300\n",
      "171/171 [==============================] - 5s 28ms/step - loss: -107832527552512.0000 - mean_squared_error: 3.7831\n",
      "Epoch 297/300\n",
      "171/171 [==============================] - 5s 28ms/step - loss: -109144279351296.0000 - mean_squared_error: 3.7847\n",
      "Epoch 298/300\n",
      "171/171 [==============================] - 5s 28ms/step - loss: -110456651907072.0000 - mean_squared_error: 3.7795\n",
      "Epoch 299/300\n",
      "171/171 [==============================] - 5s 29ms/step - loss: -111780080648192.0000 - mean_squared_error: 3.7873\n",
      "Epoch 300/300\n",
      "171/171 [==============================] - 5s 28ms/step - loss: -113114615906304.0000 - mean_squared_error: 3.7839\n"
     ]
    }
   ],
   "source": [
    "history = model.fit(np.array(video_games_features_prepared.toarray()), video_games_labels, epochs=300,\n",
    "                    )"
   ]
  },
  {
   "cell_type": "code",
   "execution_count": 68,
   "id": "4f430900-cd9c-414e-b059-7114b0f425c4",
   "metadata": {
    "tags": []
   },
   "outputs": [
    {
     "name": "stdout",
     "output_type": "stream",
     "text": [
      "171/171 [==============================] - 1s 8ms/step - loss: -113827353985024.0000 - mean_squared_error: 3.7476\n"
     ]
    },
    {
     "data": {
      "text/plain": [
       "[-113827353985024.0, 3.7476136684417725]"
      ]
     },
     "execution_count": 68,
     "metadata": {},
     "output_type": "execute_result"
    }
   ],
   "source": [
    "model.evaluate(video_games_features_prepared.toarray(), video_games_labels)\n"
   ]
  },
  {
   "cell_type": "code",
   "execution_count": 69,
   "id": "f9870294-2f98-4bae-8815-2a70afc44383",
   "metadata": {
    "tags": []
   },
   "outputs": [],
   "source": [
    "import matplotlib.pyplot as plt"
   ]
  },
  {
   "cell_type": "code",
   "execution_count": 70,
   "id": "ef8bff82-edf8-4d85-9ee4-782c688aefef",
   "metadata": {
    "tags": []
   },
   "outputs": [
    {
     "ename": "TypeError",
     "evalue": "'History' object is not subscriptable",
     "output_type": "error",
     "traceback": [
      "\u001b[0;31m---------------------------------------------------------------------------\u001b[0m",
      "\u001b[0;31mTypeError\u001b[0m                                 Traceback (most recent call last)",
      "Cell \u001b[0;32mIn[70], line 1\u001b[0m\n\u001b[0;32m----> 1\u001b[0m plt\u001b[38;5;241m.\u001b[39mplot([i \u001b[38;5;28;01mfor\u001b[39;00m i \u001b[38;5;129;01min\u001b[39;00m \u001b[38;5;28mrange\u001b[39m(epochs)], \u001b[43mhistory\u001b[49m\u001b[43m[\u001b[49m\u001b[38;5;124;43m'\u001b[39;49m\u001b[38;5;124;43mloss\u001b[39;49m\u001b[38;5;124;43m'\u001b[39;49m\u001b[43m]\u001b[49m)\n",
      "\u001b[0;31mTypeError\u001b[0m: 'History' object is not subscriptable"
     ]
    }
   ],
   "source": [
    "plt.plot([i for i in range(epochs)], history['loss'])\n"
   ]
  },
  {
   "cell_type": "markdown",
   "id": "1baadd83-95f0-4eb4-a237-8e3686718f0b",
   "metadata": {},
   "source": [
    "## insanly low, trying to only use numerical values to see if it has anything to do with the absurd amount of parametters"
   ]
  },
  {
   "cell_type": "code",
   "execution_count": null,
   "id": "3057fa7c-f13b-4814-a0ad-466dea0516de",
   "metadata": {
    "tags": []
   },
   "outputs": [],
   "source": [
    "video_games_features_numerical_tr.shape"
   ]
  },
  {
   "cell_type": "code",
   "execution_count": null,
   "id": "b45b1d52-20d6-41f4-9863-5ecd7d9bed4e",
   "metadata": {},
   "outputs": [],
   "source": []
  },
  {
   "cell_type": "code",
   "execution_count": null,
   "id": "d0a2ff34-acd3-4514-aea5-1fb4b89a1291",
   "metadata": {
    "tags": []
   },
   "outputs": [],
   "source": [
    "input_shape = (6,)\n",
    "\n",
    "model = tf.keras.Sequential([\n",
    "    tf.keras.layers.Dense(units=5000, activation='relu', input_shape=input_shape),\n",
    "    tf.keras.layers.Dense(units=1000, activation='relu'),\n",
    "    tf.keras.layers.Dense(units=100, activation='relu'),\n",
    "    tf.keras.layers.Dense(units=1, activation='sigmoid')\n",
    "])\n"
   ]
  },
  {
   "cell_type": "code",
   "execution_count": null,
   "id": "a9ba1dc8-0c4c-4d06-8054-6807a90556fb",
   "metadata": {
    "tags": []
   },
   "outputs": [],
   "source": [
    "model.compile(\n",
    "    optimizer=optimizers.Adam(learning_rate=0.001), \n",
    "    loss=losses.BinaryCrossentropy(),\n",
    "    metrics=[metrics.MeanSquaredError()]\n",
    ")"
   ]
  },
  {
   "cell_type": "code",
   "execution_count": null,
   "id": "11b7fbd3-ee25-42a6-8179-c7e9b238a7c9",
   "metadata": {
    "tags": []
   },
   "outputs": [],
   "source": [
    "history = model.fit(video_games_features_numerical_tr, video_games_labels, epochs=30,\n",
    "                    )"
   ]
  },
  {
   "cell_type": "code",
   "execution_count": null,
   "id": "133a99f9-dada-4a0c-b473-9d934b27bc30",
   "metadata": {
    "tags": []
   },
   "outputs": [],
   "source": [
    "model.evaluate(video_games_features_numerical_tr, video_games_labels)\n"
   ]
  },
  {
   "cell_type": "code",
   "execution_count": null,
   "id": "f3a76276-e3cb-49de-afc2-867637a4dfd3",
   "metadata": {
    "tags": []
   },
   "outputs": [],
   "source": [
    "from tensorflow.keras import regularizers\n"
   ]
  },
  {
   "cell_type": "code",
   "execution_count": null,
   "id": "59689ab2-f00f-469e-9d51-48ab5ebc518b",
   "metadata": {
    "tags": []
   },
   "outputs": [],
   "source": [
    "model = tf.keras.Sequential([\n",
    "    tf.keras.layers.Dense(units=5000, activation='relu', kernel_regularizer=regularizers.l2(0.01), input_shape=input_shape),\n",
    "    tf.keras.layers.Dense(units=1000, activation='relu', kernel_regularizer=regularizers.l2(0.01)),\n",
    "    tf.keras.layers.Dense(units=100, activation='relu', kernel_regularizer=regularizers.l2(0.01)),\n",
    "    tf.keras.layers.Dropout(0.2),\n",
    "    tf.keras.layers.Dense(units=1, activation='sigmoid')\n",
    "])"
   ]
  },
  {
   "cell_type": "code",
   "execution_count": null,
   "id": "4941a8e4-3178-4d8a-bad5-8289d657466d",
   "metadata": {
    "tags": []
   },
   "outputs": [],
   "source": [
    "model.compile(\n",
    "    optimizer=optimizers.Adam(learning_rate=0.001), \n",
    "    loss=losses.BinaryCrossentropy(),\n",
    "   metrics=[metrics.MeanSquaredError()]\n",
    ")"
   ]
  },
  {
   "cell_type": "code",
   "execution_count": null,
   "id": "b749c6da-4cde-4e58-b3df-dd9c9354b385",
   "metadata": {
    "tags": []
   },
   "outputs": [],
   "source": [
    "history = model.fit(video_games_features_numerical_tr, video_games_labels, epochs=30,\n",
    "                    )"
   ]
  },
  {
   "cell_type": "code",
   "execution_count": null,
   "id": "5214e3f6-e841-46df-82f4-fdf9cbb1bc9d",
   "metadata": {},
   "outputs": [],
   "source": []
  }
 ],
 "metadata": {
  "kernelspec": {
   "display_name": "Python 3 (ipykernel)",
   "language": "python",
   "name": "python3"
  },
  "language_info": {
   "codemirror_mode": {
    "name": "ipython",
    "version": 3
   },
   "file_extension": ".py",
   "mimetype": "text/x-python",
   "name": "python",
   "nbconvert_exporter": "python",
   "pygments_lexer": "ipython3",
   "version": "3.9.16"
  },
  "vscode": {
   "interpreter": {
    "hash": "1a1af0ee75eeea9e2e1ee996c87e7a2b11a0bebd85af04bb136d915cefc0abce"
   }
  }
 },
 "nbformat": 4,
 "nbformat_minor": 5
}
