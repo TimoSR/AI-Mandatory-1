{
 "cells": [
  {
   "cell_type": "code",
   "execution_count": 1,
   "id": "36c76c50-aa19-4ad0-89ef-38bad6fceae8",
   "metadata": {
    "tags": []
   },
   "outputs": [],
   "source": [
    "import os\n",
    "import tarfile\n",
    "import urllib.request\n",
    "import pandas as pd\n",
    "import numpy as np\n",
    "\n",
    "# data without None Values\n",
    "video_games = pd.read_csv('processed_video_games_data.csv')"
   ]
  },
  {
   "cell_type": "code",
   "execution_count": 2,
   "id": "104ea695-3546-454e-b745-adc9fe0f2014",
   "metadata": {
    "tags": []
   },
   "outputs": [],
   "source": [
    "np.random.seed(42)"
   ]
  },
  {
   "cell_type": "code",
   "execution_count": null,
   "id": "512fd6ae-7501-4432-b201-ebf43abc4993",
   "metadata": {
    "tags": []
   },
   "outputs": [],
   "source": []
  },
  {
   "cell_type": "code",
   "execution_count": 9,
   "id": "c00d39d3-ba77-46c5-9987-22eb71a2488a",
   "metadata": {
    "tags": []
   },
   "outputs": [],
   "source": [
    "X = video_games.drop(columns=[\"Global_Sales\"])\n",
    "y = video_games[\"Global_Sales\"]"
   ]
  },
  {
   "cell_type": "code",
   "execution_count": 10,
   "id": "f89f6fd2-0073-41ab-a7a7-e28b4988d57d",
   "metadata": {
    "tags": []
   },
   "outputs": [],
   "source": [
    "m = len(video_games)\n",
    "split_train = int(m * 0.7)\n",
    "split_val = int(m * 0.15 + split_train)\n",
    "split_test = int(m * 0.15 + split_val)\n",
    "\n",
    "\n",
    "X_train, y_train = X[:split_train], y[:split_train]\n",
    "X_val, y_val = X[split_train:split_val], y[split_train:split_val]\n",
    "X_test, y_test = X[split_val:split_test], y[split_val:split_test]"
   ]
  },
  {
   "cell_type": "code",
   "execution_count": 11,
   "id": "a3566e93-5273-473f-9f5f-2c694eae004f",
   "metadata": {
    "tags": []
   },
   "outputs": [
    {
     "data": {
      "text/plain": [
       "4777"
      ]
     },
     "execution_count": 11,
     "metadata": {},
     "output_type": "execute_result"
    }
   ],
   "source": [
    "len(X_train)"
   ]
  },
  {
   "cell_type": "markdown",
   "id": "92c02cf3-776b-4cd8-95df-084e237737a6",
   "metadata": {},
   "source": [
    "## stratifying data set"
   ]
  },
  {
   "cell_type": "code",
   "execution_count": 12,
   "id": "3dca3f48-bacf-4bc8-a520-7722064b3ece",
   "metadata": {
    "tags": []
   },
   "outputs": [],
   "source": [
    "video_games[\"Global_Sales_cat\"] = pd.cut(video_games[\"Global_Sales\"], \n",
    "                                         bins =[0.0,0.1,0.2,0.3,0.4,0.5,0.6,0.7,0.8,0.9,1,10,20,30,np.inf], \n",
    "                                         labels=[1,2,3,4,5,6,7,8,9,10,11,12,13,14])"
   ]
  },
  {
   "cell_type": "code",
   "execution_count": 13,
   "id": "9d22d21e-4887-4811-ace0-0beb6eb8103b",
   "metadata": {
    "tags": []
   },
   "outputs": [
    {
     "data": {
      "text/plain": [
       "Global_Sales_cat\n",
       "1     1601\n",
       "11    1267\n",
       "2     1146\n",
       "3      739\n",
       "4      510\n",
       "5      408\n",
       "6      358\n",
       "7      243\n",
       "8      204\n",
       "9      166\n",
       "10     143\n",
       "12      27\n",
       "13      10\n",
       "14       3\n",
       "Name: count, dtype: int64"
      ]
     },
     "execution_count": 13,
     "metadata": {},
     "output_type": "execute_result"
    }
   ],
   "source": [
    "video_games[\"Global_Sales_cat\"].value_counts()\n"
   ]
  },
  {
   "cell_type": "code",
   "execution_count": 14,
   "id": "daf9af6f-23eb-41f4-ae83-3613d1764a85",
   "metadata": {
    "tags": []
   },
   "outputs": [
    {
     "data": {
      "text/plain": [
       "<Axes: >"
      ]
     },
     "execution_count": 14,
     "metadata": {},
     "output_type": "execute_result"
    },
    {
     "data": {
      "image/png": "[encoded data removed]",
      "text/plain": [
       "<Figure size 640x480 with 1 Axes>"
      ]
     },
     "metadata": {},
     "output_type": "display_data"
    }
   ],
   "source": [
    "video_games[\"Global_Sales_cat\"].hist()"
   ]
  },
  {
   "cell_type": "code",
   "execution_count": 17,
   "id": "3572b480-1805-47a0-8d58-bb0c4dc116ea",
   "metadata": {
    "tags": []
   },
   "outputs": [],
   "source": [
    "from sklearn.model_selection import StratifiedShuffleSplit\n",
    "\n",
    "split = StratifiedShuffleSplit(n_splits=1, test_size=0.2, random_state=42)\n",
    "for train_index, test_index in split.split(video_games, video_games[\"Global_Sales_cat\"]):\n",
    "    strat_train_set = video_games.loc[train_index]\n",
    "    strat_test_set = video_games.loc[test_index]"
   ]
  },
  {
   "cell_type": "code",
   "execution_count": 19,
   "id": "bae9a16b-4a18-4b73-9282-c67f456d792a",
   "metadata": {
    "tags": []
   },
   "outputs": [
    {
     "data": {
      "text/plain": [
       "Global_Sales_cat\n",
       "1     0.234432\n",
       "11    0.185348\n",
       "2     0.167766\n",
       "3     0.108425\n",
       "4     0.074725\n",
       "5     0.060073\n",
       "6     0.052747\n",
       "7     0.035165\n",
       "8     0.030037\n",
       "9     0.024176\n",
       "10    0.021245\n",
       "12    0.003663\n",
       "13    0.001465\n",
       "14    0.000733\n",
       "Name: count, dtype: float64"
      ]
     },
     "execution_count": 19,
     "metadata": {},
     "output_type": "execute_result"
    }
   ],
   "source": [
    "strat_test_set[\"Global_Sales_cat\"].value_counts() / len(strat_test_set)\n"
   ]
  },
  {
   "cell_type": "code",
   "execution_count": 20,
   "id": "c0d654c6-fc15-4400-be7a-9b45a5f1c214",
   "metadata": {
    "tags": []
   },
   "outputs": [
    {
     "data": {
      "text/plain": [
       "Global_Sales_cat\n",
       "1     0.234579\n",
       "11    0.185641\n",
       "2     0.167912\n",
       "3     0.108278\n",
       "4     0.074725\n",
       "5     0.059780\n",
       "6     0.052454\n",
       "7     0.035604\n",
       "8     0.029890\n",
       "9     0.024322\n",
       "10    0.020952\n",
       "12    0.003956\n",
       "13    0.001465\n",
       "14    0.000440\n",
       "Name: count, dtype: float64"
      ]
     },
     "execution_count": 20,
     "metadata": {},
     "output_type": "execute_result"
    }
   ],
   "source": [
    "video_games[\"Global_Sales_cat\"].value_counts() / len(video_games)\n"
   ]
  },
  {
   "cell_type": "code",
   "execution_count": 22,
   "id": "22eadaad-af1c-4015-a25f-9dd38343f3c9",
   "metadata": {
    "tags": []
   },
   "outputs": [],
   "source": [
    "from sklearn.model_selection import train_test_split"
   ]
  },
  {
   "cell_type": "code",
   "execution_count": 24,
   "id": "ad7c3b14-0d3d-42ec-ae2f-b66846ec9038",
   "metadata": {
    "tags": []
   },
   "outputs": [],
   "source": [
    "def income_cat_proportions(data):\n",
    "    return data[\"Global_Sales_cat\"].value_counts() / len(data)\n",
    "\n",
    "train_set, test_set = train_test_split(video_games, test_size=0.2, random_state=42)\n",
    "\n",
    "compare_props = pd.DataFrame({\n",
    "    \"Overall\": income_cat_proportions(video_games),\n",
    "    \"Stratified\": income_cat_proportions(strat_test_set),\n",
    "    \"Random\": income_cat_proportions(test_set),\n",
    "}).sort_index()\n",
    "compare_props[\"Rand. %error\"] = 100 * compare_props[\"Random\"] / compare_props[\"Overall\"] - 100\n",
    "compare_props[\"Strat. %error\"] = 100 * compare_props[\"Stratified\"] / compare_props[\"Overall\"] - 100"
   ]
  },
  {
   "cell_type": "code",
   "execution_count": 25,
   "id": "697ddbb9-0301-44d2-bf79-c6fd78b4c69e",
   "metadata": {
    "tags": []
   },
   "outputs": [
    {
     "data": {
      "text/html": [
       "<div>\n",
       "<style scoped>\n",
       "    .dataframe tbody tr th:only-of-type {\n",
       "        vertical-align: middle;\n",
       "    }\n",
       "\n",
       "    .dataframe tbody tr th {\n",
       "        vertical-align: top;\n",
       "    }\n",
       "\n",
       "    .dataframe thead th {\n",
       "        text-align: right;\n",
       "    }\n",
       "</style>\n",
       "<table border=\"1\" class=\"dataframe\">\n",
       "  <thead>\n",
       "    <tr style=\"text-align: right;\">\n",
       "      <th></th>\n",
       "      <th>Overall</th>\n",
       "      <th>Stratified</th>\n",
       "      <th>Random</th>\n",
       "      <th>Rand. %error</th>\n",
       "      <th>Strat. %error</th>\n",
       "    </tr>\n",
       "    <tr>\n",
       "      <th>Global_Sales_cat</th>\n",
       "      <th></th>\n",
       "      <th></th>\n",
       "      <th></th>\n",
       "      <th></th>\n",
       "      <th></th>\n",
       "    </tr>\n",
       "  </thead>\n",
       "  <tbody>\n",
       "    <tr>\n",
       "      <th>1</th>\n",
       "      <td>0.234579</td>\n",
       "      <td>0.234432</td>\n",
       "      <td>0.237363</td>\n",
       "      <td>1.186758</td>\n",
       "      <td>-0.062461</td>\n",
       "    </tr>\n",
       "    <tr>\n",
       "      <th>2</th>\n",
       "      <td>0.167912</td>\n",
       "      <td>0.167766</td>\n",
       "      <td>0.153846</td>\n",
       "      <td>-8.376963</td>\n",
       "      <td>-0.087260</td>\n",
       "    </tr>\n",
       "    <tr>\n",
       "      <th>3</th>\n",
       "      <td>0.108278</td>\n",
       "      <td>0.108425</td>\n",
       "      <td>0.101099</td>\n",
       "      <td>-6.630582</td>\n",
       "      <td>0.135318</td>\n",
       "    </tr>\n",
       "    <tr>\n",
       "      <th>4</th>\n",
       "      <td>0.074725</td>\n",
       "      <td>0.074725</td>\n",
       "      <td>0.084982</td>\n",
       "      <td>13.725490</td>\n",
       "      <td>0.000000</td>\n",
       "    </tr>\n",
       "    <tr>\n",
       "      <th>5</th>\n",
       "      <td>0.059780</td>\n",
       "      <td>0.060073</td>\n",
       "      <td>0.054945</td>\n",
       "      <td>-8.088235</td>\n",
       "      <td>0.490196</td>\n",
       "    </tr>\n",
       "    <tr>\n",
       "      <th>6</th>\n",
       "      <td>0.052454</td>\n",
       "      <td>0.052747</td>\n",
       "      <td>0.057875</td>\n",
       "      <td>10.335196</td>\n",
       "      <td>0.558659</td>\n",
       "    </tr>\n",
       "    <tr>\n",
       "      <th>7</th>\n",
       "      <td>0.035604</td>\n",
       "      <td>0.035165</td>\n",
       "      <td>0.027106</td>\n",
       "      <td>-23.868313</td>\n",
       "      <td>-1.234568</td>\n",
       "    </tr>\n",
       "    <tr>\n",
       "      <th>8</th>\n",
       "      <td>0.029890</td>\n",
       "      <td>0.030037</td>\n",
       "      <td>0.029304</td>\n",
       "      <td>-1.960784</td>\n",
       "      <td>0.490196</td>\n",
       "    </tr>\n",
       "    <tr>\n",
       "      <th>9</th>\n",
       "      <td>0.024322</td>\n",
       "      <td>0.024176</td>\n",
       "      <td>0.030037</td>\n",
       "      <td>23.493976</td>\n",
       "      <td>-0.602410</td>\n",
       "    </tr>\n",
       "    <tr>\n",
       "      <th>10</th>\n",
       "      <td>0.020952</td>\n",
       "      <td>0.021245</td>\n",
       "      <td>0.027839</td>\n",
       "      <td>32.867133</td>\n",
       "      <td>1.398601</td>\n",
       "    </tr>\n",
       "    <tr>\n",
       "      <th>11</th>\n",
       "      <td>0.185641</td>\n",
       "      <td>0.185348</td>\n",
       "      <td>0.188278</td>\n",
       "      <td>1.420679</td>\n",
       "      <td>-0.157853</td>\n",
       "    </tr>\n",
       "    <tr>\n",
       "      <th>12</th>\n",
       "      <td>0.003956</td>\n",
       "      <td>0.003663</td>\n",
       "      <td>0.006593</td>\n",
       "      <td>66.666667</td>\n",
       "      <td>-7.407407</td>\n",
       "    </tr>\n",
       "    <tr>\n",
       "      <th>13</th>\n",
       "      <td>0.001465</td>\n",
       "      <td>0.001465</td>\n",
       "      <td>0.000733</td>\n",
       "      <td>-50.000000</td>\n",
       "      <td>0.000000</td>\n",
       "    </tr>\n",
       "    <tr>\n",
       "      <th>14</th>\n",
       "      <td>0.000440</td>\n",
       "      <td>0.000733</td>\n",
       "      <td>0.000000</td>\n",
       "      <td>-100.000000</td>\n",
       "      <td>66.666667</td>\n",
       "    </tr>\n",
       "  </tbody>\n",
       "</table>\n",
       "</div>"
      ],
      "text/plain": [
       "                   Overall  Stratified    Random  Rand. %error  Strat. %error\n",
       "Global_Sales_cat                                                             \n",
       "1                 0.234579    0.234432  0.237363      1.186758      -0.062461\n",
       "2                 0.167912    0.167766  0.153846     -8.376963      -0.087260\n",
       "3                 0.108278    0.108425  0.101099     -6.630582       0.135318\n",
       "4                 0.074725    0.074725  0.084982     13.725490       0.000000\n",
       "5                 0.059780    0.060073  0.054945     -8.088235       0.490196\n",
       "6                 0.052454    0.052747  0.057875     10.335196       0.558659\n",
       "7                 0.035604    0.035165  0.027106    -23.868313      -1.234568\n",
       "8                 0.029890    0.030037  0.029304     -1.960784       0.490196\n",
       "9                 0.024322    0.024176  0.030037     23.493976      -0.602410\n",
       "10                0.020952    0.021245  0.027839     32.867133       1.398601\n",
       "11                0.185641    0.185348  0.188278      1.420679      -0.157853\n",
       "12                0.003956    0.003663  0.006593     66.666667      -7.407407\n",
       "13                0.001465    0.001465  0.000733    -50.000000       0.000000\n",
       "14                0.000440    0.000733  0.000000   -100.000000      66.666667"
      ]
     },
     "execution_count": 25,
     "metadata": {},
     "output_type": "execute_result"
    }
   ],
   "source": [
    "compare_props"
   ]
  },
  {
   "cell_type": "code",
   "execution_count": 27,
   "id": "c19f3b76-35aa-4f68-a71a-93417c2abe07",
   "metadata": {
    "tags": []
   },
   "outputs": [],
   "source": [
    "for set_ in (strat_train_set, strat_test_set):\n",
    "    set_.drop(\"Global_Sales_cat\", axis=1, inplace=True)"
   ]
  },
  {
   "cell_type": "code",
   "execution_count": null,
   "id": "a57f99d0-6d82-48c7-aa25-771aae2b0450",
   "metadata": {},
   "outputs": [],
   "source": []
  }
 ],
 "metadata": {
  "kernelspec": {
   "display_name": "Python 3",
   "language": "python",
   "name": "python3"
  },
  "language_info": {
   "codemirror_mode": {
    "name": "ipython",
    "version": 3
   },
   "file_extension": ".py",
   "mimetype": "text/x-python",
   "name": "python",
   "nbconvert_exporter": "python",
   "pygments_lexer": "ipython3",
   "version": "3.11.2 (v3.11.2:878ead1ac1, Feb  7 2023, 10:02:41) [Clang 13.0.0 (clang-1300.0.29.30)]"
  },
  "vscode": {
   "interpreter": {
    "hash": "1a1af0ee75eeea9e2e1ee996c87e7a2b11a0bebd85af04bb136d915cefc0abce"
   }
  }
 },
 "nbformat": 4,
 "nbformat_minor": 5
}
