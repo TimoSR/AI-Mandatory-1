{
 "cells": [
  {
   "attachments": {},
   "cell_type": "markdown",
   "metadata": {},
   "source": [
    "# Prediction Global Sales of Games"
   ]
  },
  {
   "attachments": {},
   "cell_type": "markdown",
   "metadata": {},
   "source": [
    "## Problem\n",
    "\n",
    "1. Can we accurately predict the global sales of a game before its release using the average of user ratings and critic ratings from previous titles?\n",
    "\n",
    "2. Can we accurately predict the global sales of a game after receiving critic scores but before obtaining user ratings?\n",
    "\n",
    "3. Can we accurately predict the total global sales of a game using all available features, including average user ratings and critic scores from previous titles?"
   ]
  },
  {
   "attachments": {},
   "cell_type": "markdown",
   "metadata": {},
   "source": [
    "# Plan for my solution:\n",
    "\n",
    "Problem Analysis\n",
    "\n",
    "1. What type of problem is it?\n",
    "2. Can we break the problem down into sub problems?\n",
    "3. Are there anything we need to think about, when tackling the problem.\n",
    "\n",
    "Analysing the Dataset:\n",
    "\n",
    "1. What is the Taxonomics of the Data?\n",
    "2. What is the Data Type and its Category?\n",
    "3. Is there anything we need to be aware of for preparing the data for statistical analysis?\n",
    "\n",
    "Preparing Data:\n",
    "\n",
    "1. Removing data sets with empty rows\n",
    "2. Save the data into a new clean_games_sales.csv file\n",
    "3. Validate the cleaned data\n",
    "\n",
    "Statistical Analysis:"
   ]
  },
  {
   "attachments": {},
   "cell_type": "markdown",
   "metadata": {},
   "source": [
    "# Step 1: Problem Analysis\n",
    "\n",
    "[The problem is a regression problem, as we want to predict a numerical value based on input data.]\n",
    "\n",
    "1. Before sale: This scenario involves predicting global sales using only the average of user ratings and critic ratings before the game's release. While it might provide a rough estimate, it may not be as accurate as using all available features. Nonetheless, this approach could still be useful in providing an early indication of the game's potential sales performance.\n",
    "\n",
    "2. After critic score: In this scenario, you would predict global sales after the critic scores are available but before user ratings. This approach might yield better predictions compared to the first scenario since critic scores can be a significant factor in influencing game sales.\n",
    "\n",
    "3. Total sale: This scenario leverages all available features, including user ratings and critic scores, to predict global sales. This approach is likely to provide the most accurate predictions since it takes into account the most information. Starting with this scenario makes sense as it allows the model to learn from the most comprehensive dataset, and later, you can experiment with the other scenarios if needed."
   ]
  },
  {
   "attachments": {},
   "cell_type": "markdown",
   "metadata": {},
   "source": [
    "# Step 2: Data Analysis\n",
    "\n",
    "## Data Taxonomics\n",
    "\n",
    "- It is a structured dataset as the data is stored in a CSV file with labeled columns.\n",
    "\n",
    "## Data Type & Category\n",
    "\n",
    "- The data type is ordinal (non-parametric) since it features labels in a specific order as its attributes.\n",
    "\n",
    "## Preparing the Data\n",
    "\n",
    "- There is alot of empty rows in the data set, so these needs to be removed. "
   ]
  },
  {
   "attachments": {},
   "cell_type": "markdown",
   "metadata": {},
   "source": [
    "# Step 3: Preparing the data\n",
    "\n"
   ]
  },
  {
   "attachments": {},
   "cell_type": "markdown",
   "metadata": {},
   "source": [
    "Removing empty rows from the data set"
   ]
  },
  {
   "cell_type": "code",
   "execution_count": 5,
   "metadata": {},
   "outputs": [],
   "source": [
    "import csv\n",
    "\n",
    "with open('Video_Games_Sales_as_at_22_Dec_2016.csv', 'r') as csvfile:\n",
    "    reader = csv.reader(csvfile)\n",
    "    csv_data = [row for row in reader if all(row)]\n",
    "\n",
    "with open('Clean_Games_Sales_Data.csv', 'w', newline='') as outfile:\n",
    "     writer = csv.writer(outfile)\n",
    "     writer.writerows(csv_data)"
   ]
  },
  {
   "attachments": {},
   "cell_type": "markdown",
   "metadata": {},
   "source": [
    "# Step 4: Validating the Data"
   ]
  },
  {
   "attachments": {},
   "cell_type": "markdown",
   "metadata": {},
   "source": [
    "## Range Checking\n",
    "\n",
    "I want to range check the features."
   ]
  },
  {
   "attachments": {},
   "cell_type": "markdown",
   "metadata": {},
   "source": [
    "### Year of Release"
   ]
  },
  {
   "cell_type": "code",
   "execution_count": 7,
   "metadata": {},
   "outputs": [
    {
     "name": "stdout",
     "output_type": "stream",
     "text": [
      "Minimum year of release: 1985\n",
      "Maximum year of release: 2016\n"
     ]
    }
   ],
   "source": [
    "import pandas as pd\n",
    "\n",
    "# Load the CSV file into a pandas dataframe\n",
    "df = pd.read_csv('Clean_Games_Sales_Data.csv')\n",
    "\n",
    "# Find the minimum and maximum years of release\n",
    "min_sales = df['Year_of_Release'].min()\n",
    "max_sales = df['Year_of_Release'].max()\n",
    "\n",
    "# Convert the values to integers\n",
    "min_sales = int(min_sales)\n",
    "max_sales = int(max_sales)\n",
    "\n",
    "# Print the results\n",
    "print(\"Minimum year of release:\", min_sales)\n",
    "print(\"Maximum year of release:\", max_sales)"
   ]
  },
  {
   "attachments": {},
   "cell_type": "markdown",
   "metadata": {},
   "source": [
    "### EU Sales"
   ]
  },
  {
   "cell_type": "code",
   "execution_count": 9,
   "metadata": {},
   "outputs": [
    {
     "name": "stdout",
     "output_type": "stream",
     "text": [
      "Minimum year of release: 0.0\n",
      "Maximum year of release: 28.96\n"
     ]
    }
   ],
   "source": [
    "import pandas as pd\n",
    "\n",
    "# Load the CSV file into a pandas dataframe\n",
    "df = pd.read_csv('Clean_Games_Sales_Data.csv')\n",
    "\n",
    "# Find the minimum and maximum years of release\n",
    "min_sales = df['EU_Sales'].min()\n",
    "max_sales = df['EU_Sales'].max()\n",
    "\n",
    "# Print the results\n",
    "print(\"Minimum year of release:\", min_sales)\n",
    "print(\"Maximum year of release:\", max_sales)"
   ]
  },
  {
   "attachments": {},
   "cell_type": "markdown",
   "metadata": {},
   "source": [
    "## 4.2 Boundary Checking\n",
    "\n",
    "I want to boundary check the features that is a number."
   ]
  },
  {
   "attachments": {},
   "cell_type": "markdown",
   "metadata": {},
   "source": [
    "# Step 5: Statistical Analysis"
   ]
  },
  {
   "attachments": {},
   "cell_type": "markdown",
   "metadata": {},
   "source": [
    "I want to know what data I'm working with before using my ML model to learn on the data.\n",
    "\n",
    "I need to store each sample of features into an list, that can be used for the ML model.\n",
    "\n",
    "I need to analysise the metrics of my model, and compare it to other models I create.\n",
    "\n",
    "1. Overfitting (reduced accuracy and performance, increased variability, decreased interpretability)\n",
    "2. Accuracy\n"
   ]
  },
  {
   "cell_type": "markdown",
   "metadata": {},
   "source": []
  },
  {
   "cell_type": "markdown",
   "metadata": {},
   "source": []
  },
  {
   "cell_type": "markdown",
   "metadata": {},
   "source": []
  }
 ],
 "metadata": {
  "kernelspec": {
   "display_name": "Python 3 (ipykernel)",
   "language": "python",
   "name": "python3"
  },
  "language_info": {
   "codemirror_mode": {
    "name": "ipython",
    "version": 3
   },
   "file_extension": ".py",
   "mimetype": "text/x-python",
   "name": "python",
   "nbconvert_exporter": "python",
   "pygments_lexer": "ipython3",
   "version": "3.11.2"
  }
 },
 "nbformat": 4,
 "nbformat_minor": 2
}
