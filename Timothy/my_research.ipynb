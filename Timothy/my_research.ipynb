{
 "cells": [
  {
   "attachments": {},
   "cell_type": "markdown",
   "metadata": {},
   "source": [
    "# Prediction Global Sales of Games"
   ]
  },
  {
   "attachments": {},
   "cell_type": "markdown",
   "metadata": {},
   "source": [
    "Can we accurately predict the total global sales of a game using all available features, including average user ratings and critic scores from previous titles?"
   ]
  },
  {
   "attachments": {},
   "cell_type": "markdown",
   "metadata": {},
   "source": [
    "The problem is a regression problem, as we want to predict a numerical value based on input data."
   ]
  },
  {
   "attachments": {},
   "cell_type": "markdown",
   "metadata": {},
   "source": [
    "Step 1 for my solution:\n",
    "\n",
    "1. Cleaning data\n",
    "2. Save the data into a new clean_games_sales\n"
   ]
  },
  {
   "cell_type": "code",
   "execution_count": 5,
   "metadata": {},
   "outputs": [],
   "source": [
    "import csv\n",
    "\n",
    "with open('Video_Games_Sales_as_at_22_Dec_2016.csv', 'r') as csvfile:\n",
    "    reader = csv.reader(csvfile)\n",
    "    csv_data = [row for row in reader if all(row)]\n",
    "\n",
    "with open('Clean_Games_Sales_Data.csv', 'w', newline='') as outfile:\n",
    "     writer = csv.writer(outfile)\n",
    "     writer.writerows(csv_data)"
   ]
  },
  {
   "cell_type": "markdown",
   "metadata": {},
   "source": []
  }
 ],
 "metadata": {
  "kernelspec": {
   "display_name": "Python 3 (ipykernel)",
   "language": "python",
   "name": "python3"
  },
  "language_info": {
   "codemirror_mode": {
    "name": "ipython",
    "version": 3
   },
   "file_extension": ".py",
   "mimetype": "text/x-python",
   "name": "python",
   "nbconvert_exporter": "python",
   "pygments_lexer": "ipython3",
   "version": "3.11.2"
  }
 },
 "nbformat": 4,
 "nbformat_minor": 2
}
