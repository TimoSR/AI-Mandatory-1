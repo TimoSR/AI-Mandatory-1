{
 "cells": [
  {
   "attachments": {},
   "cell_type": "markdown",
   "metadata": {},
   "source": [
    "# Prediction Global Sales of Games"
   ]
  },
  {
   "attachments": {},
   "cell_type": "markdown",
   "metadata": {},
   "source": [
    "## Problem\n",
    "\n",
    "1. Can we accurately predict the global sales of a game before its release using the average of user ratings and critic ratings from previous titles?\n",
    "\n",
    "2. Can we accurately predict the global sales of a game after receiving critic scores but before obtaining user ratings?\n",
    "\n",
    "3. Can we accurately predict the total global sales of a game using all available features, including average user ratings and critic scores from previous titles?"
   ]
  },
  {
   "attachments": {},
   "cell_type": "markdown",
   "metadata": {},
   "source": [
    "## Problem Analysis\n",
    "\n",
    "The problem is a regression problem, as we want to predict a numerical value based on input data.\n",
    "\n",
    "1. Before sale: This scenario involves predicting global sales using only the average of user ratings and critic ratings before the game's release. While it might provide a rough estimate, it may not be as accurate as using all available features. Nonetheless, this approach could still be useful in providing an early indication of the game's potential sales performance.\n",
    "\n",
    "2. After critic score: In this scenario, you would predict global sales after the critic scores are available but before user ratings. This approach might yield better predictions compared to the first scenario since critic scores can be a significant factor in influencing game sales.\n",
    "\n",
    "3. Total sale: This scenario leverages all available features, including user ratings and critic scores, to predict global sales. This approach is likely to provide the most accurate predictions since it takes into account the most information. Starting with this scenario makes sense as it allows the model to learn from the most comprehensive dataset, and later, you can experiment with the other scenarios if needed."
   ]
  },
  {
   "attachments": {},
   "cell_type": "markdown",
   "metadata": {},
   "source": [
    "## Plan for my solution:\n",
    "\n",
    "1. Cleaning data\n",
    "    a. Removing data sets with empty rows\n",
    "2. Save the data into a new clean_games_sales.csv file\n"
   ]
  },
  {
   "attachments": {},
   "cell_type": "markdown",
   "metadata": {},
   "source": [
    "## Step 1: Cleaning Data"
   ]
  },
  {
   "cell_type": "code",
   "execution_count": 5,
   "metadata": {},
   "outputs": [],
   "source": [
    "import csv\n",
    "\n",
    "with open('Video_Games_Sales_as_at_22_Dec_2016.csv', 'r') as csvfile:\n",
    "    reader = csv.reader(csvfile)\n",
    "    csv_data = [row for row in reader if all(row)]\n",
    "\n",
    "with open('Clean_Games_Sales_Data.csv', 'w', newline='') as outfile:\n",
    "     writer = csv.writer(outfile)\n",
    "     writer.writerows(csv_data)"
   ]
  },
  {
   "attachments": {},
   "cell_type": "markdown",
   "metadata": {},
   "source": [
    "The cleaning is confirmed by scrolling through CSV file and comparing it to the orignal."
   ]
  },
  {
   "cell_type": "markdown",
   "metadata": {},
   "source": []
  }
 ],
 "metadata": {
  "kernelspec": {
   "display_name": "Python 3 (ipykernel)",
   "language": "python",
   "name": "python3"
  },
  "language_info": {
   "codemirror_mode": {
    "name": "ipython",
    "version": 3
   },
   "file_extension": ".py",
   "mimetype": "text/x-python",
   "name": "python",
   "nbconvert_exporter": "python",
   "pygments_lexer": "ipython3",
   "version": "3.11.2"
  }
 },
 "nbformat": 4,
 "nbformat_minor": 2
}
